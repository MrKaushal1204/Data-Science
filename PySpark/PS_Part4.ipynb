{
 "cells": [
  {
   "cell_type": "markdown",
   "id": "d63cc024",
   "metadata": {},
   "source": [
    "### Pyspark Dataframe\n",
    "- filter Operation\n",
    "- &,|,==\n",
    "- ~"
   ]
  },
  {
   "cell_type": "code",
   "execution_count": 1,
   "id": "4d65e5f8",
   "metadata": {},
   "outputs": [],
   "source": [
    "from pyspark.sql import SparkSession\n",
    "ps = SparkSession.builder.appName(\"Practice\").getOrCreate()"
   ]
  },
  {
   "cell_type": "code",
   "execution_count": 35,
   "id": "2994672f",
   "metadata": {},
   "outputs": [],
   "source": [
    "df = ps.read.csv('spark.csv',header=True,inferSchema=True)"
   ]
  },
  {
   "cell_type": "code",
   "execution_count": 36,
   "id": "e696fba1",
   "metadata": {},
   "outputs": [
    {
     "name": "stdout",
     "output_type": "stream",
     "text": [
      "+-----+-------+----+------+\n",
      "|Sr.No|   Name| Age|Salary|\n",
      "+-----+-------+----+------+\n",
      "|    1|Kaushal|  26| 42000|\n",
      "|    2| Satyam|  24| 25000|\n",
      "|    3| Shivam|  26|  null|\n",
      "|    4|Ranjeet|  25| 40000|\n",
      "|    5|Ghanavi|null|  null|\n",
      "+-----+-------+----+------+\n",
      "\n"
     ]
    }
   ],
   "source": [
    "df.show()"
   ]
  },
  {
   "cell_type": "code",
   "execution_count": 40,
   "id": "1cf1c70c",
   "metadata": {},
   "outputs": [
    {
     "name": "stdout",
     "output_type": "stream",
     "text": [
      "Object `df.show()` not found.\n"
     ]
    }
   ],
   "source": []
  },
  {
   "cell_type": "code",
   "execution_count": 44,
   "id": "e39a952a",
   "metadata": {},
   "outputs": [
    {
     "name": "stdout",
     "output_type": "stream",
     "text": [
      "+-------+---+\n",
      "|   name|age|\n",
      "+-------+---+\n",
      "|Kaushal| 26|\n",
      "| Satyam| 24|\n",
      "|Ranjeet| 25|\n",
      "+-------+---+\n",
      "\n"
     ]
    }
   ],
   "source": [
    "# Filter Operation\n",
    "df.filter('Salary <45000').select(['name','age']).show()"
   ]
  },
  {
   "cell_type": "code",
   "execution_count": 50,
   "id": "409ce2b3",
   "metadata": {},
   "outputs": [
    {
     "name": "stdout",
     "output_type": "stream",
     "text": [
      "+-----+-------+----+------+\n",
      "|Sr.No|   Name| Age|Salary|\n",
      "+-----+-------+----+------+\n",
      "|    1|Kaushal|  26| 42000|\n",
      "|    2| Satyam|  24| 25000|\n",
      "|    3| Shivam|  26| 50000|\n",
      "|    4|Ranjeet|  25| 40000|\n",
      "|    5|Ghanavi|null| 50000|\n",
      "+-----+-------+----+------+\n",
      "\n"
     ]
    }
   ],
   "source": [
    "df.filter((df['salary']>=25000) & (df['salary']<=50000)).show()"
   ]
  },
  {
   "cell_type": "code",
   "execution_count": 54,
   "id": "376f02d1",
   "metadata": {},
   "outputs": [
    {
     "name": "stdout",
     "output_type": "stream",
     "text": [
      "+-----+------+---+------+\n",
      "|Sr.No|  Name|Age|Salary|\n",
      "+-----+------+---+------+\n",
      "|    2|Satyam| 24| 25000|\n",
      "+-----+------+---+------+\n",
      "\n"
     ]
    }
   ],
   "source": [
    "df.filter(~(df['salary']>=30000)).show()"
   ]
  }
 ],
 "metadata": {
  "kernelspec": {
   "display_name": "Python 3 (ipykernel)",
   "language": "python",
   "name": "python3"
  },
  "language_info": {
   "codemirror_mode": {
    "name": "ipython",
    "version": 3
   },
   "file_extension": ".py",
   "mimetype": "text/x-python",
   "name": "python",
   "nbconvert_exporter": "python",
   "pygments_lexer": "ipython3",
   "version": "3.9.7"
  }
 },
 "nbformat": 4,
 "nbformat_minor": 5
}
