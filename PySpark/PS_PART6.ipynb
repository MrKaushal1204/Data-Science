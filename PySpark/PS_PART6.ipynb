{
 "cells": [
  {
   "cell_type": "code",
   "execution_count": 2,
   "id": "10bc99fb",
   "metadata": {},
   "outputs": [],
   "source": [
    "from pyspark.sql import SparkSession\n",
    "ps = SparkSession.builder.appName(\"Practice\").getOrCreate()"
   ]
  },
  {
   "cell_type": "code",
   "execution_count": 5,
   "id": "7075f832",
   "metadata": {},
   "outputs": [],
   "source": [
    "df = ps.read.csv(\"spark.csv\",header = True,inferSchema = True)"
   ]
  },
  {
   "cell_type": "code",
   "execution_count": 20,
   "id": "efb38970",
   "metadata": {},
   "outputs": [
    {
     "name": "stdout",
     "output_type": "stream",
     "text": [
      "+-----+-------+---+------+\n",
      "|Index|   Name|Age|Salary|\n",
      "+-----+-------+---+------+\n",
      "|    1|Kaushal| 26| 42000|\n",
      "|    2| Satyam| 24| 25000|\n",
      "|    3| Shivam| 26| 30000|\n",
      "|    4|Ranjeet| 25| 40000|\n",
      "|    5|Ghanavi| 23| 50000|\n",
      "|    6|Kaushal| 26| 25000|\n",
      "|    7| Satyam| 24| 16000|\n",
      "|    8|Ranjeet| 25| 20000|\n",
      "|    9|Ghanavi| 23| 15000|\n",
      "+-----+-------+---+------+\n",
      "\n"
     ]
    }
   ],
   "source": [
    "df.show()"
   ]
  },
  {
   "cell_type": "code",
   "execution_count": 19,
   "id": "ff1da195",
   "metadata": {},
   "outputs": [
    {
     "name": "stdout",
     "output_type": "stream",
     "text": [
      "root\n",
      " |-- Sr.No: integer (nullable = true)\n",
      " |-- Name: string (nullable = true)\n",
      " |-- Age: integer (nullable = true)\n",
      " |-- Salary: integer (nullable = true)\n",
      "\n"
     ]
    }
   ],
   "source": [
    "df.printSchema()\n",
    "df=df.withColumnRenamed('Sr.No',\"Index\")"
   ]
  },
  {
   "cell_type": "code",
   "execution_count": 21,
   "id": "c87ba0cb",
   "metadata": {},
   "outputs": [],
   "source": [
    "# Vector Assembler to group all independent features\n",
    "from pyspark.ml.feature import VectorAssembler\n",
    "va= VectorAssembler(inputCols=['Index','Age'],outputCol='independent')"
   ]
  },
  {
   "cell_type": "code",
   "execution_count": 22,
   "id": "e0393e9a",
   "metadata": {},
   "outputs": [],
   "source": [
    "output = va.transform(df)"
   ]
  },
  {
   "cell_type": "code",
   "execution_count": 23,
   "id": "ab8d0519",
   "metadata": {},
   "outputs": [
    {
     "name": "stdout",
     "output_type": "stream",
     "text": [
      "+-----+-------+---+------+-----------+\n",
      "|Index|   Name|Age|Salary|independent|\n",
      "+-----+-------+---+------+-----------+\n",
      "|    1|Kaushal| 26| 42000| [1.0,26.0]|\n",
      "|    2| Satyam| 24| 25000| [2.0,24.0]|\n",
      "|    3| Shivam| 26| 30000| [3.0,26.0]|\n",
      "|    4|Ranjeet| 25| 40000| [4.0,25.0]|\n",
      "|    5|Ghanavi| 23| 50000| [5.0,23.0]|\n",
      "|    6|Kaushal| 26| 25000| [6.0,26.0]|\n",
      "|    7| Satyam| 24| 16000| [7.0,24.0]|\n",
      "|    8|Ranjeet| 25| 20000| [8.0,25.0]|\n",
      "|    9|Ghanavi| 23| 15000| [9.0,23.0]|\n",
      "+-----+-------+---+------+-----------+\n",
      "\n"
     ]
    }
   ],
   "source": [
    "output.show()"
   ]
  },
  {
   "cell_type": "code",
   "execution_count": 24,
   "id": "c2a6bc2b",
   "metadata": {},
   "outputs": [
    {
     "data": {
      "text/plain": [
       "['Index', 'Name', 'Age', 'Salary', 'independent']"
      ]
     },
     "execution_count": 24,
     "metadata": {},
     "output_type": "execute_result"
    }
   ],
   "source": [
    "output.columns"
   ]
  },
  {
   "cell_type": "code",
   "execution_count": 25,
   "id": "f7c7a896",
   "metadata": {},
   "outputs": [],
   "source": [
    "final=output.select(['independent','salary'])"
   ]
  },
  {
   "cell_type": "code",
   "execution_count": 26,
   "id": "0e9abb7a",
   "metadata": {},
   "outputs": [
    {
     "name": "stdout",
     "output_type": "stream",
     "text": [
      "+-----------+------+\n",
      "|independent|salary|\n",
      "+-----------+------+\n",
      "| [1.0,26.0]| 42000|\n",
      "| [2.0,24.0]| 25000|\n",
      "| [3.0,26.0]| 30000|\n",
      "| [4.0,25.0]| 40000|\n",
      "| [5.0,23.0]| 50000|\n",
      "| [6.0,26.0]| 25000|\n",
      "| [7.0,24.0]| 16000|\n",
      "| [8.0,25.0]| 20000|\n",
      "| [9.0,23.0]| 15000|\n",
      "+-----------+------+\n",
      "\n"
     ]
    }
   ],
   "source": [
    "final.show()"
   ]
  },
  {
   "cell_type": "code",
   "execution_count": 27,
   "id": "626685d7",
   "metadata": {},
   "outputs": [],
   "source": [
    "from pyspark.ml.regression import LinearRegression\n",
    "train,test=final.randomSplit([0.75,0.25])\n",
    "lm = LinearRegression(featuresCol='independent',labelCol='salary')\n",
    "lm = lm.fit(train)"
   ]
  },
  {
   "cell_type": "code",
   "execution_count": 28,
   "id": "92dcbd46",
   "metadata": {},
   "outputs": [
    {
     "data": {
      "text/plain": [
       "DenseVector([-5012.9397, -5415.6894])"
      ]
     },
     "execution_count": 28,
     "metadata": {},
     "output_type": "execute_result"
    }
   ],
   "source": [
    "lm.coefficients"
   ]
  },
  {
   "cell_type": "code",
   "execution_count": 29,
   "id": "9ea1c17a",
   "metadata": {},
   "outputs": [
    {
     "data": {
      "text/plain": [
       "190059.8463404566"
      ]
     },
     "execution_count": 29,
     "metadata": {},
     "output_type": "execute_result"
    }
   ],
   "source": [
    "lm.intercept"
   ]
  },
  {
   "cell_type": "code",
   "execution_count": 30,
   "id": "c7680197",
   "metadata": {},
   "outputs": [],
   "source": [
    "pred_res=lm.evaluate(test)"
   ]
  },
  {
   "cell_type": "code",
   "execution_count": 31,
   "id": "5d0dbad3",
   "metadata": {},
   "outputs": [
    {
     "name": "stdout",
     "output_type": "stream",
     "text": [
      "+-----------+------+-----------------+\n",
      "|independent|salary|       prediction|\n",
      "+-----------+------+-----------------+\n",
      "| [2.0,24.0]| 25000|50057.42013748351|\n",
      "| [4.0,25.0]| 40000|34615.85119288301|\n",
      "+-----------+------+-----------------+\n",
      "\n"
     ]
    }
   ],
   "source": [
    "pred_res.predictions.show()"
   ]
  },
  {
   "cell_type": "code",
   "execution_count": null,
   "id": "f519f1b8",
   "metadata": {},
   "outputs": [],
   "source": []
  }
 ],
 "metadata": {
  "kernelspec": {
   "display_name": "Python 3 (ipykernel)",
   "language": "python",
   "name": "python3"
  },
  "language_info": {
   "codemirror_mode": {
    "name": "ipython",
    "version": 3
   },
   "file_extension": ".py",
   "mimetype": "text/x-python",
   "name": "python",
   "nbconvert_exporter": "python",
   "pygments_lexer": "ipython3",
   "version": "3.9.7"
  }
 },
 "nbformat": 4,
 "nbformat_minor": 5
}
