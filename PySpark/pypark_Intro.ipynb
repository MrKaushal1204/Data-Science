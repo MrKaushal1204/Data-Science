{
 "cells": [
  {
   "cell_type": "code",
   "execution_count": 2,
   "id": "f575d07b",
   "metadata": {},
   "outputs": [
    {
     "name": "stdout",
     "output_type": "stream",
     "text": [
      "Requirement already satisfied: pyspark in c:\\users\\kaushal.kishor\\anaconda3\\lib\\site-packages (3.3.1)\n",
      "Requirement already satisfied: py4j==0.10.9.5 in c:\\users\\kaushal.kishor\\anaconda3\\lib\\site-packages (from pyspark) (0.10.9.5)\n"
     ]
    }
   ],
   "source": [
    "!pip install pyspark"
   ]
  },
  {
   "cell_type": "code",
   "execution_count": null,
   "id": "cce97093",
   "metadata": {},
   "outputs": [],
   "source": [
    "import pyspark"
   ]
  },
  {
   "cell_type": "code",
   "execution_count": 37,
   "id": "f4c226b1",
   "metadata": {},
   "outputs": [
    {
     "data": {
      "text/html": [
       "<div>\n",
       "<style scoped>\n",
       "    .dataframe tbody tr th:only-of-type {\n",
       "        vertical-align: middle;\n",
       "    }\n",
       "\n",
       "    .dataframe tbody tr th {\n",
       "        vertical-align: top;\n",
       "    }\n",
       "\n",
       "    .dataframe thead th {\n",
       "        text-align: right;\n",
       "    }\n",
       "</style>\n",
       "<table border=\"1\" class=\"dataframe\">\n",
       "  <thead>\n",
       "    <tr style=\"text-align: right;\">\n",
       "      <th></th>\n",
       "      <th>Sr.No</th>\n",
       "      <th>Name</th>\n",
       "      <th>Age</th>\n",
       "    </tr>\n",
       "  </thead>\n",
       "  <tbody>\n",
       "    <tr>\n",
       "      <th>0</th>\n",
       "      <td>1</td>\n",
       "      <td>Kaushal</td>\n",
       "      <td>26</td>\n",
       "    </tr>\n",
       "    <tr>\n",
       "      <th>1</th>\n",
       "      <td>2</td>\n",
       "      <td>Satyam</td>\n",
       "      <td>24</td>\n",
       "    </tr>\n",
       "    <tr>\n",
       "      <th>2</th>\n",
       "      <td>3</td>\n",
       "      <td>Shivam</td>\n",
       "      <td>26</td>\n",
       "    </tr>\n",
       "    <tr>\n",
       "      <th>3</th>\n",
       "      <td>4</td>\n",
       "      <td>Ranjeet</td>\n",
       "      <td>25</td>\n",
       "    </tr>\n",
       "  </tbody>\n",
       "</table>\n",
       "</div>"
      ],
      "text/plain": [
       "   Sr.No     Name  Age\n",
       "0      1  Kaushal   26\n",
       "1      2   Satyam   24\n",
       "2      3   Shivam   26\n",
       "3      4  Ranjeet   25"
      ]
     },
     "execution_count": 37,
     "metadata": {},
     "output_type": "execute_result"
    }
   ],
   "source": [
    "import pandas as pd\n",
    "import warnings\n",
    "warnings.filterwarnings('ignore')\n",
    "df =pd.read_excel(\"spark.xlsx\")\n",
    "df.to_csv(\"spark.csv\")\n",
    "df.head()"
   ]
  },
  {
   "cell_type": "code",
   "execution_count": 38,
   "id": "f283062d",
   "metadata": {},
   "outputs": [],
   "source": [
    "from pyspark.sql import SparkSession"
   ]
  },
  {
   "cell_type": "code",
   "execution_count": 39,
   "id": "27f7940b",
   "metadata": {},
   "outputs": [],
   "source": [
    "spark = SparkSession.builder.appName(\"Practice\").getOrCreate()"
   ]
  },
  {
   "cell_type": "code",
   "execution_count": 40,
   "id": "a65683e3",
   "metadata": {},
   "outputs": [
    {
     "data": {
      "text/html": [
       "\n",
       "            <div>\n",
       "                <p><b>SparkSession - in-memory</b></p>\n",
       "                \n",
       "        <div>\n",
       "            <p><b>SparkContext</b></p>\n",
       "\n",
       "            <p><a href=\"http://PT-PTL-011.Pratian.com:4040\">Spark UI</a></p>\n",
       "\n",
       "            <dl>\n",
       "              <dt>Version</dt>\n",
       "                <dd><code>v3.3.1</code></dd>\n",
       "              <dt>Master</dt>\n",
       "                <dd><code>local[*]</code></dd>\n",
       "              <dt>AppName</dt>\n",
       "                <dd><code>Practice</code></dd>\n",
       "            </dl>\n",
       "        </div>\n",
       "        \n",
       "            </div>\n",
       "        "
      ],
      "text/plain": [
       "<pyspark.sql.session.SparkSession at 0x1f65a3da8b0>"
      ]
     },
     "execution_count": 40,
     "metadata": {},
     "output_type": "execute_result"
    }
   ],
   "source": [
    "spark"
   ]
  },
  {
   "cell_type": "code",
   "execution_count": 49,
   "id": "0b922ef6",
   "metadata": {},
   "outputs": [],
   "source": [
    "df_pyspark=spark.read.option(\"header\",\"true\").csv(\"spark.csv\")"
   ]
  },
  {
   "cell_type": "code",
   "execution_count": 50,
   "id": "3a107401",
   "metadata": {},
   "outputs": [
    {
     "name": "stdout",
     "output_type": "stream",
     "text": [
      "+---+-----+-------+---+\n",
      "|_c0|Sr.No|   Name|Age|\n",
      "+---+-----+-------+---+\n",
      "|  0|    1|Kaushal| 26|\n",
      "|  1|    2| Satyam| 24|\n",
      "|  2|    3| Shivam| 26|\n",
      "|  3|    4|Ranjeet| 25|\n",
      "+---+-----+-------+---+\n",
      "\n"
     ]
    }
   ],
   "source": [
    "df_pyspark.show()"
   ]
  },
  {
   "cell_type": "code",
   "execution_count": 32,
   "id": "6460cf99",
   "metadata": {},
   "outputs": [
    {
     "name": "stdout",
     "output_type": "stream",
     "text": [
      "root\n",
      " |-- _c0: string (nullable = true)\n",
      " |-- Unnamed: 0: string (nullable = true)\n",
      " |-- Unnamed: 1: string (nullable = true)\n",
      " |-- Unnamed: 2: string (nullable = true)\n",
      " |-- Unnamed: 3: string (nullable = true)\n",
      " |-- Unnamed: 4: string (nullable = true)\n",
      " |-- Unnamed: 5: string (nullable = true)\n",
      " |-- Unnamed: 6: string (nullable = true)\n",
      " |-- Unnamed: 7: string (nullable = true)\n",
      " |-- Unnamed: 8: string (nullable = true)\n",
      " |-- Unnamed: 9: string (nullable = true)\n",
      " |-- Unnamed: 10: string (nullable = true)\n",
      " |-- Unnamed: 11: string (nullable = true)\n",
      " |-- Unnamed: 12: string (nullable = true)\n",
      " |-- Unnamed: 13: string (nullable = true)\n",
      " |-- Unnamed: 14: string (nullable = true)\n",
      " |-- Unnamed: 15: string (nullable = true)\n",
      " |-- Unnamed: 16: string (nullable = true)\n",
      " |-- Unnamed: 17: string (nullable = true)\n",
      " |-- Unnamed: 18: string (nullable = true)\n",
      " |-- Unnamed: 19: string (nullable = true)\n",
      " |-- Unnamed: 20: string (nullable = true)\n",
      " |-- Unnamed: 21: string (nullable = true)\n",
      " |-- Unnamed: 22: string (nullable = true)\n",
      " |-- Unnamed: 23: string (nullable = true)\n",
      " |-- Unnamed: 24: string (nullable = true)\n",
      " |-- Unnamed: 25: string (nullable = true)\n",
      " |-- Unnamed: 26: string (nullable = true)\n",
      " |-- Unnamed: 27: string (nullable = true)\n",
      " |-- Unnamed: 28: string (nullable = true)\n",
      " |-- Unnamed: 29: string (nullable = true)\n",
      " |-- Unnamed: 30: string (nullable = true)\n",
      " |-- Unnamed: 31: string (nullable = true)\n",
      " |-- Unnamed: 32: string (nullable = true)\n",
      " |-- Unnamed: 33: string (nullable = true)\n",
      " |-- Unnamed: 34: string (nullable = true)\n",
      " |-- Unnamed: 35: string (nullable = true)\n",
      " |-- Unnamed: 36: string (nullable = true)\n",
      " |-- Unnamed: 37: string (nullable = true)\n",
      " |-- Unnamed: 38: string (nullable = true)\n",
      "\n"
     ]
    }
   ],
   "source": [
    "df_pyspark.printSchema()"
   ]
  },
  {
   "cell_type": "code",
   "execution_count": null,
   "id": "9772c88b",
   "metadata": {},
   "outputs": [],
   "source": []
  }
 ],
 "metadata": {
  "kernelspec": {
   "display_name": "Python 3 (ipykernel)",
   "language": "python",
   "name": "python3"
  },
  "language_info": {
   "codemirror_mode": {
    "name": "ipython",
    "version": 3
   },
   "file_extension": ".py",
   "mimetype": "text/x-python",
   "name": "python",
   "nbconvert_exporter": "python",
   "pygments_lexer": "ipython3",
   "version": "3.9.7"
  }
 },
 "nbformat": 4,
 "nbformat_minor": 5
}
