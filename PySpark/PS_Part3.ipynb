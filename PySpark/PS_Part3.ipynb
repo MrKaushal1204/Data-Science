{
 "cells": [
  {
   "cell_type": "markdown",
   "id": "610f54d6",
   "metadata": {},
   "source": [
    "## Pyspark Handling Missing Values\n",
    "\n",
    "- Dropping Columns\n",
    "- Dropping Rows\n",
    "- Various Parameter in Dropping functionalities\n",
    "* Handling Missing values by Mean, Meadian And Mode\n"
   ]
  },
  {
   "cell_type": "code",
   "execution_count": 1,
   "id": "69049c1e",
   "metadata": {},
   "outputs": [],
   "source": [
    "from pyspark.sql import SparkSession\n"
   ]
  },
  {
   "cell_type": "code",
   "execution_count": 2,
   "id": "a51d3dec",
   "metadata": {},
   "outputs": [],
   "source": [
    "ps = SparkSession.builder.appName(\"Practice\").getOrCreate()"
   ]
  },
  {
   "cell_type": "code",
   "execution_count": 3,
   "id": "829bb54c",
   "metadata": {},
   "outputs": [
    {
     "data": {
      "text/html": [
       "\n",
       "            <div>\n",
       "                <p><b>SparkSession - in-memory</b></p>\n",
       "                \n",
       "        <div>\n",
       "            <p><b>SparkContext</b></p>\n",
       "\n",
       "            <p><a href=\"http://PT-PTL-011.Pratian.com:4042\">Spark UI</a></p>\n",
       "\n",
       "            <dl>\n",
       "              <dt>Version</dt>\n",
       "                <dd><code>v3.3.1</code></dd>\n",
       "              <dt>Master</dt>\n",
       "                <dd><code>local[*]</code></dd>\n",
       "              <dt>AppName</dt>\n",
       "                <dd><code>Practice</code></dd>\n",
       "            </dl>\n",
       "        </div>\n",
       "        \n",
       "            </div>\n",
       "        "
      ],
      "text/plain": [
       "<pyspark.sql.session.SparkSession at 0x2223c9acb20>"
      ]
     },
     "execution_count": 3,
     "metadata": {},
     "output_type": "execute_result"
    }
   ],
   "source": [
    "ps"
   ]
  },
  {
   "cell_type": "code",
   "execution_count": 29,
   "id": "8ecdb018",
   "metadata": {},
   "outputs": [
    {
     "name": "stdout",
     "output_type": "stream",
     "text": [
      "+-----+-------+----+------+\n",
      "|Sr.No|   Name| Age|Salary|\n",
      "+-----+-------+----+------+\n",
      "|    1|Kaushal|  26| 42000|\n",
      "|    2| Satyam|  24| 25000|\n",
      "|    3| Shivam|  26|  null|\n",
      "|    4|Ranjeet|  25| 40000|\n",
      "|    5|Ghanavi|null|  null|\n",
      "+-----+-------+----+------+\n",
      "\n"
     ]
    }
   ],
   "source": [
    "df = ps.read.option('header','true').csv('spark.csv',inferSchema=True)\n",
    "df.show()"
   ]
  },
  {
   "cell_type": "code",
   "execution_count": 5,
   "id": "e90f82be",
   "metadata": {},
   "outputs": [
    {
     "name": "stdout",
     "output_type": "stream",
     "text": [
      "root\n",
      " |-- Sr.No: integer (nullable = true)\n",
      " |-- Name: string (nullable = true)\n",
      " |-- Age: integer (nullable = true)\n",
      " |-- Salary: integer (nullable = true)\n",
      "\n"
     ]
    }
   ],
   "source": [
    "df.printSchema()"
   ]
  },
  {
   "cell_type": "code",
   "execution_count": 19,
   "id": "b5dcc6e5",
   "metadata": {},
   "outputs": [
    {
     "name": "stdout",
     "output_type": "stream",
     "text": [
      "+-----+-------+---+------+\n",
      "|Index|   Name|Age|Salary|\n",
      "+-----+-------+---+------+\n",
      "|    1|Kaushal| 26| 42000|\n",
      "|    2| Satyam| 24| 25000|\n",
      "|    3| Shivam| 26|    10|\n",
      "|    4|Ranjeet| 25| 40000|\n",
      "|    5|Ghanavi| 10|    10|\n",
      "+-----+-------+---+------+\n",
      "\n"
     ]
    }
   ],
   "source": [
    "# drop the columns\n",
    "df = df.withColumnRenamed(\"Sr.No\",\"Index\")\n",
    "df.show()"
   ]
  },
  {
   "cell_type": "code",
   "execution_count": 7,
   "id": "bf254a49",
   "metadata": {},
   "outputs": [
    {
     "name": "stdout",
     "output_type": "stream",
     "text": [
      "+-----+-------+----+------+\n",
      "|Index|   Name| Age|Salary|\n",
      "+-----+-------+----+------+\n",
      "|    1|Kaushal|  26| 42000|\n",
      "|    2| Satyam|  24| 25000|\n",
      "|    3| Shivam|  26|  null|\n",
      "|    4|Ranjeet|  25| 40000|\n",
      "|    5|Ghanavi|null|  null|\n",
      "+-----+-------+----+------+\n",
      "\n"
     ]
    }
   ],
   "source": [
    "df.na.drop(how=\"all\").show()"
   ]
  },
  {
   "cell_type": "code",
   "execution_count": 8,
   "id": "8b8fe984",
   "metadata": {},
   "outputs": [
    {
     "name": "stdout",
     "output_type": "stream",
     "text": [
      "+-----+-------+---+------+\n",
      "|Index|   Name|Age|Salary|\n",
      "+-----+-------+---+------+\n",
      "|    1|Kaushal| 26| 42000|\n",
      "|    2| Satyam| 24| 25000|\n",
      "|    4|Ranjeet| 25| 40000|\n",
      "+-----+-------+---+------+\n",
      "\n"
     ]
    }
   ],
   "source": [
    "df.na.drop(how=\"any\").show()"
   ]
  },
  {
   "cell_type": "code",
   "execution_count": 9,
   "id": "1a3e5642",
   "metadata": {},
   "outputs": [
    {
     "name": "stdout",
     "output_type": "stream",
     "text": [
      "+-----+-------+---+------+\n",
      "|Index|   Name|Age|Salary|\n",
      "+-----+-------+---+------+\n",
      "|    1|Kaushal| 26| 42000|\n",
      "|    2| Satyam| 24| 25000|\n",
      "|    3| Shivam| 26|  null|\n",
      "|    4|Ranjeet| 25| 40000|\n",
      "+-----+-------+---+------+\n",
      "\n"
     ]
    }
   ],
   "source": [
    "# If there are 3 non null values then it will keep the record else it will drop the record\n",
    "df.na.drop(how=\"any\",thresh=3).show()"
   ]
  },
  {
   "cell_type": "code",
   "execution_count": 18,
   "id": "55b486e7",
   "metadata": {},
   "outputs": [
    {
     "name": "stdout",
     "output_type": "stream",
     "text": [
      "+-----+-------+---+------+\n",
      "|Index|   Name|Age|Salary|\n",
      "+-----+-------+---+------+\n",
      "|    1|Kaushal| 26| 42000|\n",
      "|    2| Satyam| 24| 25000|\n",
      "|    3| Shivam| 26|    10|\n",
      "|    4|Ranjeet| 25| 40000|\n",
      "|    5|Ghanavi| 10|    10|\n",
      "+-----+-------+---+------+\n",
      "\n"
     ]
    }
   ],
   "source": [
    "df.na.drop(how=\"any\",subset=['Age']).show()"
   ]
  },
  {
   "cell_type": "code",
   "execution_count": 37,
   "id": "34aa4cfa",
   "metadata": {},
   "outputs": [
    {
     "name": "stdout",
     "output_type": "stream",
     "text": [
      "+-----+-------+---+------+\n",
      "|Sr.No|   Name|Age|Salary|\n",
      "+-----+-------+---+------+\n",
      "|    1|Kaushal| 26| 42000|\n",
      "|    2| Satyam| 24| 25000|\n",
      "|    3| Shivam| 26|    22|\n",
      "|    4|Ranjeet| 25| 40000|\n",
      "|    5|Ghanavi| 22|    22|\n",
      "+-----+-------+---+------+\n",
      "\n"
     ]
    }
   ],
   "source": [
    "# Filling the missing values\n",
    "df.na.fill(22,['Salary','age']).show()\n",
    "# df.show()"
   ]
  },
  {
   "cell_type": "code",
   "execution_count": 41,
   "id": "d4a21d7a",
   "metadata": {},
   "outputs": [],
   "source": [
    "from pyspark.ml.feature import Imputer\n",
    "imputer = Imputer(\n",
    "    inputCols=['Age','Salary'],\n",
    "    outputCols=[\"{}_imputed\".format(c) for c in ['Age','Salary']]\n",
    "    ).setStrategy('mean')"
   ]
  },
  {
   "cell_type": "code",
   "execution_count": 42,
   "id": "90257fec",
   "metadata": {},
   "outputs": [
    {
     "name": "stdout",
     "output_type": "stream",
     "text": [
      "+-----+-------+----+------+-----------+--------------+\n",
      "|Sr.No|   Name| Age|Salary|Age_imputed|Salary_imputed|\n",
      "+-----+-------+----+------+-----------+--------------+\n",
      "|    1|Kaushal|  26| 42000|         26|         42000|\n",
      "|    2| Satyam|  24| 25000|         24|         25000|\n",
      "|    3| Shivam|  26|  null|         26|         35666|\n",
      "|    4|Ranjeet|  25| 40000|         25|         40000|\n",
      "|    5|Ghanavi|null|  null|         25|         35666|\n",
      "+-----+-------+----+------+-----------+--------------+\n",
      "\n"
     ]
    }
   ],
   "source": [
    "imputer.fit(df).transform(df).show()"
   ]
  },
  {
   "cell_type": "code",
   "execution_count": null,
   "id": "f7ed24bc",
   "metadata": {},
   "outputs": [],
   "source": []
  }
 ],
 "metadata": {
  "kernelspec": {
   "display_name": "Python 3 (ipykernel)",
   "language": "python",
   "name": "python3"
  },
  "language_info": {
   "codemirror_mode": {
    "name": "ipython",
    "version": 3
   },
   "file_extension": ".py",
   "mimetype": "text/x-python",
   "name": "python",
   "nbconvert_exporter": "python",
   "pygments_lexer": "ipython3",
   "version": "3.9.7"
  }
 },
 "nbformat": 4,
 "nbformat_minor": 5
}
