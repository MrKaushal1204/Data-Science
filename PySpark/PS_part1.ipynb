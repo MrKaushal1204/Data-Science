{
 "cells": [
  {
   "cell_type": "code",
   "execution_count": 2,
   "id": "abf584fa",
   "metadata": {},
   "outputs": [],
   "source": [
    "from pyspark.sql import SparkSession\n",
    "sp = SparkSession.builder.appName(\"Dataframe\").getOrCreate()"
   ]
  },
  {
   "cell_type": "code",
   "execution_count": 3,
   "id": "5cb9a0ac",
   "metadata": {},
   "outputs": [
    {
     "data": {
      "text/html": [
       "\n",
       "            <div>\n",
       "                <p><b>SparkSession - in-memory</b></p>\n",
       "                \n",
       "        <div>\n",
       "            <p><b>SparkContext</b></p>\n",
       "\n",
       "            <p><a href=\"http://PT-PTL-011.Pratian.com:4041\">Spark UI</a></p>\n",
       "\n",
       "            <dl>\n",
       "              <dt>Version</dt>\n",
       "                <dd><code>v3.3.1</code></dd>\n",
       "              <dt>Master</dt>\n",
       "                <dd><code>local[*]</code></dd>\n",
       "              <dt>AppName</dt>\n",
       "                <dd><code>Dataframe</code></dd>\n",
       "            </dl>\n",
       "        </div>\n",
       "        \n",
       "            </div>\n",
       "        "
      ],
      "text/plain": [
       "<pyspark.sql.session.SparkSession at 0x12e3de9c880>"
      ]
     },
     "execution_count": 3,
     "metadata": {},
     "output_type": "execute_result"
    }
   ],
   "source": [
    "sp"
   ]
  },
  {
   "cell_type": "code",
   "execution_count": 58,
   "id": "6321a534",
   "metadata": {},
   "outputs": [
    {
     "name": "stdout",
     "output_type": "stream",
     "text": [
      "+-----+-------+---+\n",
      "|Sr.No|   Name|Age|\n",
      "+-----+-------+---+\n",
      "|    1|Kaushal| 26|\n",
      "|    2| Satyam| 24|\n",
      "|    3| Shivam| 26|\n",
      "|    4|Ranjeet| 25|\n",
      "+-----+-------+---+\n",
      "\n"
     ]
    }
   ],
   "source": [
    "# read the dataset\n",
    "\n",
    "# Option 1\n",
    "df=sp.read.option('header','true').csv('spark.csv',inferSchema=True)\n",
    "df.show()"
   ]
  },
  {
   "cell_type": "code",
   "execution_count": 13,
   "id": "3ec0459e",
   "metadata": {},
   "outputs": [
    {
     "name": "stdout",
     "output_type": "stream",
     "text": [
      "root\n",
      " |-- Sr.No: integer (nullable = true)\n",
      " |-- Name: string (nullable = true)\n",
      " |-- Age: integer (nullable = true)\n",
      "\n"
     ]
    }
   ],
   "source": [
    "df.printSchema()"
   ]
  },
  {
   "cell_type": "code",
   "execution_count": 14,
   "id": "2033f95c",
   "metadata": {},
   "outputs": [
    {
     "data": {
      "text/plain": [
       "['Sr.No', 'Name', 'Age']"
      ]
     },
     "execution_count": 14,
     "metadata": {},
     "output_type": "execute_result"
    }
   ],
   "source": [
    "df.columns"
   ]
  },
  {
   "cell_type": "code",
   "execution_count": 17,
   "id": "f16445d9",
   "metadata": {},
   "outputs": [
    {
     "data": {
      "text/plain": [
       "[Row(Sr.No=1, Name='Kaushal', Age=26),\n",
       " Row(Sr.No=2, Name='Satyam', Age=24),\n",
       " Row(Sr.No=3, Name='Shivam', Age=26)]"
      ]
     },
     "execution_count": 17,
     "metadata": {},
     "output_type": "execute_result"
    }
   ],
   "source": [
    "df.head(3)"
   ]
  },
  {
   "cell_type": "code",
   "execution_count": 24,
   "id": "bee5b085",
   "metadata": {},
   "outputs": [
    {
     "name": "stdout",
     "output_type": "stream",
     "text": [
      "+-------+---+\n",
      "|   Name|Age|\n",
      "+-------+---+\n",
      "|Kaushal| 26|\n",
      "| Satyam| 24|\n",
      "| Shivam| 26|\n",
      "|Ranjeet| 25|\n",
      "+-------+---+\n",
      "\n"
     ]
    }
   ],
   "source": [
    "df.select(['Name','Age']).show()"
   ]
  },
  {
   "cell_type": "code",
   "execution_count": 25,
   "id": "fa951d97",
   "metadata": {},
   "outputs": [
    {
     "data": {
      "text/plain": [
       "[('Sr.No', 'int'), ('Name', 'string'), ('Age', 'int')]"
      ]
     },
     "execution_count": 25,
     "metadata": {},
     "output_type": "execute_result"
    }
   ],
   "source": [
    "df.dtypes"
   ]
  },
  {
   "cell_type": "code",
   "execution_count": 31,
   "id": "03cf8f17",
   "metadata": {},
   "outputs": [
    {
     "name": "stdout",
     "output_type": "stream",
     "text": [
      "+-------+------------------+-------+-----------------+\n",
      "|summary|             Sr.No|   Name|              Age|\n",
      "+-------+------------------+-------+-----------------+\n",
      "|  count|                 4|      4|                4|\n",
      "|   mean|               2.5|   null|            25.25|\n",
      "| stddev|1.2909944487358056|   null|0.957427107756338|\n",
      "|    min|                 1|Kaushal|               24|\n",
      "|    max|                 4| Shivam|               26|\n",
      "+-------+------------------+-------+-----------------+\n",
      "\n"
     ]
    }
   ],
   "source": [
    "df.describe().show()"
   ]
  },
  {
   "cell_type": "code",
   "execution_count": 40,
   "id": "a2c79728",
   "metadata": {
    "scrolled": true
   },
   "outputs": [],
   "source": [
    "# Adding column in pyspark\n",
    "df = df.withColumn('Age after 2 yrs',df['Age']+2)"
   ]
  },
  {
   "cell_type": "code",
   "execution_count": 51,
   "id": "a6bfd2be",
   "metadata": {},
   "outputs": [
    {
     "ename": "AttributeError",
     "evalue": "'NoneType' object has no attribute 'show'",
     "output_type": "error",
     "traceback": [
      "\u001b[1;31m---------------------------------------------------------------------------\u001b[0m",
      "\u001b[1;31mAttributeError\u001b[0m                            Traceback (most recent call last)",
      "\u001b[1;32mC:\\Users\\KAUSHA~1.KIS\\AppData\\Local\\Temp/ipykernel_20732/3726558592.py\u001b[0m in \u001b[0;36m<module>\u001b[1;34m\u001b[0m\n\u001b[1;32m----> 1\u001b[1;33m \u001b[0mdf\u001b[0m\u001b[1;33m.\u001b[0m\u001b[0mshow\u001b[0m\u001b[1;33m(\u001b[0m\u001b[1;33m)\u001b[0m\u001b[1;33m\u001b[0m\u001b[1;33m\u001b[0m\u001b[0m\n\u001b[0m",
      "\u001b[1;31mAttributeError\u001b[0m: 'NoneType' object has no attribute 'show'"
     ]
    }
   ],
   "source": [
    "df.show()"
   ]
  },
  {
   "cell_type": "code",
   "execution_count": 63,
   "id": "88f92202",
   "metadata": {},
   "outputs": [],
   "source": [
    "# df = df.drop('Age after 2 yrs')"
   ]
  },
  {
   "cell_type": "code",
   "execution_count": 61,
   "id": "51878a51",
   "metadata": {},
   "outputs": [],
   "source": [
    "# Renaming column\n",
    "df = df.withColumnRenamed('Name','Your_Name')"
   ]
  },
  {
   "cell_type": "code",
   "execution_count": 62,
   "id": "22855f97",
   "metadata": {},
   "outputs": [
    {
     "name": "stdout",
     "output_type": "stream",
     "text": [
      "+-----+---------+---+\n",
      "|Sr.No|Your_Name|Age|\n",
      "+-----+---------+---+\n",
      "|    1|  Kaushal| 26|\n",
      "|    2|   Satyam| 24|\n",
      "|    3|   Shivam| 26|\n",
      "|    4|  Ranjeet| 25|\n",
      "+-----+---------+---+\n",
      "\n"
     ]
    }
   ],
   "source": [
    "df.show()"
   ]
  },
  {
   "cell_type": "code",
   "execution_count": null,
   "id": "1ab5f4c8",
   "metadata": {},
   "outputs": [],
   "source": []
  }
 ],
 "metadata": {
  "kernelspec": {
   "display_name": "Python 3 (ipykernel)",
   "language": "python",
   "name": "python3"
  },
  "language_info": {
   "codemirror_mode": {
    "name": "ipython",
    "version": 3
   },
   "file_extension": ".py",
   "mimetype": "text/x-python",
   "name": "python",
   "nbconvert_exporter": "python",
   "pygments_lexer": "ipython3",
   "version": "3.9.7"
  }
 },
 "nbformat": 4,
 "nbformat_minor": 5
}
