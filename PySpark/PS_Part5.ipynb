{
 "cells": [
  {
   "cell_type": "code",
   "execution_count": 7,
   "id": "5bc381f8",
   "metadata": {},
   "outputs": [
    {
     "data": {
      "text/html": [
       "\n",
       "            <div>\n",
       "                <p><b>SparkSession - in-memory</b></p>\n",
       "                \n",
       "        <div>\n",
       "            <p><b>SparkContext</b></p>\n",
       "\n",
       "            <p><a href=\"http://PT-PTL-011.Pratian.com:4040\">Spark UI</a></p>\n",
       "\n",
       "            <dl>\n",
       "              <dt>Version</dt>\n",
       "                <dd><code>v3.3.1</code></dd>\n",
       "              <dt>Master</dt>\n",
       "                <dd><code>local[*]</code></dd>\n",
       "              <dt>AppName</dt>\n",
       "                <dd><code>Practice</code></dd>\n",
       "            </dl>\n",
       "        </div>\n",
       "        \n",
       "            </div>\n",
       "        "
      ],
      "text/plain": [
       "<pyspark.sql.session.SparkSession at 0x1e874c68880>"
      ]
     },
     "execution_count": 7,
     "metadata": {},
     "output_type": "execute_result"
    }
   ],
   "source": [
    "from pyspark.sql import SparkSession\n",
    "ps = SparkSession.builder.appName(\"Practice\").getOrCreate()\n",
    "ps"
   ]
  },
  {
   "cell_type": "code",
   "execution_count": 10,
   "id": "97dc7972",
   "metadata": {},
   "outputs": [],
   "source": [
    "df = ps.read.csv(\"spark.csv\",header=True,inferSchema=True)"
   ]
  },
  {
   "cell_type": "code",
   "execution_count": 11,
   "id": "ce93578d",
   "metadata": {},
   "outputs": [
    {
     "name": "stdout",
     "output_type": "stream",
     "text": [
      "+-----+-------+---+------+\n",
      "|Sr.No|   Name|Age|Salary|\n",
      "+-----+-------+---+------+\n",
      "|    1|Kaushal| 26| 42000|\n",
      "|    2| Satyam| 24| 25000|\n",
      "|    3| Shivam| 26| 30000|\n",
      "|    4|Ranjeet| 25| 40000|\n",
      "|    5|Ghanavi| 23| 50000|\n",
      "|    6|Kaushal| 26| 25000|\n",
      "|    7| Satyam| 24| 16000|\n",
      "|    8|Ranjeet| 25| 20000|\n",
      "|    9|Ghanavi| 23| 15000|\n",
      "+-----+-------+---+------+\n",
      "\n"
     ]
    }
   ],
   "source": [
    "df.show()"
   ]
  },
  {
   "cell_type": "code",
   "execution_count": 12,
   "id": "8f8a3513",
   "metadata": {},
   "outputs": [
    {
     "name": "stdout",
     "output_type": "stream",
     "text": [
      "root\n",
      " |-- Sr.No: integer (nullable = true)\n",
      " |-- Name: string (nullable = true)\n",
      " |-- Age: integer (nullable = true)\n",
      " |-- Salary: integer (nullable = true)\n",
      "\n"
     ]
    }
   ],
   "source": [
    "df.printSchema()"
   ]
  },
  {
   "cell_type": "code",
   "execution_count": 34,
   "id": "63c5364f",
   "metadata": {},
   "outputs": [
    {
     "name": "stdout",
     "output_type": "stream",
     "text": [
      "+-------+-----------+\n",
      "|   Name|sum(salary)|\n",
      "+-------+-----------+\n",
      "|Ranjeet|      60000|\n",
      "|Kaushal|      67000|\n",
      "| Shivam|      30000|\n",
      "| Satyam|      41000|\n",
      "|Ghanavi|      65000|\n",
      "+-------+-----------+\n",
      "\n"
     ]
    }
   ],
   "source": [
    "# GroupBy\n",
    "\n",
    "df.groupBy('Name').sum('salary').show()"
   ]
  },
  {
   "cell_type": "code",
   "execution_count": 35,
   "id": "feaee20c",
   "metadata": {},
   "outputs": [
    {
     "name": "stdout",
     "output_type": "stream",
     "text": [
      "+-------+-----+\n",
      "|   Name|count|\n",
      "+-------+-----+\n",
      "|Ranjeet|    2|\n",
      "|Kaushal|    2|\n",
      "| Shivam|    1|\n",
      "| Satyam|    2|\n",
      "|Ghanavi|    2|\n",
      "+-------+-----+\n",
      "\n"
     ]
    }
   ],
   "source": [
    "df.groupBy('Name').count().show()"
   ]
  },
  {
   "cell_type": "code",
   "execution_count": 38,
   "id": "c457fdd3",
   "metadata": {},
   "outputs": [
    {
     "name": "stdout",
     "output_type": "stream",
     "text": [
      "+-------+-----------+\n",
      "|   Name|avg(salary)|\n",
      "+-------+-----------+\n",
      "|Ranjeet|    30000.0|\n",
      "|Kaushal|    33500.0|\n",
      "| Shivam|    30000.0|\n",
      "| Satyam|    20500.0|\n",
      "|Ghanavi|    32500.0|\n",
      "+-------+-----------+\n",
      "\n"
     ]
    }
   ],
   "source": [
    "df.groupBy('Name').mean('salary').show()"
   ]
  },
  {
   "cell_type": "code",
   "execution_count": 41,
   "id": "6e5c2686",
   "metadata": {},
   "outputs": [
    {
     "name": "stdout",
     "output_type": "stream",
     "text": [
      "+-------+-----------+\n",
      "|   Name|max(salary)|\n",
      "+-------+-----------+\n",
      "|Ranjeet|      40000|\n",
      "|Kaushal|      42000|\n",
      "| Shivam|      30000|\n",
      "| Satyam|      25000|\n",
      "|Ghanavi|      50000|\n",
      "+-------+-----------+\n",
      "\n"
     ]
    }
   ],
   "source": [
    "df.groupBy('Name').max('salary').show()"
   ]
  },
  {
   "cell_type": "code",
   "execution_count": 32,
   "id": "17d741b6",
   "metadata": {},
   "outputs": [
    {
     "name": "stdout",
     "output_type": "stream",
     "text": [
      "+-----------+\n",
      "|sum(salary)|\n",
      "+-----------+\n",
      "|     263000|\n",
      "+-----------+\n",
      "\n"
     ]
    }
   ],
   "source": [
    "df.agg({'salary':'sum'}).show()"
   ]
  },
  {
   "cell_type": "code",
   "execution_count": null,
   "id": "127e9e23",
   "metadata": {},
   "outputs": [],
   "source": []
  }
 ],
 "metadata": {
  "kernelspec": {
   "display_name": "Python 3 (ipykernel)",
   "language": "python",
   "name": "python3"
  },
  "language_info": {
   "codemirror_mode": {
    "name": "ipython",
    "version": 3
   },
   "file_extension": ".py",
   "mimetype": "text/x-python",
   "name": "python",
   "nbconvert_exporter": "python",
   "pygments_lexer": "ipython3",
   "version": "3.9.7"
  }
 },
 "nbformat": 4,
 "nbformat_minor": 5
}
