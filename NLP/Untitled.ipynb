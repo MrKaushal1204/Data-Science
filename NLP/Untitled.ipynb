{
 "cells": [
  {
   "cell_type": "code",
   "execution_count": 18,
   "id": "9317a5db",
   "metadata": {},
   "outputs": [
    {
     "name": "stdout",
     "output_type": "stream",
     "text": [
      "1\n"
     ]
    }
   ],
   "source": [
    "def fact(x):\n",
    "    f = 1\n",
    "    for i in range(x):\n",
    "        if i !=0:\n",
    "            f += f*i\n",
    "        else:\n",
    "            f = 1\n",
    "    print(f)\n",
    "            \n",
    "    \n",
    "\n",
    "fact(1)"
   ]
  },
  {
   "cell_type": "code",
   "execution_count": 12,
   "id": "ddafaab0",
   "metadata": {},
   "outputs": [],
   "source": [
    "import pandas as pd\n",
    "d = {\n",
    "    \"one\": pd.Series([1.0, 2.0, 3.0], index=[\"a\", \"b\", \"c\"]),\n",
    "    \"two\": pd.Series([1.0, 2.0, 3.0, 4.0], index=[\"a\", \"b\", \"c\", \"d\"]),\n",
    "}\n",
    "\n",
    "df = pd.DataFrame(d)"
   ]
  },
  {
   "cell_type": "code",
   "execution_count": 13,
   "id": "dde69ea0",
   "metadata": {},
   "outputs": [
    {
     "data": {
      "text/html": [
       "<div>\n",
       "<style scoped>\n",
       "    .dataframe tbody tr th:only-of-type {\n",
       "        vertical-align: middle;\n",
       "    }\n",
       "\n",
       "    .dataframe tbody tr th {\n",
       "        vertical-align: top;\n",
       "    }\n",
       "\n",
       "    .dataframe thead th {\n",
       "        text-align: right;\n",
       "    }\n",
       "</style>\n",
       "<table border=\"1\" class=\"dataframe\">\n",
       "  <thead>\n",
       "    <tr style=\"text-align: right;\">\n",
       "      <th></th>\n",
       "      <th>one</th>\n",
       "      <th>two</th>\n",
       "    </tr>\n",
       "  </thead>\n",
       "  <tbody>\n",
       "    <tr>\n",
       "      <th>a</th>\n",
       "      <td>1.0</td>\n",
       "      <td>1.0</td>\n",
       "    </tr>\n",
       "    <tr>\n",
       "      <th>b</th>\n",
       "      <td>2.0</td>\n",
       "      <td>2.0</td>\n",
       "    </tr>\n",
       "    <tr>\n",
       "      <th>c</th>\n",
       "      <td>3.0</td>\n",
       "      <td>3.0</td>\n",
       "    </tr>\n",
       "    <tr>\n",
       "      <th>d</th>\n",
       "      <td>NaN</td>\n",
       "      <td>4.0</td>\n",
       "    </tr>\n",
       "  </tbody>\n",
       "</table>\n",
       "</div>"
      ],
      "text/plain": [
       "   one  two\n",
       "a  1.0  1.0\n",
       "b  2.0  2.0\n",
       "c  3.0  3.0\n",
       "d  NaN  4.0"
      ]
     },
     "execution_count": 13,
     "metadata": {},
     "output_type": "execute_result"
    }
   ],
   "source": [
    "df.head()"
   ]
  },
  {
   "cell_type": "code",
   "execution_count": 15,
   "id": "d6f5202f",
   "metadata": {},
   "outputs": [
    {
     "data": {
      "text/plain": [
       "a     1.0\n",
       "b     4.0\n",
       "c     9.0\n",
       "d    16.0\n",
       "Name: two, dtype: float64"
      ]
     },
     "execution_count": 15,
     "metadata": {},
     "output_type": "execute_result"
    }
   ],
   "source": [
    "df['two'].apply(lambda x : x**2)"
   ]
  },
  {
   "cell_type": "code",
   "execution_count": 16,
   "id": "a0978613",
   "metadata": {},
   "outputs": [
    {
     "ename": "SyntaxError",
     "evalue": "invalid syntax (Temp/ipykernel_13688/1051234404.py, line 1)",
     "output_type": "error",
     "traceback": [
      "\u001b[1;36m  File \u001b[1;32m\"C:\\Users\\KAUSHA~1.KIS\\AppData\\Local\\Temp/ipykernel_13688/1051234404.py\"\u001b[1;36m, line \u001b[1;32m1\u001b[0m\n\u001b[1;33m    select * from df where\u001b[0m\n\u001b[1;37m             ^\u001b[0m\n\u001b[1;31mSyntaxError\u001b[0m\u001b[1;31m:\u001b[0m invalid syntax\n"
     ]
    }
   ],
   "source": [
    "select * from df where "
   ]
  },
  {
   "cell_type": "code",
   "execution_count": 36,
   "id": "9c97409c",
   "metadata": {},
   "outputs": [
    {
     "name": "stdout",
     "output_type": "stream",
     "text": [
      "777\n"
     ]
    },
    {
     "data": {
      "text/plain": [
       "\"\\n2021-09-06','User_01','Yes\\n2021-09-06','User_02','Yes\\n2021-09-06','User_03','Yes\\n2021-09-06','User_04','Yes\\n2021-09-06','User_05','Yes\\n2021-09-07','User_01','No\\n2021-09-07','User_02','Yes\\n2021-09-07','User_03','Yes\\n2021-09-07','User_04','No\\n2021-09-07','User_05','Yes\\n2021-09-08','User_01','Yes\\n2021-09-08','User_02','Yes\\n2021-09-08','User_03','No\\n2021-09-08','User_04','Yes\\n2021-09-08','User_05','Yes\\n2021-09-09','User_01','Yes\\n2021-09-09','User_02','Yes\\n2021-09-09','User_03','Yes\\n2021-09-09','User_04','No\\n2021-09-09','User_05','Yes\\n2021-09-10','User_01','Yes\\n2021-09-10','User_02','No\\n2021-09-10','User_03','Yes\\n2021-09-10','User_04','Yes\\n2021-09-10','User_05','Yes\\n2021-09-11','User_01','Yes\\n2021-09-11','User_02','No\\n2021-09-11','User_03','Yes\\n2021-09-11','User_04','Yes\""
      ]
     },
     "execution_count": 36,
     "metadata": {},
     "output_type": "execute_result"
    }
   ],
   "source": [
    "str1 = '''\n",
    "2021-09-06 User_01 Yes\n",
    "2021-09-06 User_02 Yes\n",
    "2021-09-06 User_03 Yes\n",
    "2021-09-06 User_04 Yes\n",
    "2021-09-06 User_05 Yes\n",
    "2021-09-07 User_01 No\n",
    "2021-09-07 User_02 Yes\n",
    "2021-09-07 User_03 Yes\n",
    "2021-09-07 User_04 No\n",
    "2021-09-07 User_05 Yes\n",
    "2021-09-08 User_01 Yes\n",
    "2021-09-08 User_02 Yes\n",
    "2021-09-08 User_03 No\n",
    "2021-09-08 User_04 Yes\n",
    "2021-09-08 User_05 Yes\n",
    "2021-09-09 User_01 Yes\n",
    "2021-09-09 User_02 Yes\n",
    "2021-09-09 User_03 Yes\n",
    "2021-09-09 User_04 No\n",
    "2021-09-09 User_05 Yes\n",
    "2021-09-10 User_01 Yes\n",
    "2021-09-10 User_02 No\n",
    "2021-09-10 User_03 Yes\n",
    "2021-09-10 User_04 Yes\n",
    "2021-09-10 User_05 Yes\n",
    "2021-09-11 User_01 Yes\n",
    "2021-09-11 User_02 No\n",
    "2021-09-11 User_03 Yes\n",
    "2021-09-11 User_04 Yes'''\n",
    "\n",
    "type(string)\n",
    "str2 = string.split(\" \")\n",
    "\n",
    "str3 = \"','\".join(str2)\n",
    "print(len(str3))\n",
    "str3\n",
    "# \"insert into attendance(\".join(str3.split(\"\\n\"))"
   ]
  },
  {
   "cell_type": "code",
   "execution_count": 9,
   "id": "4cbad097",
   "metadata": {},
   "outputs": [
    {
     "name": "stdout",
     "output_type": "stream",
     "text": [
      "1\n",
      "3\n",
      "7\n",
      "13\n",
      "21\n",
      "31\n",
      "43\n",
      "57\n",
      "73\n",
      "91\n",
      "111\n",
      "133\n",
      "157\n",
      "183\n",
      "211\n",
      "241\n",
      "273\n",
      "307\n",
      "343\n",
      "381\n",
      "421\n",
      "463\n",
      "507\n",
      "553\n",
      "601\n",
      "651\n",
      "703\n",
      "757\n",
      "813\n",
      "871\n",
      "931\n"
     ]
    }
   ],
   "source": [
    "# 1,3,7,13,21,31\n",
    "\n",
    "k = 2\n",
    "j = 1\n",
    "for i in range (31):\n",
    "    print(j)\n",
    "    j += k\n",
    "    k += 2"
   ]
  },
  {
   "cell_type": "code",
   "execution_count": 14,
   "id": "0fbf96d8",
   "metadata": {},
   "outputs": [
    {
     "name": "stdout",
     "output_type": "stream",
     "text": [
      "1\n",
      "2\n",
      "5\n",
      "10\n",
      "17\n",
      "26\n",
      "37\n",
      "50\n",
      "65\n"
     ]
    }
   ],
   "source": [
    "# 1,2,5,10,17,26,37,50,...\n",
    "\n",
    "j = 1\n",
    "k = 1\n",
    "for i in range(1,10):\n",
    "    print(j)\n",
    "    j += k\n",
    "    k += 2\n",
    "    \n",
    "    "
   ]
  }
 ],
 "metadata": {
  "kernelspec": {
   "display_name": "Python 3 (ipykernel)",
   "language": "python",
   "name": "python3"
  },
  "language_info": {
   "codemirror_mode": {
    "name": "ipython",
    "version": 3
   },
   "file_extension": ".py",
   "mimetype": "text/x-python",
   "name": "python",
   "nbconvert_exporter": "python",
   "pygments_lexer": "ipython3",
   "version": "3.9.7"
  }
 },
 "nbformat": 4,
 "nbformat_minor": 5
}
