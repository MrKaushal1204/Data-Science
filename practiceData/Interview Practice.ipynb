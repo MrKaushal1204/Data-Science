{
 "cells": [
  {
   "cell_type": "code",
   "execution_count": 2,
   "id": "e8b8ca06",
   "metadata": {},
   "outputs": [],
   "source": [
    "# Two strings are said to be anagram if we can form one string by arranging the characters of another string i.e they are made of the same characters with same frequency. \n",
    "# \tFor example, Race and Care. Here, we can form Race by arranging the characters of Care.\n",
    "# # \twhereas Racce and Carre are not as the frequenct of the characters do not match."
   ]
  },
  {
   "cell_type": "code",
   "execution_count": 10,
   "id": "f3caed6e",
   "metadata": {},
   "outputs": [
    {
     "name": "stdout",
     "output_type": "stream",
     "text": [
      "Number is not anagram\n"
     ]
    }
   ],
   "source": [
    "\n",
    "def anagram(str1, str2):\n",
    "    bl = False\n",
    "    for i in str2:\n",
    "        if i in str1:\n",
    "            if str2.count(i) <= str1.count(i):\n",
    "                bl = True\n",
    "            else:\n",
    "                bl = False\n",
    "                return bl\n",
    "        else:\n",
    "            bl = False\n",
    "#             break\n",
    "            return bl\n",
    "    return bl \n",
    "               \n",
    "                \n",
    "if anagram('kaushal','kk'):\n",
    "    print(\"Number is anagram\")\n",
    "else:\n",
    "    print(\"Number is not anagram\")\n",
    "\n"
   ]
  },
  {
   "cell_type": "code",
   "execution_count": 12,
   "id": "a27f1b0f",
   "metadata": {},
   "outputs": [
    {
     "data": {
      "text/plain": [
       "2"
      ]
     },
     "execution_count": 12,
     "metadata": {},
     "output_type": "execute_result"
    }
   ],
   "source": [
    "import pandas as pd\n",
    "str3 = 'abcdae'\n",
    "str3.count('a')\n",
    "# str3.value_counts()"
   ]
  },
  {
   "cell_type": "code",
   "execution_count": null,
   "id": "a5b2b779",
   "metadata": {},
   "outputs": [],
   "source": []
  },
  {
   "cell_type": "code",
   "execution_count": null,
   "id": "3c4d51db",
   "metadata": {},
   "outputs": [],
   "source": [
    "select customer_name from customer order by salary desc "
   ]
  }
 ],
 "metadata": {
  "kernelspec": {
   "display_name": "Python 3 (ipykernel)",
   "language": "python",
   "name": "python3"
  },
  "language_info": {
   "codemirror_mode": {
    "name": "ipython",
    "version": 3
   },
   "file_extension": ".py",
   "mimetype": "text/x-python",
   "name": "python",
   "nbconvert_exporter": "python",
   "pygments_lexer": "ipython3",
   "version": "3.9.7"
  }
 },
 "nbformat": 4,
 "nbformat_minor": 5
}
