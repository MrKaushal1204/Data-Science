{
 "cells": [
  {
   "cell_type": "code",
   "execution_count": null,
   "metadata": {
    "id": "lvc-jbw8K4fx"
   },
   "outputs": [],
   "source": [
    "### import pandas as pd\n",
    "import numpy as np\n",
    "import pandas as pd\n",
    "from sklearn import metrics\n",
    "import matplotlib.pyplot as plt\n",
    "import seaborn as sns"
   ]
  },
  {
   "cell_type": "code",
   "execution_count": null,
   "metadata": {
    "id": "7SZzW4vCgZ54"
   },
   "outputs": [],
   "source": [
    "# df = pd.DataFrame({'gender':['m','f','f','m'],\n",
    "#                    'education':['phd','masters','grad','highschool']})\n",
    "# df"
   ]
  },
  {
   "cell_type": "code",
   "execution_count": null,
   "metadata": {
    "id": "uRHMg8wBgaYf"
   },
   "outputs": [],
   "source": [
    "# df2 = pd.get_dummies(df , columns = ['gender'], drop_first = True)\n",
    "# df2"
   ]
  },
  {
   "cell_type": "code",
   "execution_count": null,
   "metadata": {
    "id": "dW67rRf0ga2l"
   },
   "outputs": [],
   "source": [
    "# from sklearn.preprocessing import LabelEncoder\n",
    "\n",
    "# le = LabelEncoder()\n",
    "\n",
    "# df2['education'] = le.fit_transform(df2['education'])\n",
    "# df2"
   ]
  },
  {
   "cell_type": "code",
   "execution_count": null,
   "metadata": {
    "id": "FWrpl44XgbRX"
   },
   "outputs": [],
   "source": [
    "# Outliers - contionous features only - not be done on target columns"
   ]
  },
  {
   "cell_type": "code",
   "execution_count": null,
   "metadata": {
    "colab": {
     "base_uri": "https://localhost:8080/",
     "height": 206
    },
    "executionInfo": {
     "elapsed": 32,
     "status": "ok",
     "timestamp": 1652018312647,
     "user": {
      "displayName": "sujata Singh",
      "userId": "07858160099359690614"
     },
     "user_tz": -330
    },
    "id": "F-7ZcvBSPaeK",
    "outputId": "c44bd203-654d-4551-ec65-211b4914ec5d"
   },
   "outputs": [
    {
     "data": {
      "text/html": [
       "\n",
       "  <div id=\"df-0b249759-9ce6-4444-901e-b5c5260ff8d2\">\n",
       "    <div class=\"colab-df-container\">\n",
       "      <div>\n",
       "<style scoped>\n",
       "    .dataframe tbody tr th:only-of-type {\n",
       "        vertical-align: middle;\n",
       "    }\n",
       "\n",
       "    .dataframe tbody tr th {\n",
       "        vertical-align: top;\n",
       "    }\n",
       "\n",
       "    .dataframe thead th {\n",
       "        text-align: right;\n",
       "    }\n",
       "</style>\n",
       "<table border=\"1\" class=\"dataframe\">\n",
       "  <thead>\n",
       "    <tr style=\"text-align: right;\">\n",
       "      <th></th>\n",
       "      <th>CRIM</th>\n",
       "      <th>ZN</th>\n",
       "      <th>INDUS</th>\n",
       "      <th>CHAS</th>\n",
       "      <th>NOX</th>\n",
       "      <th>RM</th>\n",
       "      <th>AGE</th>\n",
       "      <th>DIS</th>\n",
       "      <th>RAD</th>\n",
       "      <th>TAX</th>\n",
       "      <th>PTRATIO</th>\n",
       "      <th>B</th>\n",
       "      <th>LSTAT</th>\n",
       "      <th>PRICE</th>\n",
       "    </tr>\n",
       "  </thead>\n",
       "  <tbody>\n",
       "    <tr>\n",
       "      <th>0</th>\n",
       "      <td>0.00632</td>\n",
       "      <td>18.0</td>\n",
       "      <td>2.31</td>\n",
       "      <td>0.0</td>\n",
       "      <td>0.538</td>\n",
       "      <td>6.575</td>\n",
       "      <td>65.2</td>\n",
       "      <td>4.0900</td>\n",
       "      <td>1.0</td>\n",
       "      <td>296.0</td>\n",
       "      <td>15.3</td>\n",
       "      <td>396.90</td>\n",
       "      <td>4.98</td>\n",
       "      <td>24.0</td>\n",
       "    </tr>\n",
       "    <tr>\n",
       "      <th>1</th>\n",
       "      <td>0.02731</td>\n",
       "      <td>0.0</td>\n",
       "      <td>7.07</td>\n",
       "      <td>0.0</td>\n",
       "      <td>0.469</td>\n",
       "      <td>6.421</td>\n",
       "      <td>78.9</td>\n",
       "      <td>4.9671</td>\n",
       "      <td>2.0</td>\n",
       "      <td>242.0</td>\n",
       "      <td>17.8</td>\n",
       "      <td>396.90</td>\n",
       "      <td>9.14</td>\n",
       "      <td>21.6</td>\n",
       "    </tr>\n",
       "    <tr>\n",
       "      <th>2</th>\n",
       "      <td>0.02729</td>\n",
       "      <td>0.0</td>\n",
       "      <td>7.07</td>\n",
       "      <td>0.0</td>\n",
       "      <td>0.469</td>\n",
       "      <td>7.185</td>\n",
       "      <td>61.1</td>\n",
       "      <td>4.9671</td>\n",
       "      <td>2.0</td>\n",
       "      <td>242.0</td>\n",
       "      <td>17.8</td>\n",
       "      <td>392.83</td>\n",
       "      <td>4.03</td>\n",
       "      <td>34.7</td>\n",
       "    </tr>\n",
       "    <tr>\n",
       "      <th>3</th>\n",
       "      <td>0.03237</td>\n",
       "      <td>0.0</td>\n",
       "      <td>2.18</td>\n",
       "      <td>0.0</td>\n",
       "      <td>0.458</td>\n",
       "      <td>6.998</td>\n",
       "      <td>45.8</td>\n",
       "      <td>6.0622</td>\n",
       "      <td>3.0</td>\n",
       "      <td>222.0</td>\n",
       "      <td>18.7</td>\n",
       "      <td>394.63</td>\n",
       "      <td>2.94</td>\n",
       "      <td>33.4</td>\n",
       "    </tr>\n",
       "    <tr>\n",
       "      <th>4</th>\n",
       "      <td>0.06905</td>\n",
       "      <td>0.0</td>\n",
       "      <td>2.18</td>\n",
       "      <td>0.0</td>\n",
       "      <td>0.458</td>\n",
       "      <td>7.147</td>\n",
       "      <td>54.2</td>\n",
       "      <td>6.0622</td>\n",
       "      <td>3.0</td>\n",
       "      <td>222.0</td>\n",
       "      <td>18.7</td>\n",
       "      <td>396.90</td>\n",
       "      <td>5.33</td>\n",
       "      <td>36.2</td>\n",
       "    </tr>\n",
       "  </tbody>\n",
       "</table>\n",
       "</div>\n",
       "      <button class=\"colab-df-convert\" onclick=\"convertToInteractive('df-0b249759-9ce6-4444-901e-b5c5260ff8d2')\"\n",
       "              title=\"Convert this dataframe to an interactive table.\"\n",
       "              style=\"display:none;\">\n",
       "        \n",
       "  <svg xmlns=\"http://www.w3.org/2000/svg\" height=\"24px\"viewBox=\"0 0 24 24\"\n",
       "       width=\"24px\">\n",
       "    <path d=\"M0 0h24v24H0V0z\" fill=\"none\"/>\n",
       "    <path d=\"M18.56 5.44l.94 2.06.94-2.06 2.06-.94-2.06-.94-.94-2.06-.94 2.06-2.06.94zm-11 1L8.5 8.5l.94-2.06 2.06-.94-2.06-.94L8.5 2.5l-.94 2.06-2.06.94zm10 10l.94 2.06.94-2.06 2.06-.94-2.06-.94-.94-2.06-.94 2.06-2.06.94z\"/><path d=\"M17.41 7.96l-1.37-1.37c-.4-.4-.92-.59-1.43-.59-.52 0-1.04.2-1.43.59L10.3 9.45l-7.72 7.72c-.78.78-.78 2.05 0 2.83L4 21.41c.39.39.9.59 1.41.59.51 0 1.02-.2 1.41-.59l7.78-7.78 2.81-2.81c.8-.78.8-2.07 0-2.86zM5.41 20L4 18.59l7.72-7.72 1.47 1.35L5.41 20z\"/>\n",
       "  </svg>\n",
       "      </button>\n",
       "      \n",
       "  <style>\n",
       "    .colab-df-container {\n",
       "      display:flex;\n",
       "      flex-wrap:wrap;\n",
       "      gap: 12px;\n",
       "    }\n",
       "\n",
       "    .colab-df-convert {\n",
       "      background-color: #E8F0FE;\n",
       "      border: none;\n",
       "      border-radius: 50%;\n",
       "      cursor: pointer;\n",
       "      display: none;\n",
       "      fill: #1967D2;\n",
       "      height: 32px;\n",
       "      padding: 0 0 0 0;\n",
       "      width: 32px;\n",
       "    }\n",
       "\n",
       "    .colab-df-convert:hover {\n",
       "      background-color: #E2EBFA;\n",
       "      box-shadow: 0px 1px 2px rgba(60, 64, 67, 0.3), 0px 1px 3px 1px rgba(60, 64, 67, 0.15);\n",
       "      fill: #174EA6;\n",
       "    }\n",
       "\n",
       "    [theme=dark] .colab-df-convert {\n",
       "      background-color: #3B4455;\n",
       "      fill: #D2E3FC;\n",
       "    }\n",
       "\n",
       "    [theme=dark] .colab-df-convert:hover {\n",
       "      background-color: #434B5C;\n",
       "      box-shadow: 0px 1px 3px 1px rgba(0, 0, 0, 0.15);\n",
       "      filter: drop-shadow(0px 1px 2px rgba(0, 0, 0, 0.3));\n",
       "      fill: #FFFFFF;\n",
       "    }\n",
       "  </style>\n",
       "\n",
       "      <script>\n",
       "        const buttonEl =\n",
       "          document.querySelector('#df-0b249759-9ce6-4444-901e-b5c5260ff8d2 button.colab-df-convert');\n",
       "        buttonEl.style.display =\n",
       "          google.colab.kernel.accessAllowed ? 'block' : 'none';\n",
       "\n",
       "        async function convertToInteractive(key) {\n",
       "          const element = document.querySelector('#df-0b249759-9ce6-4444-901e-b5c5260ff8d2');\n",
       "          const dataTable =\n",
       "            await google.colab.kernel.invokeFunction('convertToInteractive',\n",
       "                                                     [key], {});\n",
       "          if (!dataTable) return;\n",
       "\n",
       "          const docLinkHtml = 'Like what you see? Visit the ' +\n",
       "            '<a target=\"_blank\" href=https://colab.research.google.com/notebooks/data_table.ipynb>data table notebook</a>'\n",
       "            + ' to learn more about interactive tables.';\n",
       "          element.innerHTML = '';\n",
       "          dataTable['output_type'] = 'display_data';\n",
       "          await google.colab.output.renderOutput(dataTable, element);\n",
       "          const docLink = document.createElement('div');\n",
       "          docLink.innerHTML = docLinkHtml;\n",
       "          element.appendChild(docLink);\n",
       "        }\n",
       "      </script>\n",
       "    </div>\n",
       "  </div>\n",
       "  "
      ],
      "text/plain": [
       "      CRIM    ZN  INDUS  CHAS    NOX     RM   AGE     DIS  RAD    TAX  \\\n",
       "0  0.00632  18.0   2.31   0.0  0.538  6.575  65.2  4.0900  1.0  296.0   \n",
       "1  0.02731   0.0   7.07   0.0  0.469  6.421  78.9  4.9671  2.0  242.0   \n",
       "2  0.02729   0.0   7.07   0.0  0.469  7.185  61.1  4.9671  2.0  242.0   \n",
       "3  0.03237   0.0   2.18   0.0  0.458  6.998  45.8  6.0622  3.0  222.0   \n",
       "4  0.06905   0.0   2.18   0.0  0.458  7.147  54.2  6.0622  3.0  222.0   \n",
       "\n",
       "   PTRATIO       B  LSTAT  PRICE  \n",
       "0     15.3  396.90   4.98   24.0  \n",
       "1     17.8  396.90   9.14   21.6  \n",
       "2     17.8  392.83   4.03   34.7  \n",
       "3     18.7  394.63   2.94   33.4  \n",
       "4     18.7  396.90   5.33   36.2  "
      ]
     },
     "execution_count": 98,
     "metadata": {},
     "output_type": "execute_result"
    }
   ],
   "source": [
    "data_frame = pd.read_csv('Boston_housing.csv')\n",
    "data_frame.head()"
   ]
  },
  {
   "cell_type": "code",
   "execution_count": null,
   "metadata": {
    "id": "FEKbxFVTPj_0"
   },
   "outputs": [],
   "source": [
    "# data_frame['AGE'][2,78,34,95,13]=np.nan"
   ]
  },
  {
   "cell_type": "code",
   "execution_count": null,
   "metadata": {
    "colab": {
     "base_uri": "https://localhost:8080/",
     "height": 206
    },
    "executionInfo": {
     "elapsed": 30,
     "status": "ok",
     "timestamp": 1652018312648,
     "user": {
      "displayName": "sujata Singh",
      "userId": "07858160099359690614"
     },
     "user_tz": -330
    },
    "id": "lzBKXBclP4Kw",
    "outputId": "269c3e12-3a95-4279-dcd1-ea976aa165f1"
   },
   "outputs": [
    {
     "data": {
      "text/html": [
       "\n",
       "  <div id=\"df-12ceb792-51ca-4695-b6fc-84cb33446fd6\">\n",
       "    <div class=\"colab-df-container\">\n",
       "      <div>\n",
       "<style scoped>\n",
       "    .dataframe tbody tr th:only-of-type {\n",
       "        vertical-align: middle;\n",
       "    }\n",
       "\n",
       "    .dataframe tbody tr th {\n",
       "        vertical-align: top;\n",
       "    }\n",
       "\n",
       "    .dataframe thead th {\n",
       "        text-align: right;\n",
       "    }\n",
       "</style>\n",
       "<table border=\"1\" class=\"dataframe\">\n",
       "  <thead>\n",
       "    <tr style=\"text-align: right;\">\n",
       "      <th></th>\n",
       "      <th>CRIM</th>\n",
       "      <th>ZN</th>\n",
       "      <th>INDUS</th>\n",
       "      <th>CHAS</th>\n",
       "      <th>NOX</th>\n",
       "      <th>RM</th>\n",
       "      <th>AGE</th>\n",
       "      <th>DIS</th>\n",
       "      <th>RAD</th>\n",
       "      <th>TAX</th>\n",
       "      <th>PTRATIO</th>\n",
       "      <th>B</th>\n",
       "      <th>LSTAT</th>\n",
       "      <th>PRICE</th>\n",
       "    </tr>\n",
       "  </thead>\n",
       "  <tbody>\n",
       "    <tr>\n",
       "      <th>0</th>\n",
       "      <td>0.00632</td>\n",
       "      <td>18.0</td>\n",
       "      <td>2.31</td>\n",
       "      <td>0.0</td>\n",
       "      <td>0.538</td>\n",
       "      <td>6.575</td>\n",
       "      <td>65.2</td>\n",
       "      <td>4.0900</td>\n",
       "      <td>1.0</td>\n",
       "      <td>296.0</td>\n",
       "      <td>15.3</td>\n",
       "      <td>396.90</td>\n",
       "      <td>4.98</td>\n",
       "      <td>24.0</td>\n",
       "    </tr>\n",
       "    <tr>\n",
       "      <th>1</th>\n",
       "      <td>0.02731</td>\n",
       "      <td>0.0</td>\n",
       "      <td>7.07</td>\n",
       "      <td>0.0</td>\n",
       "      <td>0.469</td>\n",
       "      <td>6.421</td>\n",
       "      <td>78.9</td>\n",
       "      <td>4.9671</td>\n",
       "      <td>2.0</td>\n",
       "      <td>242.0</td>\n",
       "      <td>17.8</td>\n",
       "      <td>396.90</td>\n",
       "      <td>9.14</td>\n",
       "      <td>21.6</td>\n",
       "    </tr>\n",
       "    <tr>\n",
       "      <th>2</th>\n",
       "      <td>0.02729</td>\n",
       "      <td>0.0</td>\n",
       "      <td>7.07</td>\n",
       "      <td>0.0</td>\n",
       "      <td>0.469</td>\n",
       "      <td>7.185</td>\n",
       "      <td>61.1</td>\n",
       "      <td>4.9671</td>\n",
       "      <td>2.0</td>\n",
       "      <td>242.0</td>\n",
       "      <td>17.8</td>\n",
       "      <td>392.83</td>\n",
       "      <td>4.03</td>\n",
       "      <td>34.7</td>\n",
       "    </tr>\n",
       "    <tr>\n",
       "      <th>3</th>\n",
       "      <td>0.03237</td>\n",
       "      <td>0.0</td>\n",
       "      <td>2.18</td>\n",
       "      <td>0.0</td>\n",
       "      <td>0.458</td>\n",
       "      <td>6.998</td>\n",
       "      <td>45.8</td>\n",
       "      <td>6.0622</td>\n",
       "      <td>3.0</td>\n",
       "      <td>222.0</td>\n",
       "      <td>18.7</td>\n",
       "      <td>394.63</td>\n",
       "      <td>2.94</td>\n",
       "      <td>33.4</td>\n",
       "    </tr>\n",
       "    <tr>\n",
       "      <th>4</th>\n",
       "      <td>0.06905</td>\n",
       "      <td>0.0</td>\n",
       "      <td>2.18</td>\n",
       "      <td>0.0</td>\n",
       "      <td>0.458</td>\n",
       "      <td>7.147</td>\n",
       "      <td>54.2</td>\n",
       "      <td>6.0622</td>\n",
       "      <td>3.0</td>\n",
       "      <td>222.0</td>\n",
       "      <td>18.7</td>\n",
       "      <td>396.90</td>\n",
       "      <td>5.33</td>\n",
       "      <td>36.2</td>\n",
       "    </tr>\n",
       "  </tbody>\n",
       "</table>\n",
       "</div>\n",
       "      <button class=\"colab-df-convert\" onclick=\"convertToInteractive('df-12ceb792-51ca-4695-b6fc-84cb33446fd6')\"\n",
       "              title=\"Convert this dataframe to an interactive table.\"\n",
       "              style=\"display:none;\">\n",
       "        \n",
       "  <svg xmlns=\"http://www.w3.org/2000/svg\" height=\"24px\"viewBox=\"0 0 24 24\"\n",
       "       width=\"24px\">\n",
       "    <path d=\"M0 0h24v24H0V0z\" fill=\"none\"/>\n",
       "    <path d=\"M18.56 5.44l.94 2.06.94-2.06 2.06-.94-2.06-.94-.94-2.06-.94 2.06-2.06.94zm-11 1L8.5 8.5l.94-2.06 2.06-.94-2.06-.94L8.5 2.5l-.94 2.06-2.06.94zm10 10l.94 2.06.94-2.06 2.06-.94-2.06-.94-.94-2.06-.94 2.06-2.06.94z\"/><path d=\"M17.41 7.96l-1.37-1.37c-.4-.4-.92-.59-1.43-.59-.52 0-1.04.2-1.43.59L10.3 9.45l-7.72 7.72c-.78.78-.78 2.05 0 2.83L4 21.41c.39.39.9.59 1.41.59.51 0 1.02-.2 1.41-.59l7.78-7.78 2.81-2.81c.8-.78.8-2.07 0-2.86zM5.41 20L4 18.59l7.72-7.72 1.47 1.35L5.41 20z\"/>\n",
       "  </svg>\n",
       "      </button>\n",
       "      \n",
       "  <style>\n",
       "    .colab-df-container {\n",
       "      display:flex;\n",
       "      flex-wrap:wrap;\n",
       "      gap: 12px;\n",
       "    }\n",
       "\n",
       "    .colab-df-convert {\n",
       "      background-color: #E8F0FE;\n",
       "      border: none;\n",
       "      border-radius: 50%;\n",
       "      cursor: pointer;\n",
       "      display: none;\n",
       "      fill: #1967D2;\n",
       "      height: 32px;\n",
       "      padding: 0 0 0 0;\n",
       "      width: 32px;\n",
       "    }\n",
       "\n",
       "    .colab-df-convert:hover {\n",
       "      background-color: #E2EBFA;\n",
       "      box-shadow: 0px 1px 2px rgba(60, 64, 67, 0.3), 0px 1px 3px 1px rgba(60, 64, 67, 0.15);\n",
       "      fill: #174EA6;\n",
       "    }\n",
       "\n",
       "    [theme=dark] .colab-df-convert {\n",
       "      background-color: #3B4455;\n",
       "      fill: #D2E3FC;\n",
       "    }\n",
       "\n",
       "    [theme=dark] .colab-df-convert:hover {\n",
       "      background-color: #434B5C;\n",
       "      box-shadow: 0px 1px 3px 1px rgba(0, 0, 0, 0.15);\n",
       "      filter: drop-shadow(0px 1px 2px rgba(0, 0, 0, 0.3));\n",
       "      fill: #FFFFFF;\n",
       "    }\n",
       "  </style>\n",
       "\n",
       "      <script>\n",
       "        const buttonEl =\n",
       "          document.querySelector('#df-12ceb792-51ca-4695-b6fc-84cb33446fd6 button.colab-df-convert');\n",
       "        buttonEl.style.display =\n",
       "          google.colab.kernel.accessAllowed ? 'block' : 'none';\n",
       "\n",
       "        async function convertToInteractive(key) {\n",
       "          const element = document.querySelector('#df-12ceb792-51ca-4695-b6fc-84cb33446fd6');\n",
       "          const dataTable =\n",
       "            await google.colab.kernel.invokeFunction('convertToInteractive',\n",
       "                                                     [key], {});\n",
       "          if (!dataTable) return;\n",
       "\n",
       "          const docLinkHtml = 'Like what you see? Visit the ' +\n",
       "            '<a target=\"_blank\" href=https://colab.research.google.com/notebooks/data_table.ipynb>data table notebook</a>'\n",
       "            + ' to learn more about interactive tables.';\n",
       "          element.innerHTML = '';\n",
       "          dataTable['output_type'] = 'display_data';\n",
       "          await google.colab.output.renderOutput(dataTable, element);\n",
       "          const docLink = document.createElement('div');\n",
       "          docLink.innerHTML = docLinkHtml;\n",
       "          element.appendChild(docLink);\n",
       "        }\n",
       "      </script>\n",
       "    </div>\n",
       "  </div>\n",
       "  "
      ],
      "text/plain": [
       "      CRIM    ZN  INDUS  CHAS    NOX     RM   AGE     DIS  RAD    TAX  \\\n",
       "0  0.00632  18.0   2.31   0.0  0.538  6.575  65.2  4.0900  1.0  296.0   \n",
       "1  0.02731   0.0   7.07   0.0  0.469  6.421  78.9  4.9671  2.0  242.0   \n",
       "2  0.02729   0.0   7.07   0.0  0.469  7.185  61.1  4.9671  2.0  242.0   \n",
       "3  0.03237   0.0   2.18   0.0  0.458  6.998  45.8  6.0622  3.0  222.0   \n",
       "4  0.06905   0.0   2.18   0.0  0.458  7.147  54.2  6.0622  3.0  222.0   \n",
       "\n",
       "   PTRATIO       B  LSTAT  PRICE  \n",
       "0     15.3  396.90   4.98   24.0  \n",
       "1     17.8  396.90   9.14   21.6  \n",
       "2     17.8  392.83   4.03   34.7  \n",
       "3     18.7  394.63   2.94   33.4  \n",
       "4     18.7  396.90   5.33   36.2  "
      ]
     },
     "execution_count": 100,
     "metadata": {},
     "output_type": "execute_result"
    }
   ],
   "source": [
    "data_frame.head()"
   ]
  },
  {
   "cell_type": "code",
   "execution_count": null,
   "metadata": {
    "id": "fUK0H2MtP8HL"
   },
   "outputs": [],
   "source": [
    "# data_frame['AGE'] = data_frame['AGE'].fillna(data_frame['AGE'].median())"
   ]
  },
  {
   "cell_type": "code",
   "execution_count": null,
   "metadata": {
    "colab": {
     "base_uri": "https://localhost:8080/"
    },
    "executionInfo": {
     "elapsed": 29,
     "status": "ok",
     "timestamp": 1652018312649,
     "user": {
      "displayName": "sujata Singh",
      "userId": "07858160099359690614"
     },
     "user_tz": -330
    },
    "id": "SQHHbSSUK4f7",
    "outputId": "a6148f26-b013-463a-dfdb-502603eb0dd4"
   },
   "outputs": [
    {
     "name": "stdout",
     "output_type": "stream",
     "text": [
      "<class 'pandas.core.frame.DataFrame'>\n",
      "RangeIndex: 506 entries, 0 to 505\n",
      "Data columns (total 14 columns):\n",
      " #   Column   Non-Null Count  Dtype  \n",
      "---  ------   --------------  -----  \n",
      " 0   CRIM     506 non-null    float64\n",
      " 1   ZN       506 non-null    float64\n",
      " 2   INDUS    506 non-null    float64\n",
      " 3   CHAS     506 non-null    float64\n",
      " 4   NOX      506 non-null    float64\n",
      " 5   RM       506 non-null    float64\n",
      " 6   AGE      506 non-null    float64\n",
      " 7   DIS      506 non-null    float64\n",
      " 8   RAD      506 non-null    float64\n",
      " 9   TAX      506 non-null    float64\n",
      " 10  PTRATIO  506 non-null    float64\n",
      " 11  B        506 non-null    float64\n",
      " 12  LSTAT    506 non-null    float64\n",
      " 13  PRICE    506 non-null    float64\n",
      "dtypes: float64(14)\n",
      "memory usage: 55.5 KB\n"
     ]
    }
   ],
   "source": [
    "data_frame.info()"
   ]
  },
  {
   "cell_type": "code",
   "execution_count": null,
   "metadata": {
    "colab": {
     "base_uri": "https://localhost:8080/",
     "height": 337
    },
    "executionInfo": {
     "elapsed": 24,
     "status": "ok",
     "timestamp": 1652018312649,
     "user": {
      "displayName": "sujata Singh",
      "userId": "07858160099359690614"
     },
     "user_tz": -330
    },
    "id": "1bO2lOr_PaeM",
    "outputId": "6f1f63d1-7d8a-4b34-8511-aa3df2aa0e1b"
   },
   "outputs": [
    {
     "data": {
      "text/plain": [
       "<matplotlib.axes._subplots.AxesSubplot at 0x7ff6a696ca10>"
      ]
     },
     "execution_count": 103,
     "metadata": {},
     "output_type": "execute_result"
    },
    {
     "data": {
      "image/png": "[encoded data removed]",
      "text/plain": [
       "<Figure size 1080x360 with 1 Axes>"
      ]
     },
     "metadata": {
      "needs_background": "light"
     },
     "output_type": "display_data"
    }
   ],
   "source": [
    "fig = plt.figure(figsize = (15,5))\n",
    "sns.boxplot(data = data_frame)\n",
    "# sns.boxplot(data = data_frame['ZN'])"
   ]
  },
  {
   "cell_type": "code",
   "execution_count": null,
   "metadata": {
    "id": "CMtM0Q7mPaeM"
   },
   "outputs": [],
   "source": []
  },
  {
   "cell_type": "code",
   "execution_count": null,
   "metadata": {
    "id": "JaZptSyZK4f8"
   },
   "outputs": [],
   "source": [
    "for i in data_frame.drop(['CHAS','PRICE'], axis=1).columns:\n",
    "    print(i)\n",
    "    sns.boxplot(data_frame[i],data = data_frame)\n",
    "    plt.show()"
   ]
  },
  {
   "cell_type": "code",
   "execution_count": null,
   "metadata": {
    "colab": {
     "base_uri": "https://localhost:8080/"
    },
    "executionInfo": {
     "elapsed": 16,
     "status": "ok",
     "timestamp": 1652018314092,
     "user": {
      "displayName": "sujata Singh",
      "userId": "07858160099359690614"
     },
     "user_tz": -330
    },
    "id": "4kccSOgeK4f8",
    "outputId": "269d3460-80ad-457a-d0c7-dd01e527eaf6"
   },
   "outputs": [
    {
     "data": {
      "text/plain": [
       "Index(['CRIM', 'ZN', 'INDUS', 'CHAS', 'NOX', 'RM', 'AGE', 'DIS', 'RAD', 'TAX',\n",
       "       'PTRATIO', 'B', 'LSTAT', 'PRICE'],\n",
       "      dtype='object')"
      ]
     },
     "execution_count": 105,
     "metadata": {},
     "output_type": "execute_result"
    }
   ],
   "source": [
    "def Outlier(data, cols):\n",
    "    for column in data.drop(cols, axis=1).columns:\n",
    "        if data[column].dtype != object:\n",
    "            Q1 = np.percentile(data[column],25)\n",
    "            Q3 = np.percentile(data[column],75)\n",
    "            IQR =  Q3 - Q1\n",
    "            lower = Q1 - (1.5 * IQR) # min value allowed\n",
    "            upper = Q3 + (1.5 * IQR)  # max. value allowed\n",
    "            \n",
    "            data[column] = data[column].apply(lambda x: upper if x>upper else  lower if x<lower else x)          \n",
    "\n",
    "    return data\n",
    "\n",
    "data_frame2 = Outlier(data = data_frame, cols = ['CHAS','PRICE'])\n",
    "data_frame2.columns"
   ]
  },
  {
   "cell_type": "code",
   "execution_count": null,
   "metadata": {
    "colab": {
     "base_uri": "https://localhost:8080/"
    },
    "executionInfo": {
     "elapsed": 14,
     "status": "ok",
     "timestamp": 1652018314092,
     "user": {
      "displayName": "sujata Singh",
      "userId": "07858160099359690614"
     },
     "user_tz": -330
    },
    "id": "g5aZ_h6sn4Ar",
    "outputId": "98fbde94-02f4-437e-d174-539adef93823"
   },
   "outputs": [
    {
     "data": {
      "text/plain": [
       "dtype('float64')"
      ]
     },
     "execution_count": 106,
     "metadata": {},
     "output_type": "execute_result"
    }
   ],
   "source": [
    "data_frame2['RM'].dtype"
   ]
  },
  {
   "cell_type": "code",
   "execution_count": null,
   "metadata": {
    "colab": {
     "base_uri": "https://localhost:8080/"
    },
    "executionInfo": {
     "elapsed": 9,
     "status": "ok",
     "timestamp": 1652018314092,
     "user": {
      "displayName": "sujata Singh",
      "userId": "07858160099359690614"
     },
     "user_tz": -330
    },
    "id": "gVVt4uwEn7sK",
    "outputId": "125acfe2-ea3c-44de-e6ed-d40754268612"
   },
   "outputs": [
    {
     "data": {
      "text/plain": [
       "dtype('float64')"
      ]
     },
     "execution_count": 107,
     "metadata": {},
     "output_type": "execute_result"
    }
   ],
   "source": [
    "data_frame2['LSTAT'].dtype"
   ]
  },
  {
   "cell_type": "code",
   "execution_count": null,
   "metadata": {
    "colab": {
     "base_uri": "https://localhost:8080/",
     "height": 295
    },
    "executionInfo": {
     "elapsed": 1589,
     "status": "ok",
     "timestamp": 1652018315678,
     "user": {
      "displayName": "sujata Singh",
      "userId": "07858160099359690614"
     },
     "user_tz": -330
    },
    "id": "k50k92MSK4f9",
    "outputId": "c94e49cc-f0e1-4f3f-bdbb-e7702de93130"
   },
   "outputs": [
    {
     "data": {
      "image/png": "[encoded data removed]",
      "text/plain": [
       "<Figure size 432x288 with 1 Axes>"
      ]
     },
     "metadata": {
      "needs_background": "light"
     },
     "output_type": "display_data"
    }
   ],
   "source": [
    "sns.regplot(x=\"RM\",y=\"LSTAT\", data=data_frame2, fit_reg=True)\n",
    "plt.title(\"Relationship between No. of rooms and Lstat\")\n",
    "plt.show()"
   ]
  },
  {
   "cell_type": "code",
   "execution_count": null,
   "metadata": {
    "colab": {
     "base_uri": "https://localhost:8080/",
     "height": 295
    },
    "executionInfo": {
     "elapsed": 20,
     "status": "ok",
     "timestamp": 1652018315679,
     "user": {
      "displayName": "sujata Singh",
      "userId": "07858160099359690614"
     },
     "user_tz": -330
    },
    "id": "qvDT7W7wK4f-",
    "outputId": "afa6a591-a8fa-4462-a4f9-40641b804609"
   },
   "outputs": [
    {
     "data": {
      "image/png": "[encoded data removed]",
      "text/plain": [
       "<Figure size 432x288 with 1 Axes>"
      ]
     },
     "metadata": {
      "needs_background": "light"
     },
     "output_type": "display_data"
    }
   ],
   "source": [
    "# Between prices and No. of rooms\n",
    "sns.regplot(x=\"RM\",y=\"PRICE\", data=data_frame2)\n",
    "plt.title(\"Relationship between No. of rooms and Price\")\n",
    "plt.show()"
   ]
  },
  {
   "cell_type": "code",
   "execution_count": null,
   "metadata": {
    "colab": {
     "base_uri": "https://localhost:8080/",
     "height": 295
    },
    "executionInfo": {
     "elapsed": 17,
     "status": "ok",
     "timestamp": 1652018315680,
     "user": {
      "displayName": "sujata Singh",
      "userId": "07858160099359690614"
     },
     "user_tz": -330
    },
    "id": "RaXj8xKvK4f-",
    "outputId": "16a6a972-6415-4158-b87a-6074f6b5783a"
   },
   "outputs": [
    {
     "data": {
      "image/png": "[encoded data removed]",
      "text/plain": [
       "<Figure size 432x288 with 1 Axes>"
      ]
     },
     "metadata": {
      "needs_background": "light"
     },
     "output_type": "display_data"
    }
   ],
   "source": [
    "# Between prices and Lower Status Population\n",
    "sns.regplot(y=\"PRICE\",x=\"LSTAT\", data=data_frame2, fit_reg= True)\n",
    "plt.title(\"Relationship between Lower Status Population and Price\")\n",
    "plt.show()"
   ]
  },
  {
   "cell_type": "code",
   "execution_count": null,
   "metadata": {
    "id": "fKMnbAqjK4f_"
   },
   "outputs": [],
   "source": [
    "for val in data_frame2.drop(['PRICE','CHAS'], axis = 1):\n",
    "    sns.distplot(data_frame2[val], kde = False,bins=20,label=val)\n",
    "    plt.legend()\n",
    "    plt.show()\n"
   ]
  },
  {
   "cell_type": "code",
   "execution_count": null,
   "metadata": {
    "colab": {
     "base_uri": "https://localhost:8080/"
    },
    "executionInfo": {
     "elapsed": 28,
     "status": "ok",
     "timestamp": 1652018317443,
     "user": {
      "displayName": "sujata Singh",
      "userId": "07858160099359690614"
     },
     "user_tz": -330
    },
    "id": "O1YC6quNPaeQ",
    "outputId": "202fd63c-0e95-4223-db9e-c9e2f6395350"
   },
   "outputs": [
    {
     "data": {
      "text/plain": [
       "0"
      ]
     },
     "execution_count": 112,
     "metadata": {},
     "output_type": "execute_result"
    }
   ],
   "source": [
    "data_frame2.duplicated().sum()"
   ]
  },
  {
   "cell_type": "code",
   "execution_count": null,
   "metadata": {
    "colab": {
     "base_uri": "https://localhost:8080/"
    },
    "executionInfo": {
     "elapsed": 26,
     "status": "ok",
     "timestamp": 1652018317444,
     "user": {
      "displayName": "sujata Singh",
      "userId": "07858160099359690614"
     },
     "user_tz": -330
    },
    "id": "-uuz__EXK4gA",
    "outputId": "3b5d0089-2033-41af-f0fd-879d01e5f52e"
   },
   "outputs": [
    {
     "data": {
      "text/plain": [
       "Int64Index([], dtype='int64')"
      ]
     },
     "execution_count": 113,
     "metadata": {},
     "output_type": "execute_result"
    }
   ],
   "source": [
    "data_frame2[data_frame2.duplicated()==True].index # to get to know the duplicate data indexs"
   ]
  },
  {
   "cell_type": "code",
   "execution_count": null,
   "metadata": {
    "id": "lroQNA0OK4gA"
   },
   "outputs": [],
   "source": [
    "# Drop Duplicate Records in a data\n",
    "data_frame2.drop_duplicates(inplace=True)"
   ]
  },
  {
   "cell_type": "code",
   "execution_count": null,
   "metadata": {
    "colab": {
     "base_uri": "https://localhost:8080/",
     "height": 364
    },
    "executionInfo": {
     "elapsed": 22,
     "status": "ok",
     "timestamp": 1652018317445,
     "user": {
      "displayName": "sujata Singh",
      "userId": "07858160099359690614"
     },
     "user_tz": -330
    },
    "id": "1gOvLGzuK4gA",
    "outputId": "781ff869-5b32-4fc0-bccc-201656087bfd"
   },
   "outputs": [
    {
     "data": {
      "text/html": [
       "\n",
       "  <div id=\"df-76efcf48-d1bc-40c6-bc00-3a5ec80ca412\">\n",
       "    <div class=\"colab-df-container\">\n",
       "      <div>\n",
       "<style scoped>\n",
       "    .dataframe tbody tr th:only-of-type {\n",
       "        vertical-align: middle;\n",
       "    }\n",
       "\n",
       "    .dataframe tbody tr th {\n",
       "        vertical-align: top;\n",
       "    }\n",
       "\n",
       "    .dataframe thead th {\n",
       "        text-align: right;\n",
       "    }\n",
       "</style>\n",
       "<table border=\"1\" class=\"dataframe\">\n",
       "  <thead>\n",
       "    <tr style=\"text-align: right;\">\n",
       "      <th></th>\n",
       "      <th>CRIM</th>\n",
       "      <th>ZN</th>\n",
       "      <th>INDUS</th>\n",
       "      <th>CHAS</th>\n",
       "      <th>NOX</th>\n",
       "      <th>RM</th>\n",
       "      <th>AGE</th>\n",
       "      <th>DIS</th>\n",
       "      <th>RAD</th>\n",
       "      <th>TAX</th>\n",
       "      <th>PTRATIO</th>\n",
       "      <th>B</th>\n",
       "      <th>LSTAT</th>\n",
       "      <th>PRICE</th>\n",
       "    </tr>\n",
       "  </thead>\n",
       "  <tbody>\n",
       "    <tr>\n",
       "      <th>count</th>\n",
       "      <td>506.000000</td>\n",
       "      <td>506.000000</td>\n",
       "      <td>506.000000</td>\n",
       "      <td>506.000000</td>\n",
       "      <td>506.000000</td>\n",
       "      <td>506.000000</td>\n",
       "      <td>506.000000</td>\n",
       "      <td>506.000000</td>\n",
       "      <td>506.000000</td>\n",
       "      <td>506.000000</td>\n",
       "      <td>506.000000</td>\n",
       "      <td>506.000000</td>\n",
       "      <td>506.000000</td>\n",
       "      <td>506.000000</td>\n",
       "    </tr>\n",
       "    <tr>\n",
       "      <th>mean</th>\n",
       "      <td>2.225032</td>\n",
       "      <td>6.963439</td>\n",
       "      <td>11.136779</td>\n",
       "      <td>0.069170</td>\n",
       "      <td>0.554695</td>\n",
       "      <td>6.275312</td>\n",
       "      <td>68.574901</td>\n",
       "      <td>3.783947</td>\n",
       "      <td>9.549407</td>\n",
       "      <td>408.237154</td>\n",
       "      <td>18.463834</td>\n",
       "      <td>381.918836</td>\n",
       "      <td>12.612011</td>\n",
       "      <td>22.532806</td>\n",
       "    </tr>\n",
       "    <tr>\n",
       "      <th>std</th>\n",
       "      <td>3.313353</td>\n",
       "      <td>12.028788</td>\n",
       "      <td>6.860353</td>\n",
       "      <td>0.253994</td>\n",
       "      <td>0.115878</td>\n",
       "      <td>0.630242</td>\n",
       "      <td>28.148861</td>\n",
       "      <td>2.069765</td>\n",
       "      <td>8.707259</td>\n",
       "      <td>168.537116</td>\n",
       "      <td>2.143924</td>\n",
       "      <td>19.054913</td>\n",
       "      <td>7.016829</td>\n",
       "      <td>9.197104</td>\n",
       "    </tr>\n",
       "    <tr>\n",
       "      <th>min</th>\n",
       "      <td>0.006320</td>\n",
       "      <td>0.000000</td>\n",
       "      <td>0.460000</td>\n",
       "      <td>0.000000</td>\n",
       "      <td>0.385000</td>\n",
       "      <td>4.778500</td>\n",
       "      <td>2.900000</td>\n",
       "      <td>1.129600</td>\n",
       "      <td>1.000000</td>\n",
       "      <td>187.000000</td>\n",
       "      <td>13.200000</td>\n",
       "      <td>344.106250</td>\n",
       "      <td>1.730000</td>\n",
       "      <td>5.000000</td>\n",
       "    </tr>\n",
       "    <tr>\n",
       "      <th>25%</th>\n",
       "      <td>0.082045</td>\n",
       "      <td>0.000000</td>\n",
       "      <td>5.190000</td>\n",
       "      <td>0.000000</td>\n",
       "      <td>0.449000</td>\n",
       "      <td>5.885500</td>\n",
       "      <td>45.025000</td>\n",
       "      <td>2.100175</td>\n",
       "      <td>4.000000</td>\n",
       "      <td>279.000000</td>\n",
       "      <td>17.400000</td>\n",
       "      <td>375.377500</td>\n",
       "      <td>6.950000</td>\n",
       "      <td>17.025000</td>\n",
       "    </tr>\n",
       "    <tr>\n",
       "      <th>50%</th>\n",
       "      <td>0.256510</td>\n",
       "      <td>0.000000</td>\n",
       "      <td>9.690000</td>\n",
       "      <td>0.000000</td>\n",
       "      <td>0.538000</td>\n",
       "      <td>6.208500</td>\n",
       "      <td>77.500000</td>\n",
       "      <td>3.207450</td>\n",
       "      <td>5.000000</td>\n",
       "      <td>330.000000</td>\n",
       "      <td>19.050000</td>\n",
       "      <td>391.440000</td>\n",
       "      <td>11.360000</td>\n",
       "      <td>21.200000</td>\n",
       "    </tr>\n",
       "    <tr>\n",
       "      <th>75%</th>\n",
       "      <td>3.677083</td>\n",
       "      <td>12.500000</td>\n",
       "      <td>18.100000</td>\n",
       "      <td>0.000000</td>\n",
       "      <td>0.624000</td>\n",
       "      <td>6.623500</td>\n",
       "      <td>94.075000</td>\n",
       "      <td>5.188425</td>\n",
       "      <td>24.000000</td>\n",
       "      <td>666.000000</td>\n",
       "      <td>20.200000</td>\n",
       "      <td>396.225000</td>\n",
       "      <td>16.955000</td>\n",
       "      <td>25.000000</td>\n",
       "    </tr>\n",
       "    <tr>\n",
       "      <th>max</th>\n",
       "      <td>9.069639</td>\n",
       "      <td>31.250000</td>\n",
       "      <td>27.740000</td>\n",
       "      <td>1.000000</td>\n",
       "      <td>0.871000</td>\n",
       "      <td>7.730500</td>\n",
       "      <td>100.000000</td>\n",
       "      <td>9.820800</td>\n",
       "      <td>24.000000</td>\n",
       "      <td>711.000000</td>\n",
       "      <td>22.000000</td>\n",
       "      <td>396.900000</td>\n",
       "      <td>31.962500</td>\n",
       "      <td>50.000000</td>\n",
       "    </tr>\n",
       "  </tbody>\n",
       "</table>\n",
       "</div>\n",
       "      <button class=\"colab-df-convert\" onclick=\"convertToInteractive('df-76efcf48-d1bc-40c6-bc00-3a5ec80ca412')\"\n",
       "              title=\"Convert this dataframe to an interactive table.\"\n",
       "              style=\"display:none;\">\n",
       "        \n",
       "  <svg xmlns=\"http://www.w3.org/2000/svg\" height=\"24px\"viewBox=\"0 0 24 24\"\n",
       "       width=\"24px\">\n",
       "    <path d=\"M0 0h24v24H0V0z\" fill=\"none\"/>\n",
       "    <path d=\"M18.56 5.44l.94 2.06.94-2.06 2.06-.94-2.06-.94-.94-2.06-.94 2.06-2.06.94zm-11 1L8.5 8.5l.94-2.06 2.06-.94-2.06-.94L8.5 2.5l-.94 2.06-2.06.94zm10 10l.94 2.06.94-2.06 2.06-.94-2.06-.94-.94-2.06-.94 2.06-2.06.94z\"/><path d=\"M17.41 7.96l-1.37-1.37c-.4-.4-.92-.59-1.43-.59-.52 0-1.04.2-1.43.59L10.3 9.45l-7.72 7.72c-.78.78-.78 2.05 0 2.83L4 21.41c.39.39.9.59 1.41.59.51 0 1.02-.2 1.41-.59l7.78-7.78 2.81-2.81c.8-.78.8-2.07 0-2.86zM5.41 20L4 18.59l7.72-7.72 1.47 1.35L5.41 20z\"/>\n",
       "  </svg>\n",
       "      </button>\n",
       "      \n",
       "  <style>\n",
       "    .colab-df-container {\n",
       "      display:flex;\n",
       "      flex-wrap:wrap;\n",
       "      gap: 12px;\n",
       "    }\n",
       "\n",
       "    .colab-df-convert {\n",
       "      background-color: #E8F0FE;\n",
       "      border: none;\n",
       "      border-radius: 50%;\n",
       "      cursor: pointer;\n",
       "      display: none;\n",
       "      fill: #1967D2;\n",
       "      height: 32px;\n",
       "      padding: 0 0 0 0;\n",
       "      width: 32px;\n",
       "    }\n",
       "\n",
       "    .colab-df-convert:hover {\n",
       "      background-color: #E2EBFA;\n",
       "      box-shadow: 0px 1px 2px rgba(60, 64, 67, 0.3), 0px 1px 3px 1px rgba(60, 64, 67, 0.15);\n",
       "      fill: #174EA6;\n",
       "    }\n",
       "\n",
       "    [theme=dark] .colab-df-convert {\n",
       "      background-color: #3B4455;\n",
       "      fill: #D2E3FC;\n",
       "    }\n",
       "\n",
       "    [theme=dark] .colab-df-convert:hover {\n",
       "      background-color: #434B5C;\n",
       "      box-shadow: 0px 1px 3px 1px rgba(0, 0, 0, 0.15);\n",
       "      filter: drop-shadow(0px 1px 2px rgba(0, 0, 0, 0.3));\n",
       "      fill: #FFFFFF;\n",
       "    }\n",
       "  </style>\n",
       "\n",
       "      <script>\n",
       "        const buttonEl =\n",
       "          document.querySelector('#df-76efcf48-d1bc-40c6-bc00-3a5ec80ca412 button.colab-df-convert');\n",
       "        buttonEl.style.display =\n",
       "          google.colab.kernel.accessAllowed ? 'block' : 'none';\n",
       "\n",
       "        async function convertToInteractive(key) {\n",
       "          const element = document.querySelector('#df-76efcf48-d1bc-40c6-bc00-3a5ec80ca412');\n",
       "          const dataTable =\n",
       "            await google.colab.kernel.invokeFunction('convertToInteractive',\n",
       "                                                     [key], {});\n",
       "          if (!dataTable) return;\n",
       "\n",
       "          const docLinkHtml = 'Like what you see? Visit the ' +\n",
       "            '<a target=\"_blank\" href=https://colab.research.google.com/notebooks/data_table.ipynb>data table notebook</a>'\n",
       "            + ' to learn more about interactive tables.';\n",
       "          element.innerHTML = '';\n",
       "          dataTable['output_type'] = 'display_data';\n",
       "          await google.colab.output.renderOutput(dataTable, element);\n",
       "          const docLink = document.createElement('div');\n",
       "          docLink.innerHTML = docLinkHtml;\n",
       "          element.appendChild(docLink);\n",
       "        }\n",
       "      </script>\n",
       "    </div>\n",
       "  </div>\n",
       "  "
      ],
      "text/plain": [
       "             CRIM          ZN       INDUS        CHAS         NOX          RM  \\\n",
       "count  506.000000  506.000000  506.000000  506.000000  506.000000  506.000000   \n",
       "mean     2.225032    6.963439   11.136779    0.069170    0.554695    6.275312   \n",
       "std      3.313353   12.028788    6.860353    0.253994    0.115878    0.630242   \n",
       "min      0.006320    0.000000    0.460000    0.000000    0.385000    4.778500   \n",
       "25%      0.082045    0.000000    5.190000    0.000000    0.449000    5.885500   \n",
       "50%      0.256510    0.000000    9.690000    0.000000    0.538000    6.208500   \n",
       "75%      3.677083   12.500000   18.100000    0.000000    0.624000    6.623500   \n",
       "max      9.069639   31.250000   27.740000    1.000000    0.871000    7.730500   \n",
       "\n",
       "              AGE         DIS         RAD         TAX     PTRATIO           B  \\\n",
       "count  506.000000  506.000000  506.000000  506.000000  506.000000  506.000000   \n",
       "mean    68.574901    3.783947    9.549407  408.237154   18.463834  381.918836   \n",
       "std     28.148861    2.069765    8.707259  168.537116    2.143924   19.054913   \n",
       "min      2.900000    1.129600    1.000000  187.000000   13.200000  344.106250   \n",
       "25%     45.025000    2.100175    4.000000  279.000000   17.400000  375.377500   \n",
       "50%     77.500000    3.207450    5.000000  330.000000   19.050000  391.440000   \n",
       "75%     94.075000    5.188425   24.000000  666.000000   20.200000  396.225000   \n",
       "max    100.000000    9.820800   24.000000  711.000000   22.000000  396.900000   \n",
       "\n",
       "            LSTAT       PRICE  \n",
       "count  506.000000  506.000000  \n",
       "mean    12.612011   22.532806  \n",
       "std      7.016829    9.197104  \n",
       "min      1.730000    5.000000  \n",
       "25%      6.950000   17.025000  \n",
       "50%     11.360000   21.200000  \n",
       "75%     16.955000   25.000000  \n",
       "max     31.962500   50.000000  "
      ]
     },
     "execution_count": 115,
     "metadata": {},
     "output_type": "execute_result"
    }
   ],
   "source": [
    "data_frame2.describe()"
   ]
  },
  {
   "cell_type": "code",
   "execution_count": null,
   "metadata": {
    "colab": {
     "base_uri": "https://localhost:8080/",
     "height": 532
    },
    "executionInfo": {
     "elapsed": 24,
     "status": "ok",
     "timestamp": 1652018317448,
     "user": {
      "displayName": "sujata Singh",
      "userId": "07858160099359690614"
     },
     "user_tz": -330
    },
    "id": "ByRlVPpIK4gB",
    "outputId": "3053b5e8-c82e-4ab1-ea43-0591b0d44ed0"
   },
   "outputs": [
    {
     "data": {
      "text/html": [
       "\n",
       "  <div id=\"df-290e5b9b-27b8-4418-a905-4d82ac722e3f\">\n",
       "    <div class=\"colab-df-container\">\n",
       "      <div>\n",
       "<style scoped>\n",
       "    .dataframe tbody tr th:only-of-type {\n",
       "        vertical-align: middle;\n",
       "    }\n",
       "\n",
       "    .dataframe tbody tr th {\n",
       "        vertical-align: top;\n",
       "    }\n",
       "\n",
       "    .dataframe thead th {\n",
       "        text-align: right;\n",
       "    }\n",
       "</style>\n",
       "<table border=\"1\" class=\"dataframe\">\n",
       "  <thead>\n",
       "    <tr style=\"text-align: right;\">\n",
       "      <th></th>\n",
       "      <th>CRIM</th>\n",
       "      <th>ZN</th>\n",
       "      <th>INDUS</th>\n",
       "      <th>CHAS</th>\n",
       "      <th>NOX</th>\n",
       "      <th>RM</th>\n",
       "      <th>AGE</th>\n",
       "      <th>DIS</th>\n",
       "      <th>RAD</th>\n",
       "      <th>TAX</th>\n",
       "      <th>PTRATIO</th>\n",
       "      <th>B</th>\n",
       "      <th>LSTAT</th>\n",
       "      <th>PRICE</th>\n",
       "    </tr>\n",
       "  </thead>\n",
       "  <tbody>\n",
       "    <tr>\n",
       "      <th>CRIM</th>\n",
       "      <td>1.000000</td>\n",
       "      <td>-0.370213</td>\n",
       "      <td>0.629315</td>\n",
       "      <td>-0.030748</td>\n",
       "      <td>0.663412</td>\n",
       "      <td>-0.260057</td>\n",
       "      <td>0.518951</td>\n",
       "      <td>-0.555054</td>\n",
       "      <td>0.926977</td>\n",
       "      <td>0.870686</td>\n",
       "      <td>0.416269</td>\n",
       "      <td>-0.436156</td>\n",
       "      <td>0.592587</td>\n",
       "      <td>-0.454495</td>\n",
       "    </tr>\n",
       "    <tr>\n",
       "      <th>ZN</th>\n",
       "      <td>-0.370213</td>\n",
       "      <td>1.000000</td>\n",
       "      <td>-0.584079</td>\n",
       "      <td>-0.038059</td>\n",
       "      <td>-0.549670</td>\n",
       "      <td>0.357439</td>\n",
       "      <td>-0.583149</td>\n",
       "      <td>0.681019</td>\n",
       "      <td>-0.344043</td>\n",
       "      <td>-0.383860</td>\n",
       "      <td>-0.432409</td>\n",
       "      <td>0.236768</td>\n",
       "      <td>-0.448131</td>\n",
       "      <td>0.374691</td>\n",
       "    </tr>\n",
       "    <tr>\n",
       "      <th>INDUS</th>\n",
       "      <td>0.629315</td>\n",
       "      <td>-0.584079</td>\n",
       "      <td>1.000000</td>\n",
       "      <td>0.062938</td>\n",
       "      <td>0.763651</td>\n",
       "      <td>-0.408704</td>\n",
       "      <td>0.644779</td>\n",
       "      <td>-0.713079</td>\n",
       "      <td>0.595129</td>\n",
       "      <td>0.720760</td>\n",
       "      <td>0.382359</td>\n",
       "      <td>-0.417485</td>\n",
       "      <td>0.608158</td>\n",
       "      <td>-0.483725</td>\n",
       "    </tr>\n",
       "    <tr>\n",
       "      <th>CHAS</th>\n",
       "      <td>-0.030748</td>\n",
       "      <td>-0.038059</td>\n",
       "      <td>0.062938</td>\n",
       "      <td>1.000000</td>\n",
       "      <td>0.091203</td>\n",
       "      <td>0.081545</td>\n",
       "      <td>0.086518</td>\n",
       "      <td>-0.099435</td>\n",
       "      <td>-0.007368</td>\n",
       "      <td>-0.035587</td>\n",
       "      <td>-0.123763</td>\n",
       "      <td>-0.011069</td>\n",
       "      <td>-0.053288</td>\n",
       "      <td>0.175260</td>\n",
       "    </tr>\n",
       "    <tr>\n",
       "      <th>NOX</th>\n",
       "      <td>0.663412</td>\n",
       "      <td>-0.549670</td>\n",
       "      <td>0.763651</td>\n",
       "      <td>0.091203</td>\n",
       "      <td>1.000000</td>\n",
       "      <td>-0.322413</td>\n",
       "      <td>0.731470</td>\n",
       "      <td>-0.775934</td>\n",
       "      <td>0.611441</td>\n",
       "      <td>0.668023</td>\n",
       "      <td>0.190159</td>\n",
       "      <td>-0.427034</td>\n",
       "      <td>0.595619</td>\n",
       "      <td>-0.427321</td>\n",
       "    </tr>\n",
       "    <tr>\n",
       "      <th>RM</th>\n",
       "      <td>-0.260057</td>\n",
       "      <td>0.357439</td>\n",
       "      <td>-0.408704</td>\n",
       "      <td>0.081545</td>\n",
       "      <td>-0.322413</td>\n",
       "      <td>1.000000</td>\n",
       "      <td>-0.258788</td>\n",
       "      <td>0.224486</td>\n",
       "      <td>-0.206041</td>\n",
       "      <td>-0.292737</td>\n",
       "      <td>-0.353695</td>\n",
       "      <td>0.196260</td>\n",
       "      <td>-0.634425</td>\n",
       "      <td>0.701725</td>\n",
       "    </tr>\n",
       "    <tr>\n",
       "      <th>AGE</th>\n",
       "      <td>0.518951</td>\n",
       "      <td>-0.583149</td>\n",
       "      <td>0.644779</td>\n",
       "      <td>0.086518</td>\n",
       "      <td>0.731470</td>\n",
       "      <td>-0.258788</td>\n",
       "      <td>1.000000</td>\n",
       "      <td>-0.753333</td>\n",
       "      <td>0.456022</td>\n",
       "      <td>0.506456</td>\n",
       "      <td>0.263355</td>\n",
       "      <td>-0.307560</td>\n",
       "      <td>0.606711</td>\n",
       "      <td>-0.376955</td>\n",
       "    </tr>\n",
       "    <tr>\n",
       "      <th>DIS</th>\n",
       "      <td>-0.555054</td>\n",
       "      <td>0.681019</td>\n",
       "      <td>-0.713079</td>\n",
       "      <td>-0.099435</td>\n",
       "      <td>-0.775934</td>\n",
       "      <td>0.224486</td>\n",
       "      <td>-0.753333</td>\n",
       "      <td>1.000000</td>\n",
       "      <td>-0.500007</td>\n",
       "      <td>-0.540200</td>\n",
       "      <td>-0.238556</td>\n",
       "      <td>0.311406</td>\n",
       "      <td>-0.502644</td>\n",
       "      <td>0.253172</td>\n",
       "    </tr>\n",
       "    <tr>\n",
       "      <th>RAD</th>\n",
       "      <td>0.926977</td>\n",
       "      <td>-0.344043</td>\n",
       "      <td>0.595129</td>\n",
       "      <td>-0.007368</td>\n",
       "      <td>0.611441</td>\n",
       "      <td>-0.206041</td>\n",
       "      <td>0.456022</td>\n",
       "      <td>-0.500007</td>\n",
       "      <td>1.000000</td>\n",
       "      <td>0.910228</td>\n",
       "      <td>0.466698</td>\n",
       "      <td>-0.392793</td>\n",
       "      <td>0.489186</td>\n",
       "      <td>-0.381626</td>\n",
       "    </tr>\n",
       "    <tr>\n",
       "      <th>TAX</th>\n",
       "      <td>0.870686</td>\n",
       "      <td>-0.383860</td>\n",
       "      <td>0.720760</td>\n",
       "      <td>-0.035587</td>\n",
       "      <td>0.668023</td>\n",
       "      <td>-0.292737</td>\n",
       "      <td>0.506456</td>\n",
       "      <td>-0.540200</td>\n",
       "      <td>0.910228</td>\n",
       "      <td>1.000000</td>\n",
       "      <td>0.462693</td>\n",
       "      <td>-0.433288</td>\n",
       "      <td>0.545598</td>\n",
       "      <td>-0.468536</td>\n",
       "    </tr>\n",
       "    <tr>\n",
       "      <th>PTRATIO</th>\n",
       "      <td>0.416269</td>\n",
       "      <td>-0.432409</td>\n",
       "      <td>0.382359</td>\n",
       "      <td>-0.123763</td>\n",
       "      <td>0.190159</td>\n",
       "      <td>-0.353695</td>\n",
       "      <td>0.263355</td>\n",
       "      <td>-0.238556</td>\n",
       "      <td>0.466698</td>\n",
       "      <td>0.462693</td>\n",
       "      <td>1.000000</td>\n",
       "      <td>-0.099739</td>\n",
       "      <td>0.376433</td>\n",
       "      <td>-0.507188</td>\n",
       "    </tr>\n",
       "    <tr>\n",
       "      <th>B</th>\n",
       "      <td>-0.436156</td>\n",
       "      <td>0.236768</td>\n",
       "      <td>-0.417485</td>\n",
       "      <td>-0.011069</td>\n",
       "      <td>-0.427034</td>\n",
       "      <td>0.196260</td>\n",
       "      <td>-0.307560</td>\n",
       "      <td>0.311406</td>\n",
       "      <td>-0.392793</td>\n",
       "      <td>-0.433288</td>\n",
       "      <td>-0.099739</td>\n",
       "      <td>1.000000</td>\n",
       "      <td>-0.350237</td>\n",
       "      <td>0.271067</td>\n",
       "    </tr>\n",
       "    <tr>\n",
       "      <th>LSTAT</th>\n",
       "      <td>0.592587</td>\n",
       "      <td>-0.448131</td>\n",
       "      <td>0.608158</td>\n",
       "      <td>-0.053288</td>\n",
       "      <td>0.595619</td>\n",
       "      <td>-0.634425</td>\n",
       "      <td>0.606711</td>\n",
       "      <td>-0.502644</td>\n",
       "      <td>0.489186</td>\n",
       "      <td>0.545598</td>\n",
       "      <td>0.376433</td>\n",
       "      <td>-0.350237</td>\n",
       "      <td>1.000000</td>\n",
       "      <td>-0.744112</td>\n",
       "    </tr>\n",
       "    <tr>\n",
       "      <th>PRICE</th>\n",
       "      <td>-0.454495</td>\n",
       "      <td>0.374691</td>\n",
       "      <td>-0.483725</td>\n",
       "      <td>0.175260</td>\n",
       "      <td>-0.427321</td>\n",
       "      <td>0.701725</td>\n",
       "      <td>-0.376955</td>\n",
       "      <td>0.253172</td>\n",
       "      <td>-0.381626</td>\n",
       "      <td>-0.468536</td>\n",
       "      <td>-0.507188</td>\n",
       "      <td>0.271067</td>\n",
       "      <td>-0.744112</td>\n",
       "      <td>1.000000</td>\n",
       "    </tr>\n",
       "  </tbody>\n",
       "</table>\n",
       "</div>\n",
       "      <button class=\"colab-df-convert\" onclick=\"convertToInteractive('df-290e5b9b-27b8-4418-a905-4d82ac722e3f')\"\n",
       "              title=\"Convert this dataframe to an interactive table.\"\n",
       "              style=\"display:none;\">\n",
       "        \n",
       "  <svg xmlns=\"http://www.w3.org/2000/svg\" height=\"24px\"viewBox=\"0 0 24 24\"\n",
       "       width=\"24px\">\n",
       "    <path d=\"M0 0h24v24H0V0z\" fill=\"none\"/>\n",
       "    <path d=\"M18.56 5.44l.94 2.06.94-2.06 2.06-.94-2.06-.94-.94-2.06-.94 2.06-2.06.94zm-11 1L8.5 8.5l.94-2.06 2.06-.94-2.06-.94L8.5 2.5l-.94 2.06-2.06.94zm10 10l.94 2.06.94-2.06 2.06-.94-2.06-.94-.94-2.06-.94 2.06-2.06.94z\"/><path d=\"M17.41 7.96l-1.37-1.37c-.4-.4-.92-.59-1.43-.59-.52 0-1.04.2-1.43.59L10.3 9.45l-7.72 7.72c-.78.78-.78 2.05 0 2.83L4 21.41c.39.39.9.59 1.41.59.51 0 1.02-.2 1.41-.59l7.78-7.78 2.81-2.81c.8-.78.8-2.07 0-2.86zM5.41 20L4 18.59l7.72-7.72 1.47 1.35L5.41 20z\"/>\n",
       "  </svg>\n",
       "      </button>\n",
       "      \n",
       "  <style>\n",
       "    .colab-df-container {\n",
       "      display:flex;\n",
       "      flex-wrap:wrap;\n",
       "      gap: 12px;\n",
       "    }\n",
       "\n",
       "    .colab-df-convert {\n",
       "      background-color: #E8F0FE;\n",
       "      border: none;\n",
       "      border-radius: 50%;\n",
       "      cursor: pointer;\n",
       "      display: none;\n",
       "      fill: #1967D2;\n",
       "      height: 32px;\n",
       "      padding: 0 0 0 0;\n",
       "      width: 32px;\n",
       "    }\n",
       "\n",
       "    .colab-df-convert:hover {\n",
       "      background-color: #E2EBFA;\n",
       "      box-shadow: 0px 1px 2px rgba(60, 64, 67, 0.3), 0px 1px 3px 1px rgba(60, 64, 67, 0.15);\n",
       "      fill: #174EA6;\n",
       "    }\n",
       "\n",
       "    [theme=dark] .colab-df-convert {\n",
       "      background-color: #3B4455;\n",
       "      fill: #D2E3FC;\n",
       "    }\n",
       "\n",
       "    [theme=dark] .colab-df-convert:hover {\n",
       "      background-color: #434B5C;\n",
       "      box-shadow: 0px 1px 3px 1px rgba(0, 0, 0, 0.15);\n",
       "      filter: drop-shadow(0px 1px 2px rgba(0, 0, 0, 0.3));\n",
       "      fill: #FFFFFF;\n",
       "    }\n",
       "  </style>\n",
       "\n",
       "      <script>\n",
       "        const buttonEl =\n",
       "          document.querySelector('#df-290e5b9b-27b8-4418-a905-4d82ac722e3f button.colab-df-convert');\n",
       "        buttonEl.style.display =\n",
       "          google.colab.kernel.accessAllowed ? 'block' : 'none';\n",
       "\n",
       "        async function convertToInteractive(key) {\n",
       "          const element = document.querySelector('#df-290e5b9b-27b8-4418-a905-4d82ac722e3f');\n",
       "          const dataTable =\n",
       "            await google.colab.kernel.invokeFunction('convertToInteractive',\n",
       "                                                     [key], {});\n",
       "          if (!dataTable) return;\n",
       "\n",
       "          const docLinkHtml = 'Like what you see? Visit the ' +\n",
       "            '<a target=\"_blank\" href=https://colab.research.google.com/notebooks/data_table.ipynb>data table notebook</a>'\n",
       "            + ' to learn more about interactive tables.';\n",
       "          element.innerHTML = '';\n",
       "          dataTable['output_type'] = 'display_data';\n",
       "          await google.colab.output.renderOutput(dataTable, element);\n",
       "          const docLink = document.createElement('div');\n",
       "          docLink.innerHTML = docLinkHtml;\n",
       "          element.appendChild(docLink);\n",
       "        }\n",
       "      </script>\n",
       "    </div>\n",
       "  </div>\n",
       "  "
      ],
      "text/plain": [
       "             CRIM        ZN     INDUS      CHAS       NOX        RM       AGE  \\\n",
       "CRIM     1.000000 -0.370213  0.629315 -0.030748  0.663412 -0.260057  0.518951   \n",
       "ZN      -0.370213  1.000000 -0.584079 -0.038059 -0.549670  0.357439 -0.583149   \n",
       "INDUS    0.629315 -0.584079  1.000000  0.062938  0.763651 -0.408704  0.644779   \n",
       "CHAS    -0.030748 -0.038059  0.062938  1.000000  0.091203  0.081545  0.086518   \n",
       "NOX      0.663412 -0.549670  0.763651  0.091203  1.000000 -0.322413  0.731470   \n",
       "RM      -0.260057  0.357439 -0.408704  0.081545 -0.322413  1.000000 -0.258788   \n",
       "AGE      0.518951 -0.583149  0.644779  0.086518  0.731470 -0.258788  1.000000   \n",
       "DIS     -0.555054  0.681019 -0.713079 -0.099435 -0.775934  0.224486 -0.753333   \n",
       "RAD      0.926977 -0.344043  0.595129 -0.007368  0.611441 -0.206041  0.456022   \n",
       "TAX      0.870686 -0.383860  0.720760 -0.035587  0.668023 -0.292737  0.506456   \n",
       "PTRATIO  0.416269 -0.432409  0.382359 -0.123763  0.190159 -0.353695  0.263355   \n",
       "B       -0.436156  0.236768 -0.417485 -0.011069 -0.427034  0.196260 -0.307560   \n",
       "LSTAT    0.592587 -0.448131  0.608158 -0.053288  0.595619 -0.634425  0.606711   \n",
       "PRICE   -0.454495  0.374691 -0.483725  0.175260 -0.427321  0.701725 -0.376955   \n",
       "\n",
       "              DIS       RAD       TAX   PTRATIO         B     LSTAT     PRICE  \n",
       "CRIM    -0.555054  0.926977  0.870686  0.416269 -0.436156  0.592587 -0.454495  \n",
       "ZN       0.681019 -0.344043 -0.383860 -0.432409  0.236768 -0.448131  0.374691  \n",
       "INDUS   -0.713079  0.595129  0.720760  0.382359 -0.417485  0.608158 -0.483725  \n",
       "CHAS    -0.099435 -0.007368 -0.035587 -0.123763 -0.011069 -0.053288  0.175260  \n",
       "NOX     -0.775934  0.611441  0.668023  0.190159 -0.427034  0.595619 -0.427321  \n",
       "RM       0.224486 -0.206041 -0.292737 -0.353695  0.196260 -0.634425  0.701725  \n",
       "AGE     -0.753333  0.456022  0.506456  0.263355 -0.307560  0.606711 -0.376955  \n",
       "DIS      1.000000 -0.500007 -0.540200 -0.238556  0.311406 -0.502644  0.253172  \n",
       "RAD     -0.500007  1.000000  0.910228  0.466698 -0.392793  0.489186 -0.381626  \n",
       "TAX     -0.540200  0.910228  1.000000  0.462693 -0.433288  0.545598 -0.468536  \n",
       "PTRATIO -0.238556  0.466698  0.462693  1.000000 -0.099739  0.376433 -0.507188  \n",
       "B        0.311406 -0.392793 -0.433288 -0.099739  1.000000 -0.350237  0.271067  \n",
       "LSTAT   -0.502644  0.489186  0.545598  0.376433 -0.350237  1.000000 -0.744112  \n",
       "PRICE    0.253172 -0.381626 -0.468536 -0.507188  0.271067 -0.744112  1.000000  "
      ]
     },
     "execution_count": 116,
     "metadata": {},
     "output_type": "execute_result"
    }
   ],
   "source": [
    "data_frame2.corr()\n",
    "# -1 to +1  -- close to 0 means NO IMPACT"
   ]
  },
  {
   "cell_type": "code",
   "execution_count": null,
   "metadata": {
    "colab": {
     "base_uri": "https://localhost:8080/"
    },
    "executionInfo": {
     "elapsed": 24,
     "status": "ok",
     "timestamp": 1652018317448,
     "user": {
      "displayName": "sujata Singh",
      "userId": "07858160099359690614"
     },
     "user_tz": -330
    },
    "id": "3VBH9TpKK4gB",
    "outputId": "0142bf86-bf21-4caf-deba-0519ed9fd868"
   },
   "outputs": [
    {
     "data": {
      "text/plain": [
       "CRIM       0\n",
       "ZN         0\n",
       "INDUS      0\n",
       "CHAS       0\n",
       "NOX        0\n",
       "RM         0\n",
       "AGE        0\n",
       "DIS        0\n",
       "RAD        0\n",
       "TAX        0\n",
       "PTRATIO    0\n",
       "B          0\n",
       "LSTAT      0\n",
       "PRICE      0\n",
       "dtype: int64"
      ]
     },
     "execution_count": 117,
     "metadata": {},
     "output_type": "execute_result"
    }
   ],
   "source": [
    "data_frame2.isna().sum() # total null value count"
   ]
  },
  {
   "cell_type": "code",
   "execution_count": null,
   "metadata": {
    "colab": {
     "base_uri": "https://localhost:8080/",
     "height": 500
    },
    "executionInfo": {
     "elapsed": 1278,
     "status": "ok",
     "timestamp": 1652018318706,
     "user": {
      "displayName": "sujata Singh",
      "userId": "07858160099359690614"
     },
     "user_tz": -330
    },
    "id": "RVQak2NbK4gB",
    "outputId": "d8115e13-1402-4388-a491-1db8827c52b2"
   },
   "outputs": [
    {
     "data": {
      "text/plain": [
       "<matplotlib.axes._subplots.AxesSubplot at 0x7ff6ad0fb250>"
      ]
     },
     "execution_count": 118,
     "metadata": {},
     "output_type": "execute_result"
    },
    {
     "data": {
      "image/png": "[encoded data removed]",
      "text/plain": [
       "<Figure size 1296x576 with 2 Axes>"
      ]
     },
     "metadata": {
      "needs_background": "light"
     },
     "output_type": "display_data"
    }
   ],
   "source": [
    "fig=plt.figure(figsize=(18,8))\n",
    "sns.heatmap(data_frame.describe(), annot = True, fmt='0.2f', cmap='Pastel2') # used where data has more than 2d"
   ]
  },
  {
   "cell_type": "code",
   "execution_count": null,
   "metadata": {
    "colab": {
     "base_uri": "https://localhost:8080/",
     "height": 341
    },
    "executionInfo": {
     "elapsed": 1671,
     "status": "ok",
     "timestamp": 1652018320366,
     "user": {
      "displayName": "sujata Singh",
      "userId": "07858160099359690614"
     },
     "user_tz": -330
    },
    "id": "BjrZ_45hK4gB",
    "outputId": "50065137-6e4a-4320-e603-0f158b582d35",
    "scrolled": true
   },
   "outputs": [
    {
     "data": {
      "text/plain": [
       "<matplotlib.axes._subplots.AxesSubplot at 0x7ff6a59d8d50>"
      ]
     },
     "execution_count": 119,
     "metadata": {},
     "output_type": "execute_result"
    },
    {
     "data": {
      "image/png": "[encoded data removed]",
      "text/plain": [
       "<Figure size 1080x360 with 2 Axes>"
      ]
     },
     "metadata": {
      "needs_background": "light"
     },
     "output_type": "display_data"
    }
   ],
   "source": [
    "fig = plt.figure(figsize = (15,5))\n",
    "sns.heatmap(data_frame2.corr(), annot = True)"
   ]
  },
  {
   "cell_type": "code",
   "execution_count": null,
   "metadata": {
    "id": "0u8gw62qK4gC"
   },
   "outputs": [],
   "source": [
    "X = data_frame2.drop(['PRICE','CHAS','DIS','B', 'RAD'], axis = 1) # Independet Feature\n",
    "y = data_frame2['PRICE'] # Target"
   ]
  },
  {
   "cell_type": "code",
   "execution_count": null,
   "metadata": {
    "id": "KFRKdo2MK4gE"
   },
   "outputs": [],
   "source": [
    "from sklearn.model_selection import train_test_split\n",
    "X_train, X_test, y_train, y_test = train_test_split(X,y,test_size = 0.25, random_state = 1)\n"
   ]
  },
  {
   "cell_type": "code",
   "execution_count": null,
   "metadata": {
    "colab": {
     "base_uri": "https://localhost:8080/",
     "height": 206
    },
    "executionInfo": {
     "elapsed": 55,
     "status": "ok",
     "timestamp": 1652018320369,
     "user": {
      "displayName": "sujata Singh",
      "userId": "07858160099359690614"
     },
     "user_tz": -330
    },
    "id": "kh8pA3mtITrn",
    "outputId": "3697e996-c6db-47d6-9107-27610ed70262"
   },
   "outputs": [
    {
     "data": {
      "text/html": [
       "\n",
       "  <div id=\"df-ab16bd88-dd83-4c82-8ee5-e03637636e58\">\n",
       "    <div class=\"colab-df-container\">\n",
       "      <div>\n",
       "<style scoped>\n",
       "    .dataframe tbody tr th:only-of-type {\n",
       "        vertical-align: middle;\n",
       "    }\n",
       "\n",
       "    .dataframe tbody tr th {\n",
       "        vertical-align: top;\n",
       "    }\n",
       "\n",
       "    .dataframe thead th {\n",
       "        text-align: right;\n",
       "    }\n",
       "</style>\n",
       "<table border=\"1\" class=\"dataframe\">\n",
       "  <thead>\n",
       "    <tr style=\"text-align: right;\">\n",
       "      <th></th>\n",
       "      <th>CRIM</th>\n",
       "      <th>ZN</th>\n",
       "      <th>INDUS</th>\n",
       "      <th>NOX</th>\n",
       "      <th>RM</th>\n",
       "      <th>AGE</th>\n",
       "      <th>TAX</th>\n",
       "      <th>PTRATIO</th>\n",
       "      <th>LSTAT</th>\n",
       "    </tr>\n",
       "  </thead>\n",
       "  <tbody>\n",
       "    <tr>\n",
       "      <th>502</th>\n",
       "      <td>0.04527</td>\n",
       "      <td>0.0</td>\n",
       "      <td>11.93</td>\n",
       "      <td>0.573</td>\n",
       "      <td>6.120</td>\n",
       "      <td>76.7</td>\n",
       "      <td>273.0</td>\n",
       "      <td>21.0</td>\n",
       "      <td>9.08</td>\n",
       "    </tr>\n",
       "    <tr>\n",
       "      <th>172</th>\n",
       "      <td>0.13914</td>\n",
       "      <td>0.0</td>\n",
       "      <td>4.05</td>\n",
       "      <td>0.510</td>\n",
       "      <td>5.572</td>\n",
       "      <td>88.5</td>\n",
       "      <td>296.0</td>\n",
       "      <td>16.6</td>\n",
       "      <td>14.69</td>\n",
       "    </tr>\n",
       "    <tr>\n",
       "      <th>80</th>\n",
       "      <td>0.04113</td>\n",
       "      <td>25.0</td>\n",
       "      <td>4.86</td>\n",
       "      <td>0.426</td>\n",
       "      <td>6.727</td>\n",
       "      <td>33.5</td>\n",
       "      <td>281.0</td>\n",
       "      <td>19.0</td>\n",
       "      <td>5.29</td>\n",
       "    </tr>\n",
       "    <tr>\n",
       "      <th>46</th>\n",
       "      <td>0.18836</td>\n",
       "      <td>0.0</td>\n",
       "      <td>6.91</td>\n",
       "      <td>0.448</td>\n",
       "      <td>5.786</td>\n",
       "      <td>33.3</td>\n",
       "      <td>233.0</td>\n",
       "      <td>17.9</td>\n",
       "      <td>14.15</td>\n",
       "    </tr>\n",
       "    <tr>\n",
       "      <th>318</th>\n",
       "      <td>0.40202</td>\n",
       "      <td>0.0</td>\n",
       "      <td>9.90</td>\n",
       "      <td>0.544</td>\n",
       "      <td>6.382</td>\n",
       "      <td>67.2</td>\n",
       "      <td>304.0</td>\n",
       "      <td>18.4</td>\n",
       "      <td>10.36</td>\n",
       "    </tr>\n",
       "  </tbody>\n",
       "</table>\n",
       "</div>\n",
       "      <button class=\"colab-df-convert\" onclick=\"convertToInteractive('df-ab16bd88-dd83-4c82-8ee5-e03637636e58')\"\n",
       "              title=\"Convert this dataframe to an interactive table.\"\n",
       "              style=\"display:none;\">\n",
       "        \n",
       "  <svg xmlns=\"http://www.w3.org/2000/svg\" height=\"24px\"viewBox=\"0 0 24 24\"\n",
       "       width=\"24px\">\n",
       "    <path d=\"M0 0h24v24H0V0z\" fill=\"none\"/>\n",
       "    <path d=\"M18.56 5.44l.94 2.06.94-2.06 2.06-.94-2.06-.94-.94-2.06-.94 2.06-2.06.94zm-11 1L8.5 8.5l.94-2.06 2.06-.94-2.06-.94L8.5 2.5l-.94 2.06-2.06.94zm10 10l.94 2.06.94-2.06 2.06-.94-2.06-.94-.94-2.06-.94 2.06-2.06.94z\"/><path d=\"M17.41 7.96l-1.37-1.37c-.4-.4-.92-.59-1.43-.59-.52 0-1.04.2-1.43.59L10.3 9.45l-7.72 7.72c-.78.78-.78 2.05 0 2.83L4 21.41c.39.39.9.59 1.41.59.51 0 1.02-.2 1.41-.59l7.78-7.78 2.81-2.81c.8-.78.8-2.07 0-2.86zM5.41 20L4 18.59l7.72-7.72 1.47 1.35L5.41 20z\"/>\n",
       "  </svg>\n",
       "      </button>\n",
       "      \n",
       "  <style>\n",
       "    .colab-df-container {\n",
       "      display:flex;\n",
       "      flex-wrap:wrap;\n",
       "      gap: 12px;\n",
       "    }\n",
       "\n",
       "    .colab-df-convert {\n",
       "      background-color: #E8F0FE;\n",
       "      border: none;\n",
       "      border-radius: 50%;\n",
       "      cursor: pointer;\n",
       "      display: none;\n",
       "      fill: #1967D2;\n",
       "      height: 32px;\n",
       "      padding: 0 0 0 0;\n",
       "      width: 32px;\n",
       "    }\n",
       "\n",
       "    .colab-df-convert:hover {\n",
       "      background-color: #E2EBFA;\n",
       "      box-shadow: 0px 1px 2px rgba(60, 64, 67, 0.3), 0px 1px 3px 1px rgba(60, 64, 67, 0.15);\n",
       "      fill: #174EA6;\n",
       "    }\n",
       "\n",
       "    [theme=dark] .colab-df-convert {\n",
       "      background-color: #3B4455;\n",
       "      fill: #D2E3FC;\n",
       "    }\n",
       "\n",
       "    [theme=dark] .colab-df-convert:hover {\n",
       "      background-color: #434B5C;\n",
       "      box-shadow: 0px 1px 3px 1px rgba(0, 0, 0, 0.15);\n",
       "      filter: drop-shadow(0px 1px 2px rgba(0, 0, 0, 0.3));\n",
       "      fill: #FFFFFF;\n",
       "    }\n",
       "  </style>\n",
       "\n",
       "      <script>\n",
       "        const buttonEl =\n",
       "          document.querySelector('#df-ab16bd88-dd83-4c82-8ee5-e03637636e58 button.colab-df-convert');\n",
       "        buttonEl.style.display =\n",
       "          google.colab.kernel.accessAllowed ? 'block' : 'none';\n",
       "\n",
       "        async function convertToInteractive(key) {\n",
       "          const element = document.querySelector('#df-ab16bd88-dd83-4c82-8ee5-e03637636e58');\n",
       "          const dataTable =\n",
       "            await google.colab.kernel.invokeFunction('convertToInteractive',\n",
       "                                                     [key], {});\n",
       "          if (!dataTable) return;\n",
       "\n",
       "          const docLinkHtml = 'Like what you see? Visit the ' +\n",
       "            '<a target=\"_blank\" href=https://colab.research.google.com/notebooks/data_table.ipynb>data table notebook</a>'\n",
       "            + ' to learn more about interactive tables.';\n",
       "          element.innerHTML = '';\n",
       "          dataTable['output_type'] = 'display_data';\n",
       "          await google.colab.output.renderOutput(dataTable, element);\n",
       "          const docLink = document.createElement('div');\n",
       "          docLink.innerHTML = docLinkHtml;\n",
       "          element.appendChild(docLink);\n",
       "        }\n",
       "      </script>\n",
       "    </div>\n",
       "  </div>\n",
       "  "
      ],
      "text/plain": [
       "        CRIM    ZN  INDUS    NOX     RM   AGE    TAX  PTRATIO  LSTAT\n",
       "502  0.04527   0.0  11.93  0.573  6.120  76.7  273.0     21.0   9.08\n",
       "172  0.13914   0.0   4.05  0.510  5.572  88.5  296.0     16.6  14.69\n",
       "80   0.04113  25.0   4.86  0.426  6.727  33.5  281.0     19.0   5.29\n",
       "46   0.18836   0.0   6.91  0.448  5.786  33.3  233.0     17.9  14.15\n",
       "318  0.40202   0.0   9.90  0.544  6.382  67.2  304.0     18.4  10.36"
      ]
     },
     "execution_count": 122,
     "metadata": {},
     "output_type": "execute_result"
    }
   ],
   "source": [
    "X_train.head()"
   ]
  },
  {
   "cell_type": "code",
   "execution_count": null,
   "metadata": {
    "colab": {
     "base_uri": "https://localhost:8080/",
     "height": 206
    },
    "executionInfo": {
     "elapsed": 53,
     "status": "ok",
     "timestamp": 1652018320369,
     "user": {
      "displayName": "sujata Singh",
      "userId": "07858160099359690614"
     },
     "user_tz": -330
    },
    "id": "QMcUz2KLK4gE",
    "outputId": "04f67269-ecfd-4bcd-857f-f425d408c97b"
   },
   "outputs": [
    {
     "data": {
      "text/html": [
       "\n",
       "  <div id=\"df-ac843b19-8f18-4811-b588-7fff2ccb4be0\">\n",
       "    <div class=\"colab-df-container\">\n",
       "      <div>\n",
       "<style scoped>\n",
       "    .dataframe tbody tr th:only-of-type {\n",
       "        vertical-align: middle;\n",
       "    }\n",
       "\n",
       "    .dataframe tbody tr th {\n",
       "        vertical-align: top;\n",
       "    }\n",
       "\n",
       "    .dataframe thead th {\n",
       "        text-align: right;\n",
       "    }\n",
       "</style>\n",
       "<table border=\"1\" class=\"dataframe\">\n",
       "  <thead>\n",
       "    <tr style=\"text-align: right;\">\n",
       "      <th></th>\n",
       "      <th>CRIM</th>\n",
       "      <th>ZN</th>\n",
       "      <th>INDUS</th>\n",
       "      <th>NOX</th>\n",
       "      <th>RM</th>\n",
       "      <th>AGE</th>\n",
       "      <th>TAX</th>\n",
       "      <th>PTRATIO</th>\n",
       "      <th>LSTAT</th>\n",
       "    </tr>\n",
       "  </thead>\n",
       "  <tbody>\n",
       "    <tr>\n",
       "      <th>307</th>\n",
       "      <td>0.04932</td>\n",
       "      <td>31.25</td>\n",
       "      <td>2.18</td>\n",
       "      <td>0.472</td>\n",
       "      <td>6.849</td>\n",
       "      <td>70.3</td>\n",
       "      <td>222.0</td>\n",
       "      <td>18.4</td>\n",
       "      <td>7.53</td>\n",
       "    </tr>\n",
       "    <tr>\n",
       "      <th>343</th>\n",
       "      <td>0.02543</td>\n",
       "      <td>31.25</td>\n",
       "      <td>3.78</td>\n",
       "      <td>0.484</td>\n",
       "      <td>6.696</td>\n",
       "      <td>56.4</td>\n",
       "      <td>370.0</td>\n",
       "      <td>17.6</td>\n",
       "      <td>7.18</td>\n",
       "    </tr>\n",
       "    <tr>\n",
       "      <th>47</th>\n",
       "      <td>0.22927</td>\n",
       "      <td>0.00</td>\n",
       "      <td>6.91</td>\n",
       "      <td>0.448</td>\n",
       "      <td>6.030</td>\n",
       "      <td>85.5</td>\n",
       "      <td>233.0</td>\n",
       "      <td>17.9</td>\n",
       "      <td>18.80</td>\n",
       "    </tr>\n",
       "    <tr>\n",
       "      <th>67</th>\n",
       "      <td>0.05789</td>\n",
       "      <td>12.50</td>\n",
       "      <td>6.07</td>\n",
       "      <td>0.409</td>\n",
       "      <td>5.878</td>\n",
       "      <td>21.4</td>\n",
       "      <td>345.0</td>\n",
       "      <td>18.9</td>\n",
       "      <td>8.10</td>\n",
       "    </tr>\n",
       "    <tr>\n",
       "      <th>362</th>\n",
       "      <td>3.67822</td>\n",
       "      <td>0.00</td>\n",
       "      <td>18.10</td>\n",
       "      <td>0.770</td>\n",
       "      <td>5.362</td>\n",
       "      <td>96.2</td>\n",
       "      <td>666.0</td>\n",
       "      <td>20.2</td>\n",
       "      <td>10.19</td>\n",
       "    </tr>\n",
       "  </tbody>\n",
       "</table>\n",
       "</div>\n",
       "      <button class=\"colab-df-convert\" onclick=\"convertToInteractive('df-ac843b19-8f18-4811-b588-7fff2ccb4be0')\"\n",
       "              title=\"Convert this dataframe to an interactive table.\"\n",
       "              style=\"display:none;\">\n",
       "        \n",
       "  <svg xmlns=\"http://www.w3.org/2000/svg\" height=\"24px\"viewBox=\"0 0 24 24\"\n",
       "       width=\"24px\">\n",
       "    <path d=\"M0 0h24v24H0V0z\" fill=\"none\"/>\n",
       "    <path d=\"M18.56 5.44l.94 2.06.94-2.06 2.06-.94-2.06-.94-.94-2.06-.94 2.06-2.06.94zm-11 1L8.5 8.5l.94-2.06 2.06-.94-2.06-.94L8.5 2.5l-.94 2.06-2.06.94zm10 10l.94 2.06.94-2.06 2.06-.94-2.06-.94-.94-2.06-.94 2.06-2.06.94z\"/><path d=\"M17.41 7.96l-1.37-1.37c-.4-.4-.92-.59-1.43-.59-.52 0-1.04.2-1.43.59L10.3 9.45l-7.72 7.72c-.78.78-.78 2.05 0 2.83L4 21.41c.39.39.9.59 1.41.59.51 0 1.02-.2 1.41-.59l7.78-7.78 2.81-2.81c.8-.78.8-2.07 0-2.86zM5.41 20L4 18.59l7.72-7.72 1.47 1.35L5.41 20z\"/>\n",
       "  </svg>\n",
       "      </button>\n",
       "      \n",
       "  <style>\n",
       "    .colab-df-container {\n",
       "      display:flex;\n",
       "      flex-wrap:wrap;\n",
       "      gap: 12px;\n",
       "    }\n",
       "\n",
       "    .colab-df-convert {\n",
       "      background-color: #E8F0FE;\n",
       "      border: none;\n",
       "      border-radius: 50%;\n",
       "      cursor: pointer;\n",
       "      display: none;\n",
       "      fill: #1967D2;\n",
       "      height: 32px;\n",
       "      padding: 0 0 0 0;\n",
       "      width: 32px;\n",
       "    }\n",
       "\n",
       "    .colab-df-convert:hover {\n",
       "      background-color: #E2EBFA;\n",
       "      box-shadow: 0px 1px 2px rgba(60, 64, 67, 0.3), 0px 1px 3px 1px rgba(60, 64, 67, 0.15);\n",
       "      fill: #174EA6;\n",
       "    }\n",
       "\n",
       "    [theme=dark] .colab-df-convert {\n",
       "      background-color: #3B4455;\n",
       "      fill: #D2E3FC;\n",
       "    }\n",
       "\n",
       "    [theme=dark] .colab-df-convert:hover {\n",
       "      background-color: #434B5C;\n",
       "      box-shadow: 0px 1px 3px 1px rgba(0, 0, 0, 0.15);\n",
       "      filter: drop-shadow(0px 1px 2px rgba(0, 0, 0, 0.3));\n",
       "      fill: #FFFFFF;\n",
       "    }\n",
       "  </style>\n",
       "\n",
       "      <script>\n",
       "        const buttonEl =\n",
       "          document.querySelector('#df-ac843b19-8f18-4811-b588-7fff2ccb4be0 button.colab-df-convert');\n",
       "        buttonEl.style.display =\n",
       "          google.colab.kernel.accessAllowed ? 'block' : 'none';\n",
       "\n",
       "        async function convertToInteractive(key) {\n",
       "          const element = document.querySelector('#df-ac843b19-8f18-4811-b588-7fff2ccb4be0');\n",
       "          const dataTable =\n",
       "            await google.colab.kernel.invokeFunction('convertToInteractive',\n",
       "                                                     [key], {});\n",
       "          if (!dataTable) return;\n",
       "\n",
       "          const docLinkHtml = 'Like what you see? Visit the ' +\n",
       "            '<a target=\"_blank\" href=https://colab.research.google.com/notebooks/data_table.ipynb>data table notebook</a>'\n",
       "            + ' to learn more about interactive tables.';\n",
       "          element.innerHTML = '';\n",
       "          dataTable['output_type'] = 'display_data';\n",
       "          await google.colab.output.renderOutput(dataTable, element);\n",
       "          const docLink = document.createElement('div');\n",
       "          docLink.innerHTML = docLinkHtml;\n",
       "          element.appendChild(docLink);\n",
       "        }\n",
       "      </script>\n",
       "    </div>\n",
       "  </div>\n",
       "  "
      ],
      "text/plain": [
       "        CRIM     ZN  INDUS    NOX     RM   AGE    TAX  PTRATIO  LSTAT\n",
       "307  0.04932  31.25   2.18  0.472  6.849  70.3  222.0     18.4   7.53\n",
       "343  0.02543  31.25   3.78  0.484  6.696  56.4  370.0     17.6   7.18\n",
       "47   0.22927   0.00   6.91  0.448  6.030  85.5  233.0     17.9  18.80\n",
       "67   0.05789  12.50   6.07  0.409  5.878  21.4  345.0     18.9   8.10\n",
       "362  3.67822   0.00  18.10  0.770  5.362  96.2  666.0     20.2  10.19"
      ]
     },
     "execution_count": 123,
     "metadata": {},
     "output_type": "execute_result"
    }
   ],
   "source": [
    "X_test.head()"
   ]
  },
  {
   "cell_type": "code",
   "execution_count": null,
   "metadata": {
    "colab": {
     "base_uri": "https://localhost:8080/"
    },
    "executionInfo": {
     "elapsed": 52,
     "status": "ok",
     "timestamp": 1652018320370,
     "user": {
      "displayName": "sujata Singh",
      "userId": "07858160099359690614"
     },
     "user_tz": -330
    },
    "id": "b3L3BgZGK4gE",
    "outputId": "fad90b4d-1285-4e03-c525-076aea0b770e"
   },
   "outputs": [
    {
     "data": {
      "text/plain": [
       "307    28.2\n",
       "343    23.9\n",
       "47     16.6\n",
       "67     22.0\n",
       "362    20.8\n",
       "Name: PRICE, dtype: float64"
      ]
     },
     "execution_count": 124,
     "metadata": {},
     "output_type": "execute_result"
    }
   ],
   "source": [
    "y_test.head()"
   ]
  },
  {
   "cell_type": "code",
   "execution_count": null,
   "metadata": {
    "colab": {
     "base_uri": "https://localhost:8080/"
    },
    "executionInfo": {
     "elapsed": 49,
     "status": "ok",
     "timestamp": 1652018320370,
     "user": {
      "displayName": "sujata Singh",
      "userId": "07858160099359690614"
     },
     "user_tz": -330
    },
    "id": "9x2c52crK4gF",
    "outputId": "eb71790a-d0c1-4d92-80f3-35831814ab7c"
   },
   "outputs": [
    {
     "data": {
      "text/plain": [
       "LinearRegression()"
      ]
     },
     "execution_count": 125,
     "metadata": {},
     "output_type": "execute_result"
    }
   ],
   "source": [
    "# importing algorithm\n",
    "from sklearn.linear_model import LinearRegression\n",
    "\n",
    "# Create a Linear regressor\n",
    "lm = LinearRegression()\n",
    "\n",
    "# Train the model using the training sets \n",
    "lm.fit(X_train, y_train)"
   ]
  },
  {
   "cell_type": "code",
   "execution_count": null,
   "metadata": {
    "colab": {
     "base_uri": "https://localhost:8080/"
    },
    "executionInfo": {
     "elapsed": 46,
     "status": "ok",
     "timestamp": 1652018320371,
     "user": {
      "displayName": "sujata Singh",
      "userId": "07858160099359690614"
     },
     "user_tz": -330
    },
    "id": "fE-ZY2ohK4gF",
    "outputId": "5c8af936-8d2f-4a36-913c-822861ada138"
   },
   "outputs": [
    {
     "data": {
      "text/plain": [
       "array([27.57136364, 27.18984932, 20.11133443, 23.01069482, 17.17127162,\n",
       "       21.52306912, 27.23014811, 20.00051305, 21.40218985, 26.77855184,\n",
       "       27.19256679, 28.7398222 , 20.19205519, 23.77253171, 23.12525758,\n",
       "       19.83899441, 16.1702647 , 35.64855206, 28.52580353,  8.18629052,\n",
       "       21.65385861, 19.51536068, 26.79114495, 26.03161113, 29.01657848,\n",
       "       12.44112452, 15.2356183 , 22.83880881, 35.20098331, 12.40550359,\n",
       "       27.11277732, 15.65721865, 37.87429885, 18.32673905, 25.3870682 ,\n",
       "       18.34985632, 17.03494549, 31.0097487 ,  9.19188983, 19.40412661,\n",
       "       26.83834204, 24.13666674, 29.27728288, 14.25044576, 18.66149981,\n",
       "       16.0675713 , 40.76566934, 17.52734995, 29.34389172, 22.28804504,\n",
       "       23.92132346, 25.35637016, 28.42696961, 29.26303834,  5.19612339,\n",
       "       25.62205094,  7.86692446, 26.32946879, 17.90388579, 35.63146294,\n",
       "       20.27695158, 28.71056688, 14.37194084, 19.47346955,  7.17689405,\n",
       "       31.41997994, 36.7631785 , 28.32601765, 26.94763713, 26.95462707,\n",
       "       25.26704059,  5.3863495 , 13.63664522, 22.56865792, 18.88441499,\n",
       "       19.77498991, 30.99846854, 28.75822255, 28.88048054, 30.13777125,\n",
       "       18.88087607, 24.03220985, 32.98071514, 15.21273815, 25.08088947,\n",
       "       30.39462952, 17.06209311, 25.98429949, 18.33226788, 17.51213119,\n",
       "       27.76202044, 37.38215418, 16.33999244, 24.96979848, 19.6679086 ,\n",
       "       24.89634809, 22.95145046, 26.44466745, 35.77630257, 18.94462458,\n",
       "       18.14482508, 17.74154299, 26.8747076 , 23.18664284,  5.59123915,\n",
       "       23.36537111, 16.36585762, 32.32521686, 23.14680616, 25.25784846,\n",
       "       37.56259398, 28.22545984, 14.52543401, 30.54680475, 34.47434268,\n",
       "       34.24692391, 21.10436608, 16.46058186, 30.94755391, 36.18051897,\n",
       "       23.54621557, 18.9540391 , 29.73826365, 17.86682536, 26.67701079,\n",
       "       19.82198127, 27.89798366])"
      ]
     },
     "execution_count": 126,
     "metadata": {},
     "output_type": "execute_result"
    }
   ],
   "source": [
    "y_pred = lm.predict(X_test)\n",
    "y_pred"
   ]
  },
  {
   "cell_type": "code",
   "execution_count": null,
   "metadata": {
    "colab": {
     "base_uri": "https://localhost:8080/",
     "height": 424
    },
    "executionInfo": {
     "elapsed": 43,
     "status": "ok",
     "timestamp": 1652018320371,
     "user": {
      "displayName": "sujata Singh",
      "userId": "07858160099359690614"
     },
     "user_tz": -330
    },
    "id": "umCbrjs3K4gG",
    "outputId": "5c8fdf5c-b126-4db7-f1f2-6b2b1aa8d752"
   },
   "outputs": [
    {
     "data": {
      "text/html": [
       "\n",
       "  <div id=\"df-6d24ecc7-17af-41ae-915d-3248d8d39097\">\n",
       "    <div class=\"colab-df-container\">\n",
       "      <div>\n",
       "<style scoped>\n",
       "    .dataframe tbody tr th:only-of-type {\n",
       "        vertical-align: middle;\n",
       "    }\n",
       "\n",
       "    .dataframe tbody tr th {\n",
       "        vertical-align: top;\n",
       "    }\n",
       "\n",
       "    .dataframe thead th {\n",
       "        text-align: right;\n",
       "    }\n",
       "</style>\n",
       "<table border=\"1\" class=\"dataframe\">\n",
       "  <thead>\n",
       "    <tr style=\"text-align: right;\">\n",
       "      <th></th>\n",
       "      <th>CRIM</th>\n",
       "      <th>ZN</th>\n",
       "      <th>INDUS</th>\n",
       "      <th>NOX</th>\n",
       "      <th>RM</th>\n",
       "      <th>AGE</th>\n",
       "      <th>TAX</th>\n",
       "      <th>PTRATIO</th>\n",
       "      <th>LSTAT</th>\n",
       "      <th>y_test</th>\n",
       "      <th>predictions</th>\n",
       "    </tr>\n",
       "  </thead>\n",
       "  <tbody>\n",
       "    <tr>\n",
       "      <th>307</th>\n",
       "      <td>0.04932</td>\n",
       "      <td>31.25</td>\n",
       "      <td>2.18</td>\n",
       "      <td>0.472</td>\n",
       "      <td>6.849</td>\n",
       "      <td>70.3</td>\n",
       "      <td>222.0</td>\n",
       "      <td>18.4</td>\n",
       "      <td>7.53</td>\n",
       "      <td>28.2</td>\n",
       "      <td>27.571364</td>\n",
       "    </tr>\n",
       "    <tr>\n",
       "      <th>343</th>\n",
       "      <td>0.02543</td>\n",
       "      <td>31.25</td>\n",
       "      <td>3.78</td>\n",
       "      <td>0.484</td>\n",
       "      <td>6.696</td>\n",
       "      <td>56.4</td>\n",
       "      <td>370.0</td>\n",
       "      <td>17.6</td>\n",
       "      <td>7.18</td>\n",
       "      <td>23.9</td>\n",
       "      <td>27.189849</td>\n",
       "    </tr>\n",
       "    <tr>\n",
       "      <th>47</th>\n",
       "      <td>0.22927</td>\n",
       "      <td>0.00</td>\n",
       "      <td>6.91</td>\n",
       "      <td>0.448</td>\n",
       "      <td>6.030</td>\n",
       "      <td>85.5</td>\n",
       "      <td>233.0</td>\n",
       "      <td>17.9</td>\n",
       "      <td>18.80</td>\n",
       "      <td>16.6</td>\n",
       "      <td>20.111334</td>\n",
       "    </tr>\n",
       "    <tr>\n",
       "      <th>67</th>\n",
       "      <td>0.05789</td>\n",
       "      <td>12.50</td>\n",
       "      <td>6.07</td>\n",
       "      <td>0.409</td>\n",
       "      <td>5.878</td>\n",
       "      <td>21.4</td>\n",
       "      <td>345.0</td>\n",
       "      <td>18.9</td>\n",
       "      <td>8.10</td>\n",
       "      <td>22.0</td>\n",
       "      <td>23.010695</td>\n",
       "    </tr>\n",
       "    <tr>\n",
       "      <th>362</th>\n",
       "      <td>3.67822</td>\n",
       "      <td>0.00</td>\n",
       "      <td>18.10</td>\n",
       "      <td>0.770</td>\n",
       "      <td>5.362</td>\n",
       "      <td>96.2</td>\n",
       "      <td>666.0</td>\n",
       "      <td>20.2</td>\n",
       "      <td>10.19</td>\n",
       "      <td>20.8</td>\n",
       "      <td>17.171272</td>\n",
       "    </tr>\n",
       "    <tr>\n",
       "      <th>...</th>\n",
       "      <td>...</td>\n",
       "      <td>...</td>\n",
       "      <td>...</td>\n",
       "      <td>...</td>\n",
       "      <td>...</td>\n",
       "      <td>...</td>\n",
       "      <td>...</td>\n",
       "      <td>...</td>\n",
       "      <td>...</td>\n",
       "      <td>...</td>\n",
       "      <td>...</td>\n",
       "    </tr>\n",
       "    <tr>\n",
       "      <th>41</th>\n",
       "      <td>0.12744</td>\n",
       "      <td>0.00</td>\n",
       "      <td>6.91</td>\n",
       "      <td>0.448</td>\n",
       "      <td>6.770</td>\n",
       "      <td>2.9</td>\n",
       "      <td>233.0</td>\n",
       "      <td>17.9</td>\n",
       "      <td>4.84</td>\n",
       "      <td>26.6</td>\n",
       "      <td>29.738264</td>\n",
       "    </tr>\n",
       "    <tr>\n",
       "      <th>361</th>\n",
       "      <td>3.83684</td>\n",
       "      <td>0.00</td>\n",
       "      <td>18.10</td>\n",
       "      <td>0.770</td>\n",
       "      <td>6.251</td>\n",
       "      <td>91.1</td>\n",
       "      <td>666.0</td>\n",
       "      <td>20.2</td>\n",
       "      <td>14.19</td>\n",
       "      <td>19.9</td>\n",
       "      <td>17.866825</td>\n",
       "    </tr>\n",
       "    <tr>\n",
       "      <th>289</th>\n",
       "      <td>0.04297</td>\n",
       "      <td>31.25</td>\n",
       "      <td>5.32</td>\n",
       "      <td>0.405</td>\n",
       "      <td>6.565</td>\n",
       "      <td>22.9</td>\n",
       "      <td>293.0</td>\n",
       "      <td>16.6</td>\n",
       "      <td>9.51</td>\n",
       "      <td>24.8</td>\n",
       "      <td>26.677011</td>\n",
       "    </tr>\n",
       "    <tr>\n",
       "      <th>498</th>\n",
       "      <td>0.23912</td>\n",
       "      <td>0.00</td>\n",
       "      <td>9.69</td>\n",
       "      <td>0.585</td>\n",
       "      <td>6.019</td>\n",
       "      <td>65.3</td>\n",
       "      <td>391.0</td>\n",
       "      <td>19.2</td>\n",
       "      <td>12.92</td>\n",
       "      <td>21.2</td>\n",
       "      <td>19.821981</td>\n",
       "    </tr>\n",
       "    <tr>\n",
       "      <th>293</th>\n",
       "      <td>0.08265</td>\n",
       "      <td>0.00</td>\n",
       "      <td>13.92</td>\n",
       "      <td>0.437</td>\n",
       "      <td>6.127</td>\n",
       "      <td>18.4</td>\n",
       "      <td>289.0</td>\n",
       "      <td>16.0</td>\n",
       "      <td>8.58</td>\n",
       "      <td>23.9</td>\n",
       "      <td>27.897984</td>\n",
       "    </tr>\n",
       "  </tbody>\n",
       "</table>\n",
       "<p>127 rows × 11 columns</p>\n",
       "</div>\n",
       "      <button class=\"colab-df-convert\" onclick=\"convertToInteractive('df-6d24ecc7-17af-41ae-915d-3248d8d39097')\"\n",
       "              title=\"Convert this dataframe to an interactive table.\"\n",
       "              style=\"display:none;\">\n",
       "        \n",
       "  <svg xmlns=\"http://www.w3.org/2000/svg\" height=\"24px\"viewBox=\"0 0 24 24\"\n",
       "       width=\"24px\">\n",
       "    <path d=\"M0 0h24v24H0V0z\" fill=\"none\"/>\n",
       "    <path d=\"M18.56 5.44l.94 2.06.94-2.06 2.06-.94-2.06-.94-.94-2.06-.94 2.06-2.06.94zm-11 1L8.5 8.5l.94-2.06 2.06-.94-2.06-.94L8.5 2.5l-.94 2.06-2.06.94zm10 10l.94 2.06.94-2.06 2.06-.94-2.06-.94-.94-2.06-.94 2.06-2.06.94z\"/><path d=\"M17.41 7.96l-1.37-1.37c-.4-.4-.92-.59-1.43-.59-.52 0-1.04.2-1.43.59L10.3 9.45l-7.72 7.72c-.78.78-.78 2.05 0 2.83L4 21.41c.39.39.9.59 1.41.59.51 0 1.02-.2 1.41-.59l7.78-7.78 2.81-2.81c.8-.78.8-2.07 0-2.86zM5.41 20L4 18.59l7.72-7.72 1.47 1.35L5.41 20z\"/>\n",
       "  </svg>\n",
       "      </button>\n",
       "      \n",
       "  <style>\n",
       "    .colab-df-container {\n",
       "      display:flex;\n",
       "      flex-wrap:wrap;\n",
       "      gap: 12px;\n",
       "    }\n",
       "\n",
       "    .colab-df-convert {\n",
       "      background-color: #E8F0FE;\n",
       "      border: none;\n",
       "      border-radius: 50%;\n",
       "      cursor: pointer;\n",
       "      display: none;\n",
       "      fill: #1967D2;\n",
       "      height: 32px;\n",
       "      padding: 0 0 0 0;\n",
       "      width: 32px;\n",
       "    }\n",
       "\n",
       "    .colab-df-convert:hover {\n",
       "      background-color: #E2EBFA;\n",
       "      box-shadow: 0px 1px 2px rgba(60, 64, 67, 0.3), 0px 1px 3px 1px rgba(60, 64, 67, 0.15);\n",
       "      fill: #174EA6;\n",
       "    }\n",
       "\n",
       "    [theme=dark] .colab-df-convert {\n",
       "      background-color: #3B4455;\n",
       "      fill: #D2E3FC;\n",
       "    }\n",
       "\n",
       "    [theme=dark] .colab-df-convert:hover {\n",
       "      background-color: #434B5C;\n",
       "      box-shadow: 0px 1px 3px 1px rgba(0, 0, 0, 0.15);\n",
       "      filter: drop-shadow(0px 1px 2px rgba(0, 0, 0, 0.3));\n",
       "      fill: #FFFFFF;\n",
       "    }\n",
       "  </style>\n",
       "\n",
       "      <script>\n",
       "        const buttonEl =\n",
       "          document.querySelector('#df-6d24ecc7-17af-41ae-915d-3248d8d39097 button.colab-df-convert');\n",
       "        buttonEl.style.display =\n",
       "          google.colab.kernel.accessAllowed ? 'block' : 'none';\n",
       "\n",
       "        async function convertToInteractive(key) {\n",
       "          const element = document.querySelector('#df-6d24ecc7-17af-41ae-915d-3248d8d39097');\n",
       "          const dataTable =\n",
       "            await google.colab.kernel.invokeFunction('convertToInteractive',\n",
       "                                                     [key], {});\n",
       "          if (!dataTable) return;\n",
       "\n",
       "          const docLinkHtml = 'Like what you see? Visit the ' +\n",
       "            '<a target=\"_blank\" href=https://colab.research.google.com/notebooks/data_table.ipynb>data table notebook</a>'\n",
       "            + ' to learn more about interactive tables.';\n",
       "          element.innerHTML = '';\n",
       "          dataTable['output_type'] = 'display_data';\n",
       "          await google.colab.output.renderOutput(dataTable, element);\n",
       "          const docLink = document.createElement('div');\n",
       "          docLink.innerHTML = docLinkHtml;\n",
       "          element.appendChild(docLink);\n",
       "        }\n",
       "      </script>\n",
       "    </div>\n",
       "  </div>\n",
       "  "
      ],
      "text/plain": [
       "        CRIM     ZN  INDUS    NOX     RM   AGE    TAX  PTRATIO  LSTAT  y_test  \\\n",
       "307  0.04932  31.25   2.18  0.472  6.849  70.3  222.0     18.4   7.53    28.2   \n",
       "343  0.02543  31.25   3.78  0.484  6.696  56.4  370.0     17.6   7.18    23.9   \n",
       "47   0.22927   0.00   6.91  0.448  6.030  85.5  233.0     17.9  18.80    16.6   \n",
       "67   0.05789  12.50   6.07  0.409  5.878  21.4  345.0     18.9   8.10    22.0   \n",
       "362  3.67822   0.00  18.10  0.770  5.362  96.2  666.0     20.2  10.19    20.8   \n",
       "..       ...    ...    ...    ...    ...   ...    ...      ...    ...     ...   \n",
       "41   0.12744   0.00   6.91  0.448  6.770   2.9  233.0     17.9   4.84    26.6   \n",
       "361  3.83684   0.00  18.10  0.770  6.251  91.1  666.0     20.2  14.19    19.9   \n",
       "289  0.04297  31.25   5.32  0.405  6.565  22.9  293.0     16.6   9.51    24.8   \n",
       "498  0.23912   0.00   9.69  0.585  6.019  65.3  391.0     19.2  12.92    21.2   \n",
       "293  0.08265   0.00  13.92  0.437  6.127  18.4  289.0     16.0   8.58    23.9   \n",
       "\n",
       "     predictions  \n",
       "307    27.571364  \n",
       "343    27.189849  \n",
       "47     20.111334  \n",
       "67     23.010695  \n",
       "362    17.171272  \n",
       "..           ...  \n",
       "41     29.738264  \n",
       "361    17.866825  \n",
       "289    26.677011  \n",
       "498    19.821981  \n",
       "293    27.897984  \n",
       "\n",
       "[127 rows x 11 columns]"
      ]
     },
     "execution_count": 127,
     "metadata": {},
     "output_type": "execute_result"
    }
   ],
   "source": [
    "# visualising predictions along with actual data and price\n",
    "test_results = pd.DataFrame(X_test.copy())\n",
    "test_results['y_test'] = y_test\n",
    "test_results['predictions'] = y_pred\n",
    "test_results"
   ]
  },
  {
   "cell_type": "code",
   "execution_count": null,
   "metadata": {
    "colab": {
     "base_uri": "https://localhost:8080/",
     "height": 191
    },
    "executionInfo": {
     "elapsed": 42,
     "status": "ok",
     "timestamp": 1652018320372,
     "user": {
      "displayName": "sujata Singh",
      "userId": "07858160099359690614"
     },
     "user_tz": -330
    },
    "id": "htpBF-RHK4gG",
    "outputId": "7c2140a6-1863-4520-ffe4-06c827b5c5e4"
   },
   "outputs": [
    {
     "data": {
      "text/plain": [
       "32.8119501673562"
      ]
     },
     "metadata": {},
     "output_type": "display_data"
    },
    {
     "data": {
      "text/plain": [
       "[(0.26658258489194536, 'CRIM'),\n",
       " (-0.04660245196793842, 'ZN'),\n",
       " (0.08127803782907662, 'INDUS'),\n",
       " (-13.025500790326305, 'NOX'),\n",
       " (3.885868488287521, 'RM'),\n",
       " (0.029859809711722616, 'AGE'),\n",
       " (-0.0032234348115106806, 'TAX'),\n",
       " (-1.1324837590625276, 'PTRATIO'),\n",
       " (-0.6622459110219587, 'LSTAT')]"
      ]
     },
     "metadata": {},
     "output_type": "display_data"
    }
   ],
   "source": [
    "'''y = mx +c -----> y = m1x1 + m2mx + .....+ mN Xn + C'''\n",
    "display(lm.intercept_ , list(zip(lm.coef_, X_train.columns)))"
   ]
  },
  {
   "cell_type": "code",
   "execution_count": null,
   "metadata": {
    "colab": {
     "base_uri": "https://localhost:8080/",
     "height": 332
    },
    "executionInfo": {
     "elapsed": 41,
     "status": "ok",
     "timestamp": 1652018320372,
     "user": {
      "displayName": "sujata Singh",
      "userId": "07858160099359690614"
     },
     "user_tz": -330
    },
    "id": "zooDGHlCK4gG",
    "outputId": "0a705827-b2a3-4cc8-d962-3c46491f8e8b"
   },
   "outputs": [
    {
     "data": {
      "text/html": [
       "\n",
       "  <div id=\"df-8ba6aee6-dfb2-408f-83b8-202bda785009\">\n",
       "    <div class=\"colab-df-container\">\n",
       "      <div>\n",
       "<style scoped>\n",
       "    .dataframe tbody tr th:only-of-type {\n",
       "        vertical-align: middle;\n",
       "    }\n",
       "\n",
       "    .dataframe tbody tr th {\n",
       "        vertical-align: top;\n",
       "    }\n",
       "\n",
       "    .dataframe thead th {\n",
       "        text-align: right;\n",
       "    }\n",
       "</style>\n",
       "<table border=\"1\" class=\"dataframe\">\n",
       "  <thead>\n",
       "    <tr style=\"text-align: right;\">\n",
       "      <th></th>\n",
       "      <th>Coefficient</th>\n",
       "    </tr>\n",
       "  </thead>\n",
       "  <tbody>\n",
       "    <tr>\n",
       "      <th>CRIM</th>\n",
       "      <td>0.266583</td>\n",
       "    </tr>\n",
       "    <tr>\n",
       "      <th>ZN</th>\n",
       "      <td>-0.046602</td>\n",
       "    </tr>\n",
       "    <tr>\n",
       "      <th>INDUS</th>\n",
       "      <td>0.081278</td>\n",
       "    </tr>\n",
       "    <tr>\n",
       "      <th>NOX</th>\n",
       "      <td>-13.025501</td>\n",
       "    </tr>\n",
       "    <tr>\n",
       "      <th>RM</th>\n",
       "      <td>3.885868</td>\n",
       "    </tr>\n",
       "    <tr>\n",
       "      <th>AGE</th>\n",
       "      <td>0.029860</td>\n",
       "    </tr>\n",
       "    <tr>\n",
       "      <th>TAX</th>\n",
       "      <td>-0.003223</td>\n",
       "    </tr>\n",
       "    <tr>\n",
       "      <th>PTRATIO</th>\n",
       "      <td>-1.132484</td>\n",
       "    </tr>\n",
       "    <tr>\n",
       "      <th>LSTAT</th>\n",
       "      <td>-0.662246</td>\n",
       "    </tr>\n",
       "  </tbody>\n",
       "</table>\n",
       "</div>\n",
       "      <button class=\"colab-df-convert\" onclick=\"convertToInteractive('df-8ba6aee6-dfb2-408f-83b8-202bda785009')\"\n",
       "              title=\"Convert this dataframe to an interactive table.\"\n",
       "              style=\"display:none;\">\n",
       "        \n",
       "  <svg xmlns=\"http://www.w3.org/2000/svg\" height=\"24px\"viewBox=\"0 0 24 24\"\n",
       "       width=\"24px\">\n",
       "    <path d=\"M0 0h24v24H0V0z\" fill=\"none\"/>\n",
       "    <path d=\"M18.56 5.44l.94 2.06.94-2.06 2.06-.94-2.06-.94-.94-2.06-.94 2.06-2.06.94zm-11 1L8.5 8.5l.94-2.06 2.06-.94-2.06-.94L8.5 2.5l-.94 2.06-2.06.94zm10 10l.94 2.06.94-2.06 2.06-.94-2.06-.94-.94-2.06-.94 2.06-2.06.94z\"/><path d=\"M17.41 7.96l-1.37-1.37c-.4-.4-.92-.59-1.43-.59-.52 0-1.04.2-1.43.59L10.3 9.45l-7.72 7.72c-.78.78-.78 2.05 0 2.83L4 21.41c.39.39.9.59 1.41.59.51 0 1.02-.2 1.41-.59l7.78-7.78 2.81-2.81c.8-.78.8-2.07 0-2.86zM5.41 20L4 18.59l7.72-7.72 1.47 1.35L5.41 20z\"/>\n",
       "  </svg>\n",
       "      </button>\n",
       "      \n",
       "  <style>\n",
       "    .colab-df-container {\n",
       "      display:flex;\n",
       "      flex-wrap:wrap;\n",
       "      gap: 12px;\n",
       "    }\n",
       "\n",
       "    .colab-df-convert {\n",
       "      background-color: #E8F0FE;\n",
       "      border: none;\n",
       "      border-radius: 50%;\n",
       "      cursor: pointer;\n",
       "      display: none;\n",
       "      fill: #1967D2;\n",
       "      height: 32px;\n",
       "      padding: 0 0 0 0;\n",
       "      width: 32px;\n",
       "    }\n",
       "\n",
       "    .colab-df-convert:hover {\n",
       "      background-color: #E2EBFA;\n",
       "      box-shadow: 0px 1px 2px rgba(60, 64, 67, 0.3), 0px 1px 3px 1px rgba(60, 64, 67, 0.15);\n",
       "      fill: #174EA6;\n",
       "    }\n",
       "\n",
       "    [theme=dark] .colab-df-convert {\n",
       "      background-color: #3B4455;\n",
       "      fill: #D2E3FC;\n",
       "    }\n",
       "\n",
       "    [theme=dark] .colab-df-convert:hover {\n",
       "      background-color: #434B5C;\n",
       "      box-shadow: 0px 1px 3px 1px rgba(0, 0, 0, 0.15);\n",
       "      filter: drop-shadow(0px 1px 2px rgba(0, 0, 0, 0.3));\n",
       "      fill: #FFFFFF;\n",
       "    }\n",
       "  </style>\n",
       "\n",
       "      <script>\n",
       "        const buttonEl =\n",
       "          document.querySelector('#df-8ba6aee6-dfb2-408f-83b8-202bda785009 button.colab-df-convert');\n",
       "        buttonEl.style.display =\n",
       "          google.colab.kernel.accessAllowed ? 'block' : 'none';\n",
       "\n",
       "        async function convertToInteractive(key) {\n",
       "          const element = document.querySelector('#df-8ba6aee6-dfb2-408f-83b8-202bda785009');\n",
       "          const dataTable =\n",
       "            await google.colab.kernel.invokeFunction('convertToInteractive',\n",
       "                                                     [key], {});\n",
       "          if (!dataTable) return;\n",
       "\n",
       "          const docLinkHtml = 'Like what you see? Visit the ' +\n",
       "            '<a target=\"_blank\" href=https://colab.research.google.com/notebooks/data_table.ipynb>data table notebook</a>'\n",
       "            + ' to learn more about interactive tables.';\n",
       "          element.innerHTML = '';\n",
       "          dataTable['output_type'] = 'display_data';\n",
       "          await google.colab.output.renderOutput(dataTable, element);\n",
       "          const docLink = document.createElement('div');\n",
       "          docLink.innerHTML = docLinkHtml;\n",
       "          element.appendChild(docLink);\n",
       "        }\n",
       "      </script>\n",
       "    </div>\n",
       "  </div>\n",
       "  "
      ],
      "text/plain": [
       "         Coefficient\n",
       "CRIM        0.266583\n",
       "ZN         -0.046602\n",
       "INDUS       0.081278\n",
       "NOX       -13.025501\n",
       "RM          3.885868\n",
       "AGE         0.029860\n",
       "TAX        -0.003223\n",
       "PTRATIO    -1.132484\n",
       "LSTAT      -0.662246"
      ]
     },
     "execution_count": 129,
     "metadata": {},
     "output_type": "execute_result"
    }
   ],
   "source": [
    "coeff_df = pd.DataFrame(lm.coef_, X.columns, columns=['Coefficient'])\n",
    "coeff_df"
   ]
  },
  {
   "cell_type": "code",
   "execution_count": null,
   "metadata": {
    "id": "wNArWRABK4gH"
   },
   "outputs": [],
   "source": [
    "from sklearn.metrics import  mean_absolute_error, mean_squared_error, r2_score"
   ]
  },
  {
   "cell_type": "code",
   "execution_count": null,
   "metadata": {
    "colab": {
     "base_uri": "https://localhost:8080/"
    },
    "executionInfo": {
     "elapsed": 40,
     "status": "ok",
     "timestamp": 1652018320373,
     "user": {
      "displayName": "sujata Singh",
      "userId": "07858160099359690614"
     },
     "user_tz": -330
    },
    "id": "-aDWeqWJK4gH",
    "outputId": "4ca0d29c-eb8f-468d-89c0-f939dd17f548"
   },
   "outputs": [
    {
     "name": "stdout",
     "output_type": "stream",
     "text": [
      "R^2: 0.7010244929607405\n",
      "Adjusted R^2: 0.6780263770346436\n",
      "MAE: 4.273027745213819\n",
      "MSE: 29.616057358223337\n",
      "RMSE: 5.442063703984302\n"
     ]
    }
   ],
   "source": [
    "print('R^2:',metrics.r2_score(y_test, y_pred))\n",
    "\n",
    "print('Adjusted R^2:',1 - (1-metrics.r2_score(y_test, y_pred))*(len(y_test)-1)/(len(y_test)-X_test.shape[1]-1))\n",
    "\n",
    "print('MAE:',metrics.mean_absolute_error(y_test, y_pred))\n",
    "\n",
    "print('MSE:',metrics.mean_squared_error(y_test, y_pred))\n",
    "\n",
    "print('RMSE:',np.sqrt(metrics.mean_squared_error(y_test, y_pred)))"
   ]
  },
  {
   "cell_type": "markdown",
   "metadata": {
    "id": "xjjR71FWK4gI"
   },
   "source": [
    "#### OVERFITTING and UNDERFITTING\n",
    "\n",
    "Overfitting happens to have - when Train Results (90 R2) > Test Results (60 R2)\n",
    "\n",
    "\n",
    "Underfittig happens to have - Both Train and Test Results are not Good  - (R2 score - 50- train data & r2 score - 48 test data)"
   ]
  },
  {
   "cell_type": "code",
   "execution_count": null,
   "metadata": {
    "colab": {
     "base_uri": "https://localhost:8080/"
    },
    "executionInfo": {
     "elapsed": 383,
     "status": "ok",
     "timestamp": 1652020493163,
     "user": {
      "displayName": "sujata Singh",
      "userId": "07858160099359690614"
     },
     "user_tz": -330
    },
    "id": "M-RMnfaEK4gI",
    "outputId": "9de1b6be-976b-403d-e8dd-b9b26a8f9fcb"
   },
   "outputs": [
    {
     "name": "stdout",
     "output_type": "stream",
     "text": [
      "R^2 Train: 0.6796855068270935\n",
      "Adjusted R^2: 0.6718729582131202\n",
      "MAE train: 3.517343723696823\n",
      "MSE train: 25.424330220900515\n",
      "RMSE: 5.042254477998955\n",
      "\n",
      " R^2 Test: 0.7010244929607405\n",
      "Adjusted R^2: 0.6780263770346436\n",
      "MAE test: 4.273027745213819\n",
      "MSE test: 29.616057358223337\n",
      "RMSE: 5.442063703984302\n"
     ]
    }
   ],
   "source": [
    "y_train_pred = lm.predict(X_train)\n",
    "\n",
    "print('R^2 Train:',metrics.r2_score(y_train, y_train_pred))\n",
    "print('Adjusted R^2:',1 - (1-metrics.r2_score(y_train, y_train_pred))*(len(y_train)-1)/(len(y_train)-X_train.shape[1]-1))\n",
    "print('MAE train:',metrics.mean_absolute_error(y_train, y_train_pred))\n",
    "print('MSE train:',metrics.mean_squared_error(y_train, y_train_pred))\n",
    "print('RMSE:',np.sqrt(metrics.mean_squared_error(y_train,y_train_pred)))\n",
    "\n",
    "y_pred = lm.predict(X_test)\n",
    "print('\\n R^2 Test:',metrics.r2_score(y_test, y_pred))\n",
    "print('Adjusted R^2:',1 - (1-metrics.r2_score(y_test, y_pred))*(len(y_test)-1)/(len(y_test)-X_test.shape[1]-1))\n",
    "print('MAE test:',metrics.mean_absolute_error(y_test, y_pred))\n",
    "print('MSE test:',metrics.mean_squared_error(y_test, y_pred))\n",
    "print('RMSE:',np.sqrt(metrics.mean_squared_error(y_test, y_pred)))"
   ]
  },
  {
   "cell_type": "code",
   "execution_count": null,
   "metadata": {
    "id": "ZGTwUwGdK4gQ"
   },
   "outputs": [],
   "source": [
    "# Bias Variance TradeOff "
   ]
  },
  {
   "cell_type": "markdown",
   "metadata": {
    "id": "GKTDCYbYEL1B"
   },
   "source": [
    "![image.png](data:image/png;base64,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)"
   ]
  },
  {
   "cell_type": "code",
   "execution_count": null,
   "metadata": {
    "id": "iwHPG9GfEMPQ"
   },
   "outputs": [],
   "source": []
  }
 ],
 "metadata": {
  "colab": {
   "collapsed_sections": [],
   "name": "Housing Prediction.ipynb",
   "provenance": []
  },
  "kernelspec": {
   "display_name": "Python 3 (ipykernel)",
   "language": "python",
   "name": "python3"
  },
  "language_info": {
   "codemirror_mode": {
    "name": "ipython",
    "version": 3
   },
   "file_extension": ".py",
   "mimetype": "text/x-python",
   "name": "python",
   "nbconvert_exporter": "python",
   "pygments_lexer": "ipython3",
   "version": "3.9.7"
  }
 },
 "nbformat": 4,
 "nbformat_minor": 1
}
