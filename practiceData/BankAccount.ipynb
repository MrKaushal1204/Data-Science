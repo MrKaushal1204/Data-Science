{
 "cells": [
  {
   "cell_type": "code",
   "execution_count": 1,
   "id": "ad6d3482",
   "metadata": {
    "scrolled": true
   },
   "outputs": [
    {
     "name": "stdout",
     "output_type": "stream",
     "text": [
      "Your Account is created.\n",
      "Enter the amount to deposit:5000\n",
      "Your account balance is: 5000\n",
      "Enter the amount you want to withdraw: 1000\n",
      "Your Remaining balance is: 4000\n",
      "Your account balance is: 4000\n"
     ]
    }
   ],
   "source": [
    "class Account:\n",
    "    def __init__(self):\n",
    "        self.balance = 0\n",
    "        print(\"Your Account is created.\")\n",
    "        \n",
    "    def deposit(self):\n",
    "        amount = int(input(\"Enter the amount to deposit:\"))\n",
    "        self.balance += amount\n",
    "        print(f\"Your account balance is: {self.balance}\")\n",
    "        \n",
    "    def withdraw(self):\n",
    "        amount = int(input(\"Enter the amount you want to withdraw: \"))\n",
    "        if self.balance<amount:\n",
    "            print(f\"Insuffiencient balance. \\nYour account balance is: {self.balance}\")\n",
    "        else:\n",
    "            self.balance -= amount\n",
    "            print(f\"Your Remaining balance is: {self.balance}\")\n",
    "        \n",
    "    def enquiry(self):\n",
    "        print(f\"Your account balance is: {self.balance}\")\n",
    "        \n",
    "        \n",
    "account = Account()\n",
    "account.deposit()\n",
    "account.withdraw()\n",
    "account.enquiry()"
   ]
  },
  {
   "cell_type": "code",
   "execution_count": 13,
   "id": "6c04f3cc",
   "metadata": {},
   "outputs": [
    {
     "name": "stdout",
     "output_type": "stream",
     "text": [
      "Enter the amount you want to withdraw: 2100\n",
      "Insuffiencient balance\n"
     ]
    }
   ],
   "source": [
    "account.withdraw()"
   ]
  },
  {
   "cell_type": "code",
   "execution_count": null,
   "id": "0845a317",
   "metadata": {},
   "outputs": [],
   "source": []
  },
  {
   "cell_type": "markdown",
   "id": "6e377a6d",
   "metadata": {},
   "source": [
    "## OOP Exercise 1: Create a Class with instance attributes\n"
   ]
  },
  {
   "cell_type": "markdown",
   "id": "3f60cf44",
   "metadata": {},
   "source": [
    "### Write a Python program to create a Vehicle class with max_speed and mileage instance attributes."
   ]
  },
  {
   "cell_type": "code",
   "execution_count": 27,
   "id": "8f324bca",
   "metadata": {},
   "outputs": [
    {
     "name": "stdout",
     "output_type": "stream",
     "text": [
      "Maximum speed of the vehicle is: 280 \n",
      "Mileage of the Vehicle is: 18\n"
     ]
    }
   ],
   "source": [
    "class Vehicle:\n",
    "    def __init__(self,max_speed,mileage):\n",
    "        self.max_speed = max_speed\n",
    "        self.mileage = mileage\n",
    "\n",
    "swift = Vehicle(280,18)\n",
    "\n",
    "print(f\"Maximum speed of the vehicle is: {swift.max_speed} \\nMileage of the Vehicle is: {swift.mileage}\")"
   ]
  },
  {
   "cell_type": "code",
   "execution_count": null,
   "id": "5a5520c2",
   "metadata": {},
   "outputs": [],
   "source": []
  },
  {
   "cell_type": "markdown",
   "id": "68b52f82",
   "metadata": {},
   "source": [
    "## OOP Exercise 2: Create a Vehicle class without any variables and methods"
   ]
  },
  {
   "cell_type": "code",
   "execution_count": 28,
   "id": "26e851b4",
   "metadata": {},
   "outputs": [],
   "source": [
    "class Vehicle:\n",
    "    pass\n",
    "    "
   ]
  },
  {
   "cell_type": "markdown",
   "id": "66178c42",
   "metadata": {},
   "source": [
    "## OOP Exercise 3: Create a child class Bus that will inherit all of the variables and methods of the Vehicle class"
   ]
  },
  {
   "cell_type": "code",
   "execution_count": 30,
   "id": "dc77a059",
   "metadata": {},
   "outputs": [],
   "source": [
    "class Vehicle:\n",
    "    def __init__(self,name,max_speed,mileage):\n",
    "        self.name = name\n",
    "        self.max_speed = max_speed\n",
    "        self.mileage = mileage\n",
    "        \n"
   ]
  },
  {
   "cell_type": "code",
   "execution_count": 34,
   "id": "8ec44cc0",
   "metadata": {},
   "outputs": [
    {
     "name": "stdout",
     "output_type": "stream",
     "text": [
      "Vehicle Name: School Volvo\n",
      "Speed: 180\n",
      "Mileage: 20\n"
     ]
    }
   ],
   "source": [
    "class bus(Vehicle):\n",
    "    pass\n",
    "\n",
    "School_bus = bus(\"School Volvo\", 180, 20)\n",
    "print(f\"Vehicle Name: {School_bus.name}\\nSpeed: {School_bus.max_speed}\\nMileage: {School_bus.mileage}\")"
   ]
  },
  {
   "cell_type": "markdown",
   "id": "4fcf3769",
   "metadata": {},
   "source": [
    "## OOP Exercise 4: Class Inheritance\n"
   ]
  },
  {
   "cell_type": "markdown",
   "id": "b555c72f",
   "metadata": {},
   "source": [
    "### Create a Bus class that inherits from the Vehicle class. Give the capacity argument of Bus.seating_capacity() a default value of 50."
   ]
  },
  {
   "cell_type": "code",
   "execution_count": null,
   "id": "13871f5c",
   "metadata": {},
   "outputs": [],
   "source": []
  }
 ],
 "metadata": {
  "kernelspec": {
   "display_name": "Python 3 (ipykernel)",
   "language": "python",
   "name": "python3"
  },
  "language_info": {
   "codemirror_mode": {
    "name": "ipython",
    "version": 3
   },
   "file_extension": ".py",
   "mimetype": "text/x-python",
   "name": "python",
   "nbconvert_exporter": "python",
   "pygments_lexer": "ipython3",
   "version": "3.9.7"
  }
 },
 "nbformat": 4,
 "nbformat_minor": 5
}
