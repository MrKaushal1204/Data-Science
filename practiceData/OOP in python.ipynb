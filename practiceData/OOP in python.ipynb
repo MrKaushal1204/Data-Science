{
 "cells": [
  {
   "cell_type": "markdown",
   "id": "71d37729",
   "metadata": {},
   "source": [
    "### Instance or Object both are same\n"
   ]
  },
  {
   "cell_type": "code",
   "execution_count": 1,
   "id": "a6c3bac4",
   "metadata": {},
   "outputs": [],
   "source": [
    "class Person:\n",
    "    \n",
    "    # init method is also called as constructor\n",
    "    # whateve function we difine within class is called as a method\n",
    "    \n",
    "    # Here self is the object itself.\n",
    "    # Anything can be written instead of self but because of convention we write self only.\n",
    "    def __init__(self,fname,lname,age):\n",
    "        # instance variabels\n",
    "        print(\"init method/constructor is called\")\n",
    "        self.fname = fname\n",
    "        self.lname = lname\n",
    "        self.age = age"
   ]
  },
  {
   "cell_type": "code",
   "execution_count": 2,
   "id": "23f941af",
   "metadata": {},
   "outputs": [
    {
     "name": "stdout",
     "output_type": "stream",
     "text": [
      "init method/constructor is called\n",
      "init method/constructor is called\n",
      "Kaushal\n"
     ]
    }
   ],
   "source": [
    "# creating object\n",
    "p1 = Person(\"Kaushal\",'Kishor',25)\n",
    "p2 = Person(\"Mohit\",\"Raj\",23)\n",
    "\n",
    "''' \n",
    "As here you can see we are printing the message once but \n",
    "the print function from the class is getting printed two times.\n",
    "Hence whenever any object of the class is created class code is executed that time only.\n",
    "'''\n",
    "\n",
    "print(p1.fname)                     \n",
    "# print(p2.lname)"
   ]
  },
  {
   "cell_type": "code",
   "execution_count": 3,
   "id": "2120f46f",
   "metadata": {},
   "outputs": [],
   "source": [
    "class Laptop:\n",
    "    def __init__(self,name,model,price):\n",
    "        self.name = name\n",
    "        self.model = model\n",
    "        self.price = price"
   ]
  },
  {
   "cell_type": "code",
   "execution_count": 4,
   "id": "ee42aaff",
   "metadata": {},
   "outputs": [
    {
     "name": "stdout",
     "output_type": "stream",
     "text": [
      "E470\n"
     ]
    }
   ],
   "source": [
    "l1 = Laptop('Dell','E470',12344)\n",
    "print(l1.model)"
   ]
  },
  {
   "cell_type": "code",
   "execution_count": 5,
   "id": "055e185b",
   "metadata": {},
   "outputs": [],
   "source": [
    "class Person1:\n",
    "    def __init__(self,fname,lname,age):\n",
    "        \n",
    "        # These are the instance variables and always called \n",
    "        self.fname = fname\n",
    "        self.lname = lname\n",
    "        self.age = age\n",
    "    \n",
    "    def full_name(self):\n",
    "        return f\"My full name is {self.fname} {self.lname}.\""
   ]
  },
  {
   "cell_type": "code",
   "execution_count": 6,
   "id": "6b18ff62",
   "metadata": {},
   "outputs": [
    {
     "data": {
      "text/plain": [
       "'My full name is kaushal kishor.'"
      ]
     },
     "execution_count": 6,
     "metadata": {},
     "output_type": "execute_result"
    }
   ],
   "source": [
    "p1 = Person1(\"kaushal\",'kishor',24)\n",
    "p1.full_name()"
   ]
  },
  {
   "cell_type": "code",
   "execution_count": 7,
   "id": "89ba3931",
   "metadata": {},
   "outputs": [],
   "source": [
    "class Circle:\n",
    "    pi = 3.14\n",
    "    def __init__(self,r):\n",
    "        self.r = r\n",
    "#         self.pi = pi       No need to write this line\n",
    "        \n",
    "    def cal_circumference(self):\n",
    "        return 2*Circle.pi*self.r   # here now pi is class variable.\n",
    "     \n",
    "    \n",
    "    def cal_area(self):\n",
    "        return Circle.pi*self.r**2"
   ]
  },
  {
   "cell_type": "code",
   "execution_count": 8,
   "id": "eba082fa",
   "metadata": {},
   "outputs": [
    {
     "name": "stdout",
     "output_type": "stream",
     "text": [
      "18.84\n",
      "28.26\n"
     ]
    }
   ],
   "source": [
    "c1 =  Circle(3)\n",
    "print(c1.cal_circumference())\n",
    "print(c1.cal_area())"
   ]
  },
  {
   "cell_type": "code",
   "execution_count": 12,
   "id": "0bc1815a",
   "metadata": {},
   "outputs": [
    {
     "name": "stdout",
     "output_type": "stream",
     "text": [
      " You have created 3 instance of Person\n"
     ]
    }
   ],
   "source": [
    "class Person:\n",
    "    count_instance = 0\n",
    "    def __init__(self,fname,lname,age):\n",
    "        Person.count_instance += 1\n",
    "        self.fname = fname\n",
    "        self.lname = lname\n",
    "        self.age = age\n",
    "        \n",
    "    @classmethod\n",
    "    def count_instances(cls):\n",
    "        return f\" You have created {cls.count_instance} instance of {cls.__name__}\"\n",
    "        \n",
    "p1 = Person(\"kaushal\",\"Kishor\",26)\n",
    "p2 = Person(\"kaushal\",\"Kishor\",26)\n",
    "p3 = Person(\"kaushal\",\"Kishor\",26)\n",
    "\n",
    "print(p1.count_instances())"
   ]
  },
  {
   "cell_type": "code",
   "execution_count": 27,
   "id": "abbd6108",
   "metadata": {},
   "outputs": [],
   "source": [
    "class Person:\n",
    "    count_instance = 0\n",
    "    def __init__(self,fname,lname,age):\n",
    "        Person.count_instance += 1\n",
    "        self.fname = fname\n",
    "        self.lname = lname\n",
    "        self.age = age\n",
    "        \n",
    "        \n",
    "    @classmethod\n",
    "    def from_string(cls,string):\n",
    "        first,last,age = string.split(\",\")\n",
    "        return cls(first,last,age)\n",
    "    \n",
    "    def full_name(self):\n",
    "        return f\"Full name is {self.fname} {self.lname}\"\n",
    "    \n",
    "p3 = Person.from_string('kishor,kaushal,25')"
   ]
  },
  {
   "cell_type": "code",
   "execution_count": 28,
   "id": "2b32dc8e",
   "metadata": {},
   "outputs": [
    {
     "name": "stdout",
     "output_type": "stream",
     "text": [
      "Full name is kishor kaushal\n"
     ]
    }
   ],
   "source": [
    "print(p3.full_name())"
   ]
  },
  {
   "cell_type": "code",
   "execution_count": null,
   "id": "d31741e2",
   "metadata": {},
   "outputs": [],
   "source": []
  },
  {
   "cell_type": "markdown",
   "id": "e2e4226c",
   "metadata": {},
   "source": [
    "## Abstraction"
   ]
  },
  {
   "cell_type": "code",
   "execution_count": null,
   "id": "6b0ee9b6",
   "metadata": {},
   "outputs": [],
   "source": [
    "class Phone:\n",
    "    def __init__(self,brand,model_name,price):\n",
    "        self.brand = brand\n",
    "        self.model_name = model_name\n",
    "        self.price = price\n",
    "        \n",
    "    def make_a_call(self,phone_number):\n",
    "        print(f\"Calling {phone_number}\")\n",
    "    \n",
    "    def full_name(self):\n",
    "        return f\"{self.brand} {self.model_name}\"\n",
    "    \n",
    "    \n",
    "        "
   ]
  },
  {
   "cell_type": "code",
   "execution_count": null,
   "id": "f896d5fb",
   "metadata": {},
   "outputs": [],
   "source": []
  },
  {
   "cell_type": "code",
   "execution_count": null,
   "id": "bb9bff4c",
   "metadata": {},
   "outputs": [],
   "source": []
  }
 ],
 "metadata": {
  "kernelspec": {
   "display_name": "Python 3 (ipykernel)",
   "language": "python",
   "name": "python3"
  },
  "language_info": {
   "codemirror_mode": {
    "name": "ipython",
    "version": 3
   },
   "file_extension": ".py",
   "mimetype": "text/x-python",
   "name": "python",
   "nbconvert_exporter": "python",
   "pygments_lexer": "ipython3",
   "version": "3.9.7"
  }
 },
 "nbformat": 4,
 "nbformat_minor": 5
}
