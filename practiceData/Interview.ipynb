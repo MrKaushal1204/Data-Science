{
 "cells": [
  {
   "cell_type": "code",
   "execution_count": 26,
   "id": "16618c14",
   "metadata": {},
   "outputs": [],
   "source": [
    "str = \"The Jupyter Notebook has two different keyboard input modes. Edit mode allows you to type code or text into a cell and is indicated by a green cell border. Command mode binds the keyboard to notebook level commands and is indicated by a grey cell border with a blue left margin.\""
   ]
  },
  {
   "cell_type": "code",
   "execution_count": 27,
   "id": "6c8034ca",
   "metadata": {},
   "outputs": [],
   "source": [
    "lst = str.split(\" \")\n",
    "# lst"
   ]
  },
  {
   "cell_type": "code",
   "execution_count": 28,
   "id": "3e455d55",
   "metadata": {},
   "outputs": [
    {
     "name": "stdout",
     "output_type": "stream",
     "text": [
      "{'The': 1, 'Jupyter': 1, 'Notebook': 1, 'has': 1, 'two': 1, 'different': 1, 'keyboard': 2, 'input': 1, 'modes.': 1, 'Edit': 1, 'mode': 2, 'allows': 1, 'you': 1, 'to': 2, 'type': 1, 'code': 1, 'or': 1, 'text': 1, 'into': 1, 'a': 4, 'cell': 3, 'and': 2, 'is': 2, 'indicated': 2, 'by': 2, 'green': 1, 'border.': 1, 'Command': 1, 'binds': 1, 'the': 1, 'notebook': 1, 'level': 1, 'commands': 1, 'grey': 1, 'border': 1, 'with': 1, 'blue': 1, 'left': 1, 'margin.': 1}\n"
     ]
    }
   ],
   "source": [
    "counter = {}\n",
    "for word in lst:\n",
    "#     print(word)\n",
    "    counter[word] = lst.count(word)\n",
    "print(counter)\n",
    "\n",
    "        "
   ]
  },
  {
   "cell_type": "code",
   "execution_count": 33,
   "id": "c09a2e12",
   "metadata": {},
   "outputs": [
    {
     "name": "stdout",
     "output_type": "stream",
     "text": [
      "['The', 0]\n",
      "['Jupyter', 1]\n",
      "['Notebook', 2]\n",
      "['has', 3]\n",
      "['two', 4]\n",
      "['different', 5]\n",
      "['keyboard', 6]\n",
      "['input', 7]\n",
      "['modes.', 8]\n",
      "['Edit', 9]\n",
      "['mode', 10]\n",
      "['allows', 11]\n",
      "['you', 12]\n",
      "['to', 13]\n",
      "['type', 14]\n",
      "['code', 15]\n",
      "['or', 16]\n",
      "['text', 17]\n",
      "['into', 18]\n",
      "['a', 19]\n",
      "['cell', 20]\n",
      "['and', 21]\n",
      "['is', 22]\n",
      "['indicated', 23]\n",
      "['by', 24]\n",
      "['green', 26]\n",
      "['border.', 28]\n",
      "['Command', 29]\n",
      "['binds', 31]\n",
      "['the', 32]\n",
      "['notebook', 35]\n",
      "['level', 36]\n",
      "['commands', 37]\n",
      "['grey', 43]\n",
      "['border', 45]\n",
      "['with', 46]\n",
      "['blue', 48]\n",
      "['left', 49]\n",
      "['margin.', 50]\n"
     ]
    }
   ],
   "source": [
    "for i in counter.keys():\n",
    "    if i in lst[::-1]:\n",
    "        print([i ,lst.index(i)])\n",
    "#     print(i)"
   ]
  },
  {
   "cell_type": "code",
   "execution_count": null,
   "id": "3a972a4c",
   "metadata": {},
   "outputs": [],
   "source": []
  },
  {
   "cell_type": "code",
   "execution_count": 22,
   "id": "0c5d3f41",
   "metadata": {},
   "outputs": [],
   "source": [
    "lst1 = [ i for i in range(0,20,2)]"
   ]
  },
  {
   "cell_type": "code",
   "execution_count": 24,
   "id": "7f6448bc",
   "metadata": {},
   "outputs": [
    {
     "name": "stdout",
     "output_type": "stream",
     "text": [
      "[0, 4, 16, 36, 64, 100, 144, 196, 256, 324]\n"
     ]
    }
   ],
   "source": [
    "print(list(map(lambda mul : mul*mul,lst1)))\n"
   ]
  },
  {
   "cell_type": "code",
   "execution_count": 10,
   "id": "93a9dc2c",
   "metadata": {},
   "outputs": [],
   "source": [
    "import pandas as pd\n",
    "    "
   ]
  },
  {
   "cell_type": "code",
   "execution_count": 11,
   "id": "8792be0a",
   "metadata": {},
   "outputs": [],
   "source": [
    "df = pd.DataFrame(lst)"
   ]
  },
  {
   "cell_type": "code",
   "execution_count": 12,
   "id": "1f1f978b",
   "metadata": {},
   "outputs": [
    {
     "data": {
      "text/plain": [
       "a            4\n",
       "cell         3\n",
       "is           2\n",
       "indicated    2\n",
       "keyboard     2\n",
       "to           2\n",
       "and          2\n",
       "mode         2\n",
       "by           2\n",
       "left         1\n",
       "level        1\n",
       "margin.      1\n",
       "modes.       1\n",
       "Command      1\n",
       "into         1\n",
       "or           1\n",
       "text         1\n",
       "the          1\n",
       "two          1\n",
       "type         1\n",
       "with         1\n",
       "notebook     1\n",
       "has          1\n",
       "input        1\n",
       "Edit         1\n",
       "grey         1\n",
       "green        1\n",
       "different    1\n",
       "commands     1\n",
       "code         1\n",
       "border.      1\n",
       "border       1\n",
       "blue         1\n",
       "binds        1\n",
       "allows       1\n",
       "The          1\n",
       "Notebook     1\n",
       "Jupyter      1\n",
       "you          1\n",
       "dtype: int64"
      ]
     },
     "execution_count": 12,
     "metadata": {},
     "output_type": "execute_result"
    }
   ],
   "source": [
    "df.value_counts()"
   ]
  },
  {
   "cell_type": "code",
   "execution_count": 41,
   "id": "11b9410f",
   "metadata": {},
   "outputs": [],
   "source": [
    "df  = pd.read_csv(\"D:\\DS\\ML\\Project\\Amazon - Movies and TV Ratings.csv\")"
   ]
  },
  {
   "cell_type": "code",
   "execution_count": 40,
   "id": "5563491c",
   "metadata": {},
   "outputs": [
    {
     "data": {
      "text/html": [
       "<div>\n",
       "<style scoped>\n",
       "    .dataframe tbody tr th:only-of-type {\n",
       "        vertical-align: middle;\n",
       "    }\n",
       "\n",
       "    .dataframe tbody tr th {\n",
       "        vertical-align: top;\n",
       "    }\n",
       "\n",
       "    .dataframe thead th {\n",
       "        text-align: right;\n",
       "    }\n",
       "</style>\n",
       "<table border=\"1\" class=\"dataframe\">\n",
       "  <thead>\n",
       "    <tr style=\"text-align: right;\">\n",
       "      <th></th>\n",
       "      <th>user_id</th>\n",
       "      <th>Movie1</th>\n",
       "      <th>Movie2</th>\n",
       "      <th>Movie3</th>\n",
       "      <th>Movie4</th>\n",
       "      <th>Movie5</th>\n",
       "      <th>Movie6</th>\n",
       "      <th>Movie7</th>\n",
       "      <th>Movie8</th>\n",
       "      <th>Movie9</th>\n",
       "      <th>...</th>\n",
       "      <th>Movie197</th>\n",
       "      <th>Movie198</th>\n",
       "      <th>Movie199</th>\n",
       "      <th>Movie200</th>\n",
       "      <th>Movie201</th>\n",
       "      <th>Movie202</th>\n",
       "      <th>Movie203</th>\n",
       "      <th>Movie204</th>\n",
       "      <th>Movie205</th>\n",
       "      <th>Movie206</th>\n",
       "    </tr>\n",
       "  </thead>\n",
       "  <tbody>\n",
       "  </tbody>\n",
       "</table>\n",
       "<p>0 rows × 207 columns</p>\n",
       "</div>"
      ],
      "text/plain": [
       "Empty DataFrame\n",
       "Columns: [user_id, Movie1, Movie2, Movie3, Movie4, Movie5, Movie6, Movie7, Movie8, Movie9, Movie10, Movie11, Movie12, Movie13, Movie14, Movie15, Movie16, Movie17, Movie18, Movie19, Movie20, Movie21, Movie22, Movie23, Movie24, Movie25, Movie26, Movie27, Movie28, Movie29, Movie30, Movie31, Movie32, Movie33, Movie34, Movie35, Movie36, Movie37, Movie38, Movie39, Movie40, Movie41, Movie42, Movie43, Movie44, Movie45, Movie46, Movie47, Movie48, Movie49, Movie50, Movie51, Movie52, Movie53, Movie54, Movie55, Movie56, Movie57, Movie58, Movie59, Movie60, Movie61, Movie62, Movie63, Movie64, Movie65, Movie66, Movie67, Movie68, Movie69, Movie70, Movie71, Movie72, Movie73, Movie74, Movie75, Movie76, Movie77, Movie78, Movie79, Movie80, Movie81, Movie82, Movie83, Movie84, Movie85, Movie86, Movie87, Movie88, Movie89, Movie90, Movie91, Movie92, Movie93, Movie94, Movie95, Movie96, Movie97, Movie98, Movie99, ...]\n",
       "Index: []\n",
       "\n",
       "[0 rows x 207 columns]"
      ]
     },
     "execution_count": 40,
     "metadata": {},
     "output_type": "execute_result"
    }
   ],
   "source": [
    "df.dropna(axis = 0)"
   ]
  },
  {
   "cell_type": "code",
   "execution_count": null,
   "id": "772f9764",
   "metadata": {},
   "outputs": [],
   "source": [
    "id,name,depname,salary"
   ]
  },
  {
   "cell_type": "code",
   "execution_count": 53,
   "id": "66759729",
   "metadata": {},
   "outputs": [],
   "source": [
    "# select * from tablename where id = 1000\n",
    "# select max(salary) group by depname oreder by desc"
   ]
  },
  {
   "cell_type": "code",
   "execution_count": 52,
   "id": "327bf367",
   "metadata": {},
   "outputs": [
    {
     "data": {
      "text/html": [
       "<div>\n",
       "<style scoped>\n",
       "    .dataframe tbody tr th:only-of-type {\n",
       "        vertical-align: middle;\n",
       "    }\n",
       "\n",
       "    .dataframe tbody tr th {\n",
       "        vertical-align: top;\n",
       "    }\n",
       "\n",
       "    .dataframe thead th {\n",
       "        text-align: right;\n",
       "    }\n",
       "</style>\n",
       "<table border=\"1\" class=\"dataframe\">\n",
       "  <thead>\n",
       "    <tr style=\"text-align: right;\">\n",
       "      <th></th>\n",
       "      <th>user_id</th>\n",
       "      <th>Movie1</th>\n",
       "      <th>Movie2</th>\n",
       "      <th>Movie3</th>\n",
       "      <th>Movie4</th>\n",
       "      <th>Movie5</th>\n",
       "      <th>Movie6</th>\n",
       "      <th>Movie7</th>\n",
       "      <th>Movie8</th>\n",
       "      <th>Movie9</th>\n",
       "      <th>...</th>\n",
       "      <th>Movie197</th>\n",
       "      <th>Movie198</th>\n",
       "      <th>Movie199</th>\n",
       "      <th>Movie200</th>\n",
       "      <th>Movie201</th>\n",
       "      <th>Movie202</th>\n",
       "      <th>Movie203</th>\n",
       "      <th>Movie204</th>\n",
       "      <th>Movie205</th>\n",
       "      <th>Movie206</th>\n",
       "    </tr>\n",
       "  </thead>\n",
       "  <tbody>\n",
       "    <tr>\n",
       "      <th>0</th>\n",
       "      <td>A3R5OBKS7OM2IR</td>\n",
       "      <td>5.0</td>\n",
       "      <td>5.0</td>\n",
       "      <td>NaN</td>\n",
       "      <td>NaN</td>\n",
       "      <td>NaN</td>\n",
       "      <td>NaN</td>\n",
       "      <td>NaN</td>\n",
       "      <td>NaN</td>\n",
       "      <td>NaN</td>\n",
       "      <td>...</td>\n",
       "      <td>NaN</td>\n",
       "      <td>NaN</td>\n",
       "      <td>NaN</td>\n",
       "      <td>NaN</td>\n",
       "      <td>NaN</td>\n",
       "      <td>NaN</td>\n",
       "      <td>NaN</td>\n",
       "      <td>NaN</td>\n",
       "      <td>NaN</td>\n",
       "      <td>NaN</td>\n",
       "    </tr>\n",
       "  </tbody>\n",
       "</table>\n",
       "<p>1 rows × 207 columns</p>\n",
       "</div>"
      ],
      "text/plain": [
       "          user_id  Movie1  Movie2  Movie3  Movie4  Movie5  Movie6  Movie7  \\\n",
       "0  A3R5OBKS7OM2IR     5.0     5.0     NaN     NaN     NaN     NaN     NaN   \n",
       "\n",
       "   Movie8  Movie9  ...  Movie197  Movie198  Movie199  Movie200  Movie201  \\\n",
       "0     NaN     NaN  ...       NaN       NaN       NaN       NaN       NaN   \n",
       "\n",
       "   Movie202  Movie203  Movie204  Movie205  Movie206  \n",
       "0       NaN       NaN       NaN       NaN       NaN  \n",
       "\n",
       "[1 rows x 207 columns]"
      ]
     },
     "execution_count": 52,
     "metadata": {},
     "output_type": "execute_result"
    }
   ],
   "source": [
    "df[df['Movie2']==5.0]"
   ]
  },
  {
   "cell_type": "code",
   "execution_count": 3,
   "id": "afa03c4d",
   "metadata": {},
   "outputs": [
    {
     "name": "stdout",
     "output_type": "stream",
     "text": [
      "1\n",
      "1\n",
      "2\n",
      "3\n"
     ]
    },
    {
     "ename": "TypeError",
     "evalue": "'int' object is not iterable",
     "output_type": "error",
     "traceback": [
      "\u001b[1;31m---------------------------------------------------------------------------\u001b[0m",
      "\u001b[1;31mTypeError\u001b[0m                                 Traceback (most recent call last)",
      "\u001b[1;32mC:\\Users\\KAUSHA~1.KIS\\AppData\\Local\\Temp/ipykernel_11188/3742606763.py\u001b[0m in \u001b[0;36m<module>\u001b[1;34m\u001b[0m\n\u001b[0;32m      8\u001b[0m     \u001b[1;32mfor\u001b[0m \u001b[0mj\u001b[0m \u001b[1;32min\u001b[0m \u001b[0mrange\u001b[0m \u001b[1;33m(\u001b[0m\u001b[0my\u001b[0m\u001b[1;33m+\u001b[0m\u001b[1;36m1\u001b[0m\u001b[1;33m)\u001b[0m\u001b[1;33m:\u001b[0m\u001b[1;33m\u001b[0m\u001b[1;33m\u001b[0m\u001b[0m\n\u001b[0;32m      9\u001b[0m         \u001b[1;32mfor\u001b[0m \u001b[0mk\u001b[0m \u001b[1;32min\u001b[0m \u001b[0mrange\u001b[0m \u001b[1;33m(\u001b[0m\u001b[0mz\u001b[0m\u001b[1;33m+\u001b[0m\u001b[1;36m1\u001b[0m\u001b[1;33m)\u001b[0m\u001b[1;33m:\u001b[0m\u001b[1;33m\u001b[0m\u001b[1;33m\u001b[0m\u001b[0m\n\u001b[1;32m---> 10\u001b[1;33m             \u001b[0mlst1\u001b[0m\u001b[1;33m.\u001b[0m\u001b[0mappend\u001b[0m\u001b[1;33m(\u001b[0m\u001b[0mlist\u001b[0m\u001b[1;33m(\u001b[0m\u001b[0mzip\u001b[0m\u001b[1;33m(\u001b[0m\u001b[0mi\u001b[0m\u001b[1;33m,\u001b[0m\u001b[0mj\u001b[0m\u001b[1;33m,\u001b[0m\u001b[0mk\u001b[0m\u001b[1;33m)\u001b[0m\u001b[1;33m)\u001b[0m\u001b[1;33m)\u001b[0m\u001b[1;33m\u001b[0m\u001b[1;33m\u001b[0m\u001b[0m\n\u001b[0m\u001b[0;32m     11\u001b[0m \u001b[0mprint\u001b[0m\u001b[1;33m(\u001b[0m\u001b[0mlst1\u001b[0m\u001b[1;33m)\u001b[0m\u001b[1;33m\u001b[0m\u001b[1;33m\u001b[0m\u001b[0m\n\u001b[0;32m     12\u001b[0m \u001b[1;33m\u001b[0m\u001b[0m\n",
      "\u001b[1;31mTypeError\u001b[0m: 'int' object is not iterable"
     ]
    }
   ],
   "source": [
    "x = int(input())\n",
    "y = int(input())\n",
    "z = int(input())\n",
    "n = int(input())\n",
    "    \n",
    "lst1 = []\n",
    "for i in range (x+1):\n",
    "    for j in range (y+1):\n",
    "        for k in range (z+1):\n",
    "            lst1.append(list(zip(i,j,k)))\n",
    "print(lst1)\n",
    "\n"
   ]
  }
 ],
 "metadata": {
  "kernelspec": {
   "display_name": "Python 3 (ipykernel)",
   "language": "python",
   "name": "python3"
  },
  "language_info": {
   "codemirror_mode": {
    "name": "ipython",
    "version": 3
   },
   "file_extension": ".py",
   "mimetype": "text/x-python",
   "name": "python",
   "nbconvert_exporter": "python",
   "pygments_lexer": "ipython3",
   "version": "3.9.7"
  }
 },
 "nbformat": 4,
 "nbformat_minor": 5
}
