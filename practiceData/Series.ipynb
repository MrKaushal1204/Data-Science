{
 "cells": [
  {
   "cell_type": "code",
   "execution_count": 6,
   "id": "f429c841",
   "metadata": {},
   "outputs": [
    {
     "name": "stdout",
     "output_type": "stream",
     "text": [
      "Enter the length of series: 12\n",
      "1\n",
      "4\n",
      "9\n",
      "25\n",
      "36\n",
      "49\n",
      "81\n",
      "100\n",
      "121\n",
      "169\n",
      "196\n",
      "225\n"
     ]
    }
   ],
   "source": [
    "# 1,4,9,25,36,49,81,100,...\n",
    "\n",
    "number = int(input(\"Enter the length of series: \"))\n",
    "i=1\n",
    "while i<=number:\n",
    "    if i%4 != 0:\n",
    "        print(i**2)\n",
    "        i +=1\n",
    "    else:\n",
    "        number += 1\n",
    "        i += 1\n",
    "#         print(\"num\",number)"
   ]
  },
  {
   "cell_type": "code",
   "execution_count": null,
   "id": "05d2aa09",
   "metadata": {},
   "outputs": [],
   "source": [
    "# 1,-2,6,-15,31,-56\n",
    "series = 1\n",
    "for i in range(1,11):\n",
    "    if i%2 != 0:\n",
    "        print(series)\n",
    "        series += i**2        \n",
    "        \n",
    "    else:\n",
    "        print(-series)\n",
    "        series += i**2 \n",
    "        \n",
    "        "
   ]
  },
  {
   "cell_type": "code",
   "execution_count": 7,
   "id": "2f76e8e5",
   "metadata": {},
   "outputs": [
    {
     "ename": "NameError",
     "evalue": "name 'name' is not defined",
     "output_type": "error",
     "traceback": [
      "\u001b[1;31m---------------------------------------------------------------------------\u001b[0m",
      "\u001b[1;31mNameError\u001b[0m                                 Traceback (most recent call last)",
      "\u001b[1;32mC:\\Users\\KAUSHA~1.KIS\\AppData\\Local\\Temp/ipykernel_12160/1664983706.py\u001b[0m in \u001b[0;36m<module>\u001b[1;34m\u001b[0m\n\u001b[0;32m      7\u001b[0m \u001b[1;33m\u001b[0m\u001b[0m\n\u001b[0;32m      8\u001b[0m \u001b[1;33m\u001b[0m\u001b[0m\n\u001b[1;32m----> 9\u001b[1;33m \u001b[0mname\u001b[0m\u001b[1;33m\u001b[0m\u001b[1;33m\u001b[0m\u001b[0m\n\u001b[0m",
      "\u001b[1;31mNameError\u001b[0m: name 'name' is not defined"
     ]
    }
   ],
   "source": [
    "# Write a program to accept a student’s name and scores in three subject. \n",
    "# Display the 1st, 2nd, average and total. \n",
    "# Display whether the student has secured 1st , 2nd , pass class or has failed.\n",
    "# 1st class is for a score of 60 and above, \n",
    "# 2nd class is for a score of 50 and above, while pass class is for a score of 35 and above. \n",
    "# If the score is less than 35, then the student fails.\n",
    "\n",
    "\n",
    "name"
   ]
  },
  {
   "cell_type": "code",
   "execution_count": 105,
   "id": "f090fdbd",
   "metadata": {},
   "outputs": [
    {
     "name": "stdout",
     "output_type": "stream",
     "text": [
      "[['rennid', 'hcnul', 'tsafkaerb'], ['roshik', 'lahsuak']]\n"
     ]
    }
   ],
   "source": [
    "def revers_str(lst):\n",
    "    new_lst =[]\n",
    "    for i in lst:\n",
    "        new_lst1= []\n",
    "        for j in i:\n",
    "            new_lst1.append(j[::-1])\n",
    "        new_lst.append(new_lst1[::-1])\n",
    "    return new_lst[::-1]\n",
    "\n",
    "lst = list(range(1,11))\n",
    "\n",
    "lst1 = [[\"kaushal\",\"kihsor\"],[\"breakfast\",\"lunch\",\"dinner\"]]\n",
    "print(revers_str(lst1))\n"
   ]
  },
  {
   "cell_type": "code",
   "execution_count": 107,
   "id": "c2ee6d29",
   "metadata": {},
   "outputs": [
    {
     "name": "stdout",
     "output_type": "stream",
     "text": [
      "[[1, 3, 5, 7, 9], [0, 2, 4, 6, 8, 10]]\n"
     ]
    }
   ],
   "source": [
    "def odd_even(lst):\n",
    "    odd =[]\n",
    "    even =[]\n",
    "    for i in lst:\n",
    "        if i %2 ==0:\n",
    "            even.append(i)\n",
    "        else:\n",
    "             odd.append(i)  \n",
    "    return [odd,even]\n",
    "\n",
    "print(odd_even(list(range(11))))\n",
    "            "
   ]
  },
  {
   "cell_type": "code",
   "execution_count": 123,
   "id": "755e0ded",
   "metadata": {},
   "outputs": [
    {
     "name": "stdout",
     "output_type": "stream",
     "text": [
      "[4, 5, 6]\n"
     ]
    }
   ],
   "source": [
    "l1 =set([1,2,3,4,5,6])\n",
    "l2 = set([4,5,6,7,8])\n",
    "def list_intersection(l1,l2):\n",
    "    lst = list(l1.intersection(l2))\n",
    "    return lst\n",
    "print(list_intersection(l1,l2))\n",
    "# print([list(l1)]+[list(l2)])"
   ]
  },
  {
   "cell_type": "code",
   "execution_count": 1,
   "id": "d9e39a0d",
   "metadata": {},
   "outputs": [
    {
     "ename": "NameError",
     "evalue": "name 'lst' is not defined",
     "output_type": "error",
     "traceback": [
      "\u001b[1;31m---------------------------------------------------------------------------\u001b[0m",
      "\u001b[1;31mNameError\u001b[0m                                 Traceback (most recent call last)",
      "\u001b[1;32mC:\\Users\\KAUSHA~1.KIS\\AppData\\Local\\Temp/ipykernel_12908/3303997519.py\u001b[0m in \u001b[0;36m<module>\u001b[1;34m\u001b[0m\n\u001b[1;32m----> 1\u001b[1;33m \u001b[0mlst\u001b[0m\u001b[1;33m.\u001b[0m\u001b[0mindex\u001b[0m\u001b[1;33m(\u001b[0m\u001b[1;36m5\u001b[0m\u001b[1;33m)\u001b[0m\u001b[1;33m\u001b[0m\u001b[1;33m\u001b[0m\u001b[0m\n\u001b[0m",
      "\u001b[1;31mNameError\u001b[0m: name 'lst' is not defined"
     ]
    }
   ],
   "source": [
    "lst.index(5)"
   ]
  },
  {
   "cell_type": "raw",
   "id": "83688c5e",
   "metadata": {},
   "source": [
    "Creating Dictionaries.\n",
    "\n"
   ]
  },
  {
   "cell_type": "code",
   "execution_count": 14,
   "id": "698391cf",
   "metadata": {},
   "outputs": [
    {
     "name": "stdout",
     "output_type": "stream",
     "text": [
      "{'name': 'kaushal', 'age': 24}\n",
      "{'name': 'kishor', 'age': 34}\n"
     ]
    }
   ],
   "source": [
    "# Method 1\n",
    "employee1 = {\"name\":'kaushal','age':24,}\n",
    "print(employee1)\n",
    "\n",
    "\n",
    "# Method 2\n",
    "employee2 = dict(name = \"kishor\", age = 34)\n",
    "print(employee2)"
   ]
  },
  {
   "cell_type": "code",
   "execution_count": 20,
   "id": "d6a57c7e",
   "metadata": {},
   "outputs": [
    {
     "name": "stdout",
     "output_type": "stream",
     "text": [
      "34\n"
     ]
    }
   ],
   "source": [
    "print(employee2['age'])"
   ]
  },
  {
   "cell_type": "code",
   "execution_count": null,
   "id": "114b0097",
   "metadata": {},
   "outputs": [],
   "source": []
  },
  {
   "cell_type": "code",
   "execution_count": null,
   "id": "dc7678cb",
   "metadata": {},
   "outputs": [],
   "source": []
  },
  {
   "cell_type": "code",
   "execution_count": null,
   "id": "f4250d7d",
   "metadata": {},
   "outputs": [],
   "source": []
  },
  {
   "cell_type": "code",
   "execution_count": null,
   "id": "d210265d",
   "metadata": {},
   "outputs": [],
   "source": []
  },
  {
   "cell_type": "code",
   "execution_count": null,
   "id": "8f7b05f0",
   "metadata": {},
   "outputs": [],
   "source": []
  }
 ],
 "metadata": {
  "kernelspec": {
   "display_name": "Python 3 (ipykernel)",
   "language": "python",
   "name": "python3"
  },
  "language_info": {
   "codemirror_mode": {
    "name": "ipython",
    "version": 3
   },
   "file_extension": ".py",
   "mimetype": "text/x-python",
   "name": "python",
   "nbconvert_exporter": "python",
   "pygments_lexer": "ipython3",
   "version": "3.9.7"
  }
 },
 "nbformat": 4,
 "nbformat_minor": 5
}
