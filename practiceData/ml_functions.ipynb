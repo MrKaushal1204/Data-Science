{
 "cells": [
  {
   "cell_type": "code",
   "execution_count": 14,
   "id": "6a3ad294",
   "metadata": {},
   "outputs": [],
   "source": [
    "# import matplotlib.pyplot as plt\n",
    "# import numpy as np\n",
    "# import seaborn as sns"
   ]
  },
  {
   "cell_type": "code",
   "execution_count": 20,
   "id": "7f6c5659",
   "metadata": {},
   "outputs": [],
   "source": [
    "def hello():\n",
    "    print(\"Yeh! now you can access this file.\")"
   ]
  },
  {
   "cell_type": "code",
   "execution_count": 21,
   "id": "0e8eb380",
   "metadata": {},
   "outputs": [],
   "source": [
    "# Checking outliers:\n",
    "\n",
    "def outliers_check(df1):\n",
    "    fig = plt.figure(figsize = (15,5))\n",
    "    sns.boxplot(data = df1)\n",
    "    plt.show()"
   ]
  },
  {
   "cell_type": "code",
   "execution_count": 22,
   "id": "7d5afeeb",
   "metadata": {},
   "outputs": [],
   "source": [
    "# Treating outliers:\n",
    "def outliers_treatment(df1,target):\n",
    "    for cols in df1.columns:\n",
    "        if cols != target and df1.cols != \"O\":\n",
    "            Q1 = np.percentile(df1[cols],25)\n",
    "            Q3 = np.percentile(df1[cols],75)\n",
    "            IQR = Q3-Q1\n",
    "            lower = Q1 - (IQR*1.5)\n",
    "            upper = Q3 + (IQR*1.5)\n",
    "        \n",
    "            df1[cols] = df1[cols].apply(lambda value: upper if value > upper else lower if value < lower else value)\n",
    "    return df1"
   ]
  },
  {
   "cell_type": "code",
   "execution_count": 23,
   "id": "ea9eac62",
   "metadata": {},
   "outputs": [],
   "source": [
    "# Relational Diagram\n",
    "\n",
    "def relational_graph(v1,v2,df1,title,w=15,h=8):\n",
    "    fig = plt.figure(figsize = (w,h))\n",
    "    sns.regplot(x = v1, y = v2, data = df1, fit_reg = True)\n",
    "    plt.title(title)\n",
    "    plt.show()"
   ]
  },
  {
   "cell_type": "code",
   "execution_count": 24,
   "id": "1c1d9306",
   "metadata": {},
   "outputs": [],
   "source": [
    "# Finding correlation matrix\n",
    "\n",
    "def corr_matrix(df1):\n",
    "    mat = df.corr().abs()\n",
    "    fig = plt.figure(figsize=(15,8))\n",
    "    ax = sns.heatmap(df1,annot = True)\n",
    "    plt.show()"
   ]
  },
  {
   "cell_type": "code",
   "execution_count": 25,
   "id": "53b4c273",
   "metadata": {},
   "outputs": [],
   "source": [
    "# Droping less correlated columns\n",
    "\n",
    "def drop_columns(corr_mat,target):\n",
    "    drop_cols = []\n",
    "    drop_cols.append(target)\n",
    "    for cols in corr_mat[target].keys():\n",
    "        if cols != target:\n",
    "            if corr_mat[cols] < 20:\n",
    "                drop_cols.append(cols)\n",
    "    return drop_cols\n",
    "    \n",
    "    "
   ]
  },
  {
   "cell_type": "code",
   "execution_count": null,
   "id": "317c78d1",
   "metadata": {},
   "outputs": [],
   "source": []
  },
  {
   "cell_type": "code",
   "execution_count": null,
   "id": "13c30c7b",
   "metadata": {},
   "outputs": [],
   "source": []
  }
 ],
 "metadata": {
  "kernelspec": {
   "display_name": "Python 3 (ipykernel)",
   "language": "python",
   "name": "python3"
  },
  "language_info": {
   "codemirror_mode": {
    "name": "ipython",
    "version": 3
   },
   "file_extension": ".py",
   "mimetype": "text/x-python",
   "name": "python",
   "nbconvert_exporter": "python",
   "pygments_lexer": "ipython3",
   "version": "3.9.7"
  }
 },
 "nbformat": 4,
 "nbformat_minor": 5
}
