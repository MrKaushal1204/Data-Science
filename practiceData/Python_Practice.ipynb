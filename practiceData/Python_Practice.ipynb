{
 "cells": [
  {
   "cell_type": "code",
   "execution_count": 1,
   "id": "31682b10",
   "metadata": {},
   "outputs": [],
   "source": [
    "Employee_info = {\n",
    "    'emp1' : {\n",
    "        'name' : 'Kaushal',\n",
    "        'age' : 26,\n",
    "        'tech' : 'Python developer',\n",
    "        'experience' : '2 years'\n",
    "    },\n",
    "    'emp2' : {\n",
    "        'name' : 'Rajanand',\n",
    "        'age' : 26,\n",
    "        'tech' : 'Software tester',\n",
    "        'experience' : '2.1 years'\n",
    "    }\n",
    "}"
   ]
  },
  {
   "cell_type": "code",
   "execution_count": 2,
   "id": "f428bdaa",
   "metadata": {},
   "outputs": [
    {
     "name": "stdout",
     "output_type": "stream",
     "text": [
      "emp1 {'name': 'Kaushal', 'age': 26, 'tech': 'Python developer', 'experience': '2 years'}\n",
      "4\n",
      "emp2 {'name': 'Rajanand', 'age': 26, 'tech': 'Software tester', 'experience': '2.1 years'}\n",
      "4\n"
     ]
    }
   ],
   "source": [
    "for i,j in Employee_info.items():\n",
    "    print(i,j)\n",
    "    print(len(i))\n",
    "#     for k in i:\n",
    "#         print(k)"
   ]
  },
  {
   "cell_type": "code",
   "execution_count": 3,
   "id": "c0ef6860",
   "metadata": {},
   "outputs": [],
   "source": [
    "Employee_info = {\n",
    "    \n",
    "        'name' : 'Kaushal',\n",
    "        'age' : 26,\n",
    "        'tech' : 'Python developer',\n",
    "        'experience' : '2 years'\n",
    "    },"
   ]
  },
  {
   "cell_type": "code",
   "execution_count": 4,
   "id": "d0ca2653",
   "metadata": {},
   "outputs": [
    {
     "ename": "AttributeError",
     "evalue": "'tuple' object has no attribute 'items'",
     "output_type": "error",
     "traceback": [
      "\u001b[1;31m---------------------------------------------------------------------------\u001b[0m",
      "\u001b[1;31mAttributeError\u001b[0m                            Traceback (most recent call last)",
      "\u001b[1;32mC:\\Users\\KAUSHA~1.KIS\\AppData\\Local\\Temp/ipykernel_14384/1997602554.py\u001b[0m in \u001b[0;36m<module>\u001b[1;34m\u001b[0m\n\u001b[1;32m----> 1\u001b[1;33m \u001b[0mEmployee_info\u001b[0m\u001b[1;33m.\u001b[0m\u001b[0mitems\u001b[0m\u001b[1;33m(\u001b[0m\u001b[1;33m)\u001b[0m\u001b[1;33m\u001b[0m\u001b[1;33m\u001b[0m\u001b[0m\n\u001b[0m",
      "\u001b[1;31mAttributeError\u001b[0m: 'tuple' object has no attribute 'items'"
     ]
    }
   ],
   "source": [
    "Employee_info.items()"
   ]
  },
  {
   "cell_type": "markdown",
   "id": "42975736",
   "metadata": {},
   "source": [
    "# Dictionary\n",
    "\n",
    "### Fromkeys\n"
   ]
  },
  {
   "cell_type": "code",
   "execution_count": null,
   "id": "8137ce0a",
   "metadata": {},
   "outputs": [],
   "source": [
    "d = {\n",
    "    'name':'unknown',\n",
    "    'age':'unknown'\n",
    "}\n",
    "\n"
   ]
  },
  {
   "cell_type": "code",
   "execution_count": null,
   "id": "229b943e",
   "metadata": {},
   "outputs": [],
   "source": [
    "d = dict.fromkeys(['name','age','height'],'unknown')\n",
    "print(d)"
   ]
  },
  {
   "cell_type": "code",
   "execution_count": null,
   "id": "5ea25fe2",
   "metadata": {},
   "outputs": [],
   "source": [
    "d = dict.fromkeys(('name','age','height'),'unknown')\n",
    "print(d)"
   ]
  },
  {
   "cell_type": "code",
   "execution_count": null,
   "id": "ecc94daf",
   "metadata": {},
   "outputs": [],
   "source": [
    "d = dict.fromkeys(\"abc\",'unknown')\n",
    "print(d)"
   ]
  },
  {
   "cell_type": "code",
   "execution_count": null,
   "id": "c0e897fc",
   "metadata": {},
   "outputs": [],
   "source": [
    "d = dict.fromkeys(range(1,10),'unknown')\n",
    "print(d)"
   ]
  },
  {
   "cell_type": "code",
   "execution_count": null,
   "id": "ef02b6ad",
   "metadata": {},
   "outputs": [],
   "source": [
    "d = dict.fromkeys(['name','age'],['unknown','unknown'])\n",
    "print(d)"
   ]
  },
  {
   "cell_type": "markdown",
   "id": "a1050145",
   "metadata": {},
   "source": [
    "### GET METHOD\n"
   ]
  },
  {
   "cell_type": "code",
   "execution_count": null,
   "id": "4fe80da2",
   "metadata": {},
   "outputs": [],
   "source": [
    "d = {'name':'unknown','age':'unknown'}\n",
    "print(d['name'])\n",
    "print(d['names'])    # Here this line is returning the error message."
   ]
  },
  {
   "cell_type": "code",
   "execution_count": null,
   "id": "818a7a43",
   "metadata": {},
   "outputs": [],
   "source": [
    "d = {'name':'Kaushal','age':'unknown'}\n",
    "print(d.get('name'))\n",
    "print(d.get('names'))    # it returns none instead of error"
   ]
  },
  {
   "cell_type": "code",
   "execution_count": null,
   "id": "bdf7df62",
   "metadata": {},
   "outputs": [],
   "source": [
    "if 'name' in d:\n",
    "    print('present')\n",
    "else:\n",
    "    print('Not Present')"
   ]
  },
  {
   "cell_type": "code",
   "execution_count": null,
   "id": "9547206b",
   "metadata": {},
   "outputs": [],
   "source": [
    "if d.get('name'):           # if it founds key then true if it founds None then it is false.\n",
    "    print(\"Present\")\n",
    "else:\n",
    "    print('Not Present')\n",
    "    \n",
    "    \n",
    "#if None"
   ]
  },
  {
   "cell_type": "code",
   "execution_count": null,
   "id": "57bdd581",
   "metadata": {},
   "outputs": [],
   "source": [
    "d1 =d.copy()    # If we make change it d1 it doesn't effect the original one(d).\n",
    "d1.popitem()\n",
    "print(d1)\n",
    "print(d)"
   ]
  },
  {
   "cell_type": "code",
   "execution_count": null,
   "id": "ff94da87",
   "metadata": {},
   "outputs": [],
   "source": [
    "d2 = d  # both the dict are same and any operation will affect original one dict.\n",
    "print(f\"Popped Item{d2.popitem()}\")\n",
    "print(d)"
   ]
  },
  {
   "cell_type": "code",
   "execution_count": null,
   "id": "23d3cbed",
   "metadata": {},
   "outputs": [],
   "source": [
    "user = {\n",
    "    'name':'Kausahl',\n",
    "    'age': 26\n",
    "}\n",
    "\n",
    "print(user.get('name'))\n",
    "print()\n",
    "print(user.get('names'))\n",
    "print()\n",
    "print(user.get('names','Not Found'))"
   ]
  },
  {
   "cell_type": "code",
   "execution_count": null,
   "id": "8fabe032",
   "metadata": {},
   "outputs": [],
   "source": [
    "user = {\n",
    "    'name':'Kausahl',\n",
    "    'age': 26,\n",
    "    'age': 34\n",
    "}\n",
    "\n",
    "print(user)\n"
   ]
  },
  {
   "cell_type": "markdown",
   "id": "d86185d5",
   "metadata": {},
   "source": [
    "#  Dict Exercise\n"
   ]
  },
  {
   "cell_type": "code",
   "execution_count": null,
   "id": "e651fadf",
   "metadata": {},
   "outputs": [],
   "source": [
    "print( [ i**3 for i in range(1,11)])"
   ]
  },
  {
   "cell_type": "code",
   "execution_count": null,
   "id": "eb6531fd",
   "metadata": {},
   "outputs": [],
   "source": [
    "def find_cube(num):\n",
    "    cube_dict = {}\n",
    "    \n",
    "    for i in range(1,num+1):\n",
    "        cube_dict[i] = i**3\n",
    "    return cube_dict"
   ]
  },
  {
   "cell_type": "code",
   "execution_count": null,
   "id": "f195715d",
   "metadata": {},
   "outputs": [],
   "source": [
    "print(find_cube(10))\n",
    "\n"
   ]
  },
  {
   "cell_type": "markdown",
   "id": "a4bfe6b5",
   "metadata": {},
   "source": [
    "# Word Count using Dictionary\n",
    "## Creating a function"
   ]
  },
  {
   "cell_type": "code",
   "execution_count": null,
   "id": "0bb52c41",
   "metadata": {},
   "outputs": [],
   "source": [
    "def word_count(word):\n",
    "    word = word.lower()\n",
    "    counter_d = {}\n",
    "    for i in word:\n",
    "        counter_d[i] = word.count(i)\n",
    "    return counter_d"
   ]
  },
  {
   "cell_type": "code",
   "execution_count": null,
   "id": "bd0fd091",
   "metadata": {},
   "outputs": [],
   "source": [
    "dict = word_count(\"kaushalKishor\")\n",
    "\n",
    "for i,j in dict.items():\n",
    "    print(f\"{i}:{j}\")"
   ]
  },
  {
   "cell_type": "code",
   "execution_count": null,
   "id": "6a7ed91d",
   "metadata": {},
   "outputs": [],
   "source": [
    "import pandas as pd\n",
    "in_str = input(\"Enter any string : \")\n",
    "df = pd.DataFrame([i for i in in_str])\n",
    "df.value_counts()"
   ]
  },
  {
   "cell_type": "code",
   "execution_count": null,
   "id": "1788921d",
   "metadata": {},
   "outputs": [],
   "source": [
    "def user_info():\n",
    "    name = input(\"Please Enter your name:\")\n",
    "    age = int(input(\"Please enter your age:\"))\n",
    "#     fav_movies = "
   ]
  },
  {
   "cell_type": "markdown",
   "id": "69e99eb2",
   "metadata": {},
   "source": [
    "# Set\n"
   ]
  },
  {
   "cell_type": "code",
   "execution_count": null,
   "id": "a918fac9",
   "metadata": {},
   "outputs": [],
   "source": [
    "lst = [11,1,1223,4,5,5,66,5,44,32,23,4,56,65,4,3,1]   # Finding all the unique values.\n",
    "lst1 = list(set(lst))\n",
    "print(lst1)"
   ]
  },
  {
   "cell_type": "code",
   "execution_count": null,
   "id": "ae68a69a",
   "metadata": {},
   "outputs": [],
   "source": [
    "s = {1,2,6}\n",
    "s.add(5)\n",
    "# s.remove(3)\n",
    "s.discard(4)    # It finds the particular element and removes it. If it does'nt find the element then It will not throw error.\n",
    "s1 = s.copy()\n",
    "s.clear()\n",
    "print(s1,s)"
   ]
  },
  {
   "cell_type": "markdown",
   "id": "93079014",
   "metadata": {},
   "source": [
    "# | (this pipe is used in sets for union)\n",
    "# & (This and operator is used for intersection in sets )"
   ]
  },
  {
   "cell_type": "code",
   "execution_count": null,
   "id": "11dcc897",
   "metadata": {},
   "outputs": [],
   "source": [
    "lst = ['abc','pqr','xyz']\n",
    "print([i[::-1] for i in lst])"
   ]
  },
  {
   "cell_type": "code",
   "execution_count": null,
   "id": "525d007a",
   "metadata": {},
   "outputs": [],
   "source": [
    "numbers = list(range(1,11))\n",
    "\n",
    "even = [i for i in numbers if i%2==0]\n",
    "print(even)"
   ]
  },
  {
   "cell_type": "code",
   "execution_count": null,
   "id": "d1472737",
   "metadata": {},
   "outputs": [],
   "source": [
    "print([[i for i in range(1,4)] for j in range(3)])"
   ]
  },
  {
   "cell_type": "code",
   "execution_count": null,
   "id": "5e00b6e9",
   "metadata": {},
   "outputs": [],
   "source": [
    "square = {f\"Square of num is{num}\" : num ** 2 for num in range(11)}\n",
    "print(square)"
   ]
  },
  {
   "cell_type": "code",
   "execution_count": null,
   "id": "acb7624e",
   "metadata": {},
   "outputs": [],
   "source": [
    "string = \"kaushal\"\n",
    "word_count = {char:string.count(char) for char in string}\n",
    "print(word_count)"
   ]
  },
  {
   "cell_type": "code",
   "execution_count": null,
   "id": "3ccaca4b",
   "metadata": {},
   "outputs": [],
   "source": [
    "def mul_args(num,*args):\n",
    "    return [i**num for i in args]       \n",
    "    \n",
    "\n",
    "list1 = [i for i in range(1,11)]\n",
    "print(mul_args(3,*list1))"
   ]
  },
  {
   "cell_type": "markdown",
   "id": "eff4ecc1",
   "metadata": {},
   "source": [
    "## How to pass all kind of arguments in a fuction:"
   ]
  },
  {
   "cell_type": "code",
   "execution_count": null,
   "id": "df3a6546",
   "metadata": {},
   "outputs": [],
   "source": [
    "# parameter\n",
    "# *args\n",
    "# default parameter\n",
    "# **kwargs"
   ]
  },
  {
   "cell_type": "code",
   "execution_count": null,
   "id": "071ec78a",
   "metadata": {},
   "outputs": [],
   "source": [
    "def func(name,*args,last_name = 'Kaushal',**kwargs):\n",
    "    print(name)\n",
    "    print(args)\n",
    "    print(last_name)\n",
    "    print(kwargs)\n",
    "    \n",
    "print(func('Kaushal','rr','institute','kishor', a=1,b=4))"
   ]
  },
  {
   "cell_type": "markdown",
   "id": "f8ab2587",
   "metadata": {},
   "source": [
    "def f_capital(*args):\n",
    "    for i in args:\n",
    "        print(i.title())\n",
    "        \n",
    "list1 = ['kaushal','kishor']\n",
    "f_capital(*list1)"
   ]
  },
  {
   "cell_type": "markdown",
   "id": "866152dc",
   "metadata": {},
   "source": [
    "## enumerate() function is used to find the position of the element in list.\n"
   ]
  },
  {
   "cell_type": "code",
   "execution_count": null,
   "id": "98312c34",
   "metadata": {},
   "outputs": [],
   "source": [
    "lst = ['kaushal','kishor','this','is','my','name']\n",
    "\n",
    "for pos,name in enumerate(lst):   # Enumerate will map name with its postion number\n",
    "    print(f\"{pos} --> {name}\")\n",
    "print(list(enumerate(lst)))"
   ]
  },
  {
   "cell_type": "markdown",
   "id": "498852ad",
   "metadata": {},
   "source": [
    "# Map function"
   ]
  },
  {
   "cell_type": "code",
   "execution_count": null,
   "id": "678ac7ac",
   "metadata": {},
   "outputs": [],
   "source": [
    "numbers = [i for i in range(1,11)]\n",
    "squares = list(map(lambda num : num**2,numbers))\n",
    "# squares = numbers.apply(lambda num : num**2)\n",
    "print(squares)\n",
    "\n"
   ]
  },
  {
   "cell_type": "markdown",
   "id": "5502e637",
   "metadata": {},
   "source": [
    "## filter function"
   ]
  },
  {
   "cell_type": "code",
   "execution_count": null,
   "id": "c4b94a39",
   "metadata": {},
   "outputs": [],
   "source": [
    "\n",
    "def is_even(num):\n",
    "    return num % 2 == 0\n",
    "l1 = list(range(1,21))\n",
    "print(list(filter(is_even,l1)))\n",
    "\n",
    "list(filter(lambda a:a%2==0,numbers))"
   ]
  },
  {
   "cell_type": "code",
   "execution_count": null,
   "id": "c9315c3a",
   "metadata": {},
   "outputs": [],
   "source": [
    "[i for i in filter(lambda a:a%2==0,numbers)]"
   ]
  },
  {
   "cell_type": "markdown",
   "id": "38449d77",
   "metadata": {},
   "source": [
    "# ZIP function"
   ]
  },
  {
   "cell_type": "code",
   "execution_count": null,
   "id": "a717a281",
   "metadata": {
    "scrolled": true
   },
   "outputs": [],
   "source": [
    "\n",
    "l1 = [ i for i in range(1,11) if i%2==1]\n",
    "l2 = [ i for i in range(1,11) if i%2==0]\n",
    "\n",
    "print([ max(pair) for pair in zip(l1,l2)])"
   ]
  },
  {
   "cell_type": "code",
   "execution_count": null,
   "id": "05c2ba47",
   "metadata": {},
   "outputs": [],
   "source": []
  },
  {
   "cell_type": "code",
   "execution_count": null,
   "id": "ecd61266",
   "metadata": {},
   "outputs": [],
   "source": [
    "import numpy as np"
   ]
  },
  {
   "cell_type": "code",
   "execution_count": null,
   "id": "eb317407",
   "metadata": {},
   "outputs": [],
   "source": [
    "np.random.randn(25)"
   ]
  },
  {
   "cell_type": "code",
   "execution_count": null,
   "id": "5039fe0a",
   "metadata": {},
   "outputs": [],
   "source": [
    "np.arange(1,10).reshape(3,3)"
   ]
  },
  {
   "cell_type": "code",
   "execution_count": null,
   "id": "dba4b432",
   "metadata": {},
   "outputs": [],
   "source": [
    "np.identity(3)"
   ]
  },
  {
   "cell_type": "code",
   "execution_count": null,
   "id": "3deea874",
   "metadata": {},
   "outputs": [],
   "source": [
    "np.array(10)"
   ]
  },
  {
   "cell_type": "code",
   "execution_count": null,
   "id": "214e6698",
   "metadata": {},
   "outputs": [],
   "source": [
    "np.linspace(0,1,20)"
   ]
  },
  {
   "cell_type": "code",
   "execution_count": null,
   "id": "e82295eb",
   "metadata": {},
   "outputs": [],
   "source": [
    "mat = np.arange(1,26).reshape(5,5)\n",
    "mat"
   ]
  },
  {
   "cell_type": "code",
   "execution_count": null,
   "id": "ff1b1b9d",
   "metadata": {},
   "outputs": [],
   "source": [
    "mat[2:,1:]"
   ]
  },
  {
   "cell_type": "code",
   "execution_count": null,
   "id": "3ae45382",
   "metadata": {},
   "outputs": [],
   "source": [
    "mat[0:3,1].reshape(3,1)"
   ]
  },
  {
   "cell_type": "code",
   "execution_count": null,
   "id": "c79edda2",
   "metadata": {},
   "outputs": [],
   "source": [
    "mat[4,:]"
   ]
  },
  {
   "cell_type": "code",
   "execution_count": null,
   "id": "fb2cedf0",
   "metadata": {},
   "outputs": [],
   "source": [
    "mat.sum()"
   ]
  },
  {
   "cell_type": "code",
   "execution_count": null,
   "id": "f20ac782",
   "metadata": {},
   "outputs": [],
   "source": [
    "mat.std()"
   ]
  },
  {
   "cell_type": "code",
   "execution_count": null,
   "id": "bf3c24f4",
   "metadata": {},
   "outputs": [],
   "source": [
    "mat.sum(axis = 1)"
   ]
  },
  {
   "cell_type": "code",
   "execution_count": null,
   "id": "3e095ec7",
   "metadata": {},
   "outputs": [],
   "source": [
    "import random\n",
    "# num = int(input(\"Enter the number of lists. \"))\n",
    "lst1 = random.randint(1,10)\n",
    "print(lst1)"
   ]
  },
  {
   "cell_type": "code",
   "execution_count": null,
   "id": "24f11806",
   "metadata": {},
   "outputs": [],
   "source": [
    "# np.randint()"
   ]
  },
  {
   "cell_type": "code",
   "execution_count": null,
   "id": "94808936",
   "metadata": {},
   "outputs": [],
   "source": [
    "def avg_fun(*args):\n",
    "    avg = []\n",
    "    for pair in zip(*args):\n",
    "        print(pair)\n",
    "        avg.append(sum(pair)/len(pair))\n",
    "    return avg\n",
    "print(avg_fun([1,2,3],[4,5,6],[7,8,9]))\n",
    "        "
   ]
  },
  {
   "cell_type": "code",
   "execution_count": null,
   "id": "b7354743",
   "metadata": {},
   "outputs": [],
   "source": [
    "lst11 = lambda *args : [sum(pair)/len(pair) for pair in zip(*args)]\n",
    "lst11([1,2,3],[4,5,6],[7,8,9])"
   ]
  },
  {
   "cell_type": "code",
   "execution_count": null,
   "id": "8ff81eeb",
   "metadata": {},
   "outputs": [],
   "source": [
    "std1 = {\n",
    "    \"kk\":{\"name\":\"Kaushal\",\"score\":85,\"age\":26},\n",
    "    \"kk1\":{\"name\":\"Kishor\",\"score\":95,\"age\":25},\n",
    "    \"kk2\":{\"name\":\"K\",\"score\":75,\"age\":25}\n",
    "}\n",
    "\n",
    "\n",
    "# for k,v in std1.items():\n",
    "# #     for k1,v1  in k.items():\n",
    "        \n",
    "#         print(k,v.get(\"score\"))\n",
    "\n",
    "        \n",
    "print(max(std1,key = lambda item : std1[item]['score']))"
   ]
  },
  {
   "cell_type": "code",
   "execution_count": null,
   "id": "2d2dfab1",
   "metadata": {},
   "outputs": [],
   "source": [
    "ddd1 = {\"name\":\"Kaushal\",\"score\":85,\"age\":26}\n",
    "\n",
    "ddd1.get(\"name\")"
   ]
  },
  {
   "cell_type": "code",
   "execution_count": null,
   "id": "3da7d9c1",
   "metadata": {},
   "outputs": [],
   "source": [
    "# help(dict)"
   ]
  },
  {
   "cell_type": "code",
   "execution_count": null,
   "id": "f6da4182",
   "metadata": {},
   "outputs": [],
   "source": [
    "pair = ((0,1),(1,2),(2,1))\n",
    "dict(pair)"
   ]
  },
  {
   "cell_type": "code",
   "execution_count": null,
   "id": "6cbb8c37",
   "metadata": {},
   "outputs": [],
   "source": [
    "def outer():\n",
    "    def inner():\n",
    "        print(\"Inner\")\n",
    "    return inner\n",
    "var1 = outer()"
   ]
  },
  {
   "cell_type": "code",
   "execution_count": null,
   "id": "3673f902",
   "metadata": {},
   "outputs": [],
   "source": [
    "var1()"
   ]
  },
  {
   "cell_type": "code",
   "execution_count": null,
   "id": "0483a602",
   "metadata": {},
   "outputs": [],
   "source": [
    "def to_power(x):\n",
    "    def calc_pow(n):\n",
    "        return n**x\n",
    "    return calc_pow\n",
    "\n",
    "cube = to_power(3)\n",
    "\n",
    "cube(2)\n",
    "    \n"
   ]
  },
  {
   "cell_type": "code",
   "execution_count": null,
   "id": "766b3962",
   "metadata": {},
   "outputs": [],
   "source": []
  },
  {
   "cell_type": "code",
   "execution_count": null,
   "id": "78ecbd15",
   "metadata": {},
   "outputs": [],
   "source": []
  },
  {
   "cell_type": "code",
   "execution_count": null,
   "id": "2dc2502f",
   "metadata": {},
   "outputs": [],
   "source": []
  },
  {
   "cell_type": "code",
   "execution_count": null,
   "id": "7a4b6512",
   "metadata": {},
   "outputs": [],
   "source": []
  },
  {
   "cell_type": "code",
   "execution_count": 5,
   "id": "800794bc",
   "metadata": {},
   "outputs": [
    {
     "ename": "Terminator",
     "evalue": "",
     "output_type": "error",
     "traceback": [
      "\u001b[1;31m---------------------------------------------------------------------------\u001b[0m",
      "\u001b[1;31mTerminator\u001b[0m                                Traceback (most recent call last)",
      "\u001b[1;32mC:\\Users\\KAUSHA~1.KIS\\AppData\\Local\\Temp/ipykernel_9808/776954400.py\u001b[0m in \u001b[0;36m<module>\u001b[1;34m\u001b[0m\n\u001b[0;32m     11\u001b[0m \u001b[0mdone\u001b[0m\u001b[1;33m(\u001b[0m\u001b[1;33m)\u001b[0m\u001b[1;33m\u001b[0m\u001b[1;33m\u001b[0m\u001b[0m\n\u001b[0;32m     12\u001b[0m \u001b[1;32mfrom\u001b[0m \u001b[0mrandom\u001b[0m \u001b[1;32mimport\u001b[0m \u001b[0mrandint\u001b[0m\u001b[1;33m\u001b[0m\u001b[1;33m\u001b[0m\u001b[0m\n\u001b[1;32m---> 13\u001b[1;33m \u001b[0mbgcolor\u001b[0m\u001b[1;33m(\u001b[0m\u001b[1;34m'black'\u001b[0m\u001b[1;33m)\u001b[0m\u001b[1;33m\u001b[0m\u001b[1;33m\u001b[0m\u001b[0m\n\u001b[0m\u001b[0;32m     14\u001b[0m \u001b[0mx\u001b[0m \u001b[1;33m=\u001b[0m \u001b[1;36m1\u001b[0m\u001b[1;33m\u001b[0m\u001b[1;33m\u001b[0m\u001b[0m\n\u001b[0;32m     15\u001b[0m \u001b[1;32mwhile\u001b[0m \u001b[0mx\u001b[0m\u001b[1;33m<\u001b[0m\u001b[1;36m400\u001b[0m\u001b[1;33m:\u001b[0m\u001b[1;33m\u001b[0m\u001b[1;33m\u001b[0m\u001b[0m\n",
      "\u001b[1;32m~\\Anaconda3\\lib\\turtle.py\u001b[0m in \u001b[0;36mbgcolor\u001b[1;34m(*args)\u001b[0m\n",
      "\u001b[1;31mTerminator\u001b[0m: "
     ]
    }
   ],
   "source": [
    "from turtle import *\n",
    "color('silver', 'silver')\n",
    "bgcolor('black')\n",
    "begin_fill()\n",
    "while True:\n",
    "    forward(190)\n",
    "    left(75)\n",
    "    if abs(pos()) < 1:\n",
    "        break\n",
    "end_fill()\n",
    "done()\n",
    "# from random import randint\n",
    "# bgcolor('black')\n",
    "# x = 1\n",
    "# while x<400:\n",
    "#     r = randint(0,255)\n",
    "#     g = randint(0,255)\n",
    "#     b = randint(0,255)\n",
    "#     colormode(255)\n",
    "#     pencolor('red')\n",
    "#     fd(50+x)\n",
    "#     rt(90.991)\n",
    "#     x = x+1\n",
    "#     exitonclick()\n",
    "    \n",
    "\n"
   ]
  },
  {
   "cell_type": "code",
   "execution_count": null,
   "id": "96ac74f0",
   "metadata": {},
   "outputs": [],
   "source": []
  }
 ],
 "metadata": {
  "kernelspec": {
   "display_name": "Python 3 (ipykernel)",
   "language": "python",
   "name": "python3"
  },
  "language_info": {
   "codemirror_mode": {
    "name": "ipython",
    "version": 3
   },
   "file_extension": ".py",
   "mimetype": "text/x-python",
   "name": "python",
   "nbconvert_exporter": "python",
   "pygments_lexer": "ipython3",
   "version": "3.9.7"
  }
 },
 "nbformat": 4,
 "nbformat_minor": 5
}
