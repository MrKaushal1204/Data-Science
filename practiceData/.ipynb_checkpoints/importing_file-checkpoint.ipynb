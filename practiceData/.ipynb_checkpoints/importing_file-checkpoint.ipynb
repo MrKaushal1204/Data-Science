{
 "cells": [
  {
   "cell_type": "code",
   "execution_count": 2,
   "id": "31cbe936",
   "metadata": {},
   "outputs": [],
   "source": [
    "%run ml_functions.ipynb"
   ]
  },
  {
   "cell_type": "code",
   "execution_count": null,
   "id": "4fd3297e",
   "metadata": {},
   "outputs": [],
   "source": []
  },
  {
   "cell_type": "code",
   "execution_count": null,
   "id": "d2519b70",
   "metadata": {},
   "outputs": [],
   "source": []
  },
  {
   "cell_type": "code",
   "execution_count": null,
   "id": "b77a94aa",
   "metadata": {},
   "outputs": [],
   "source": []
  },
  {
   "cell_type": "code",
   "execution_count": 1,
   "id": "9792cda8",
   "metadata": {},
   "outputs": [
    {
     "name": "stdout",
     "output_type": "stream",
     "text": [
      " Volume in drive C is Windows 10\n",
      " Volume Serial Number is 6019-34DA\n",
      "\n",
      " Directory of C:\\Users\\Kaushal.kishor\\Desktop\\Python\\practiceData\n",
      "\n",
      "17-08-2022  16:26    <DIR>          .\n",
      "17-08-2022  16:26    <DIR>          ..\n",
      "17-08-2022  14:55    <DIR>          .ipynb_checkpoints\n",
      "09-08-2022  17:25             2,827 Algorithms.ipynb\n",
      "01-05-2022  20:11           869,537 bigmart_train.csv\n",
      "10-06-2022  23:33    <DIR>          Breast_Cancer\n",
      "06-08-2022  12:13            16,218 Breast_Cancer.ipynb\n",
      "17-08-2022  16:26           339,573 California_Housing_practice.ipynb\n",
      "26-05-2022  18:27    <DIR>          cars\n",
      "17-08-2022  12:27           465,594 Housing Prediction.ipynb\n",
      "17-08-2022  15:09             2,567 importing_file.ipynb\n",
      "11-08-2022  17:27             2,594 Interview Practice.ipynb\n",
      "23-05-2022  19:43             4,911 IPL Problem.ipynb\n",
      "30-05-2022  11:43    <DIR>          Middle_tn_schools\n",
      "17-08-2022  16:13             3,218 ml_functions.ipynb\n",
      "08-08-2022  22:51             4,294 OOP in python.ipynb\n",
      "08-08-2022  13:22            16,420 Python_Practice.ipynb\n",
      "25-05-2022  18:12             7,504 Series.ipynb\n",
      "              12 File(s)      1,735,257 bytes\n",
      "               6 Dir(s)  260,129,542,144 bytes free\n"
     ]
    }
   ],
   "source": [
    "ls"
   ]
  },
  {
   "cell_type": "code",
   "execution_count": null,
   "id": "736275e2",
   "metadata": {},
   "outputs": [],
   "source": []
  },
  {
   "cell_type": "code",
   "execution_count": null,
   "id": "8506823b",
   "metadata": {},
   "outputs": [],
   "source": []
  }
 ],
 "metadata": {
  "kernelspec": {
   "display_name": "Python 3 (ipykernel)",
   "language": "python",
   "name": "python3"
  },
  "language_info": {
   "codemirror_mode": {
    "name": "ipython",
    "version": 3
   },
   "file_extension": ".py",
   "mimetype": "text/x-python",
   "name": "python",
   "nbconvert_exporter": "python",
   "pygments_lexer": "ipython3",
   "version": "3.9.7"
  }
 },
 "nbformat": 4,
 "nbformat_minor": 5
}
