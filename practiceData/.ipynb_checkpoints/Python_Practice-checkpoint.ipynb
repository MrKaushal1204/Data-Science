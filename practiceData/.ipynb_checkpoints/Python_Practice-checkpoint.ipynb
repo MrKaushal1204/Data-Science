{
 "cells": [
  {
   "cell_type": "code",
   "execution_count": 21,
   "id": "734ddd4b",
   "metadata": {},
   "outputs": [],
   "source": [
    "Employee_info = {\n",
    "    'emp1' : {\n",
    "        'name' : 'Kaushal',\n",
    "        'age' : 26,\n",
    "        'tech' : 'Python developer',\n",
    "        'experience' : '2 years'\n",
    "    },\n",
    "    'emp2' : {\n",
    "        'name' : 'Rajanand',\n",
    "        'age' : 26,\n",
    "        'tech' : 'Software tester',\n",
    "        'experience' : '2.1 years'\n",
    "    }\n",
    "}"
   ]
  },
  {
   "cell_type": "code",
   "execution_count": 70,
   "id": "e6264fb9",
   "metadata": {},
   "outputs": [
    {
     "name": "stdout",
     "output_type": "stream",
     "text": [
      "emp1 {'name': 'Kaushal', 'age': 26, 'tech': 'Python developer', 'experience': '2 years'}\n",
      "4\n",
      "emp2 {'name': 'Rajanand', 'age': 26, 'tech': 'Software tester', 'experience': '2.1 years'}\n",
      "4\n"
     ]
    }
   ],
   "source": [
    "for i,j in Employee_info.items():\n",
    "    print(i,j)\n",
    "    print(len(i))\n",
    "#     for k in i:\n",
    "#         print(k)"
   ]
  },
  {
   "cell_type": "code",
   "execution_count": 15,
   "id": "c2f9590d",
   "metadata": {},
   "outputs": [],
   "source": [
    "Employee_info = {\n",
    "    \n",
    "        'name' : 'Kaushal',\n",
    "        'age' : 26,\n",
    "        'tech' : 'Python developer',\n",
    "        'experience' : '2 years'\n",
    "    },"
   ]
  },
  {
   "cell_type": "code",
   "execution_count": 19,
   "id": "21d86212",
   "metadata": {},
   "outputs": [
    {
     "ename": "AttributeError",
     "evalue": "'tuple' object has no attribute 'items'",
     "output_type": "error",
     "traceback": [
      "\u001b[1;31m---------------------------------------------------------------------------\u001b[0m",
      "\u001b[1;31mAttributeError\u001b[0m                            Traceback (most recent call last)",
      "\u001b[1;32mC:\\Users\\KAUSHA~1.KIS\\AppData\\Local\\Temp/ipykernel_420/1997602554.py\u001b[0m in \u001b[0;36m<module>\u001b[1;34m\u001b[0m\n\u001b[1;32m----> 1\u001b[1;33m \u001b[0mEmployee_info\u001b[0m\u001b[1;33m.\u001b[0m\u001b[0mitems\u001b[0m\u001b[1;33m(\u001b[0m\u001b[1;33m)\u001b[0m\u001b[1;33m\u001b[0m\u001b[1;33m\u001b[0m\u001b[0m\n\u001b[0m",
      "\u001b[1;31mAttributeError\u001b[0m: 'tuple' object has no attribute 'items'"
     ]
    }
   ],
   "source": [
    "Employee_info.items()"
   ]
  },
  {
   "cell_type": "markdown",
   "id": "f405cff9",
   "metadata": {},
   "source": [
    "# Dictionary\n",
    "\n",
    "### Fromkeys\n"
   ]
  },
  {
   "cell_type": "code",
   "execution_count": 71,
   "id": "c217b85a",
   "metadata": {},
   "outputs": [],
   "source": [
    "d = {\n",
    "    'name':'unknown',\n",
    "    'age':'unknown'\n",
    "}\n",
    "\n"
   ]
  },
  {
   "cell_type": "code",
   "execution_count": 73,
   "id": "cbfd3dbc",
   "metadata": {},
   "outputs": [
    {
     "name": "stdout",
     "output_type": "stream",
     "text": [
      "{'name': 'unknown', 'age': 'unknown', 'height': 'unknown'}\n"
     ]
    }
   ],
   "source": [
    "d = dict.fromkeys(['name','age','height'],'unknown')\n",
    "print(d)"
   ]
  },
  {
   "cell_type": "code",
   "execution_count": 75,
   "id": "e7b8ac76",
   "metadata": {},
   "outputs": [
    {
     "name": "stdout",
     "output_type": "stream",
     "text": [
      "{'name': 'unknown', 'age': 'unknown', 'height': 'unknown'}\n"
     ]
    }
   ],
   "source": [
    "d = dict.fromkeys(('name','age','height'),'unknown')\n",
    "print(d)"
   ]
  },
  {
   "cell_type": "code",
   "execution_count": 76,
   "id": "ba29047e",
   "metadata": {},
   "outputs": [
    {
     "name": "stdout",
     "output_type": "stream",
     "text": [
      "{'a': 'unknown', 'b': 'unknown', 'c': 'unknown'}\n"
     ]
    }
   ],
   "source": [
    "d = dict.fromkeys(\"abc\",'unknown')\n",
    "print(d)"
   ]
  },
  {
   "cell_type": "code",
   "execution_count": 78,
   "id": "79c6a276",
   "metadata": {},
   "outputs": [
    {
     "name": "stdout",
     "output_type": "stream",
     "text": [
      "{1: 'unknown', 2: 'unknown', 3: 'unknown', 4: 'unknown', 5: 'unknown', 6: 'unknown', 7: 'unknown', 8: 'unknown', 9: 'unknown'}\n"
     ]
    }
   ],
   "source": [
    "d = dict.fromkeys(range(1,10),'unknown')\n",
    "print(d)"
   ]
  },
  {
   "cell_type": "code",
   "execution_count": 79,
   "id": "01063e27",
   "metadata": {},
   "outputs": [
    {
     "name": "stdout",
     "output_type": "stream",
     "text": [
      "{'name': ['unknown', 'unknown'], 'age': ['unknown', 'unknown']}\n"
     ]
    }
   ],
   "source": [
    "d = dict.fromkeys(['name','age'],['unknown','unknown'])\n",
    "print(d)"
   ]
  },
  {
   "cell_type": "markdown",
   "id": "000e7167",
   "metadata": {},
   "source": [
    "### GET METHOD\n"
   ]
  },
  {
   "cell_type": "code",
   "execution_count": 88,
   "id": "0240ebc8",
   "metadata": {},
   "outputs": [
    {
     "name": "stdout",
     "output_type": "stream",
     "text": [
      "unknown\n"
     ]
    },
    {
     "ename": "KeyError",
     "evalue": "'names'",
     "output_type": "error",
     "traceback": [
      "\u001b[1;31m---------------------------------------------------------------------------\u001b[0m",
      "\u001b[1;31mKeyError\u001b[0m                                  Traceback (most recent call last)",
      "\u001b[1;32mC:\\Users\\KAUSHA~1.KIS\\AppData\\Local\\Temp/ipykernel_420/913235304.py\u001b[0m in \u001b[0;36m<module>\u001b[1;34m\u001b[0m\n\u001b[0;32m      1\u001b[0m \u001b[0md\u001b[0m \u001b[1;33m=\u001b[0m \u001b[1;33m{\u001b[0m\u001b[1;34m'name'\u001b[0m\u001b[1;33m:\u001b[0m\u001b[1;34m'unknown'\u001b[0m\u001b[1;33m,\u001b[0m\u001b[1;34m'age'\u001b[0m\u001b[1;33m:\u001b[0m\u001b[1;34m'unknown'\u001b[0m\u001b[1;33m}\u001b[0m\u001b[1;33m\u001b[0m\u001b[1;33m\u001b[0m\u001b[0m\n\u001b[0;32m      2\u001b[0m \u001b[0mprint\u001b[0m\u001b[1;33m(\u001b[0m\u001b[0md\u001b[0m\u001b[1;33m[\u001b[0m\u001b[1;34m'name'\u001b[0m\u001b[1;33m]\u001b[0m\u001b[1;33m)\u001b[0m\u001b[1;33m\u001b[0m\u001b[1;33m\u001b[0m\u001b[0m\n\u001b[1;32m----> 3\u001b[1;33m \u001b[0mprint\u001b[0m\u001b[1;33m(\u001b[0m\u001b[0md\u001b[0m\u001b[1;33m[\u001b[0m\u001b[1;34m'names'\u001b[0m\u001b[1;33m]\u001b[0m\u001b[1;33m)\u001b[0m\u001b[1;33m\u001b[0m\u001b[1;33m\u001b[0m\u001b[0m\n\u001b[0m",
      "\u001b[1;31mKeyError\u001b[0m: 'names'"
     ]
    }
   ],
   "source": [
    "d = {'name':'unknown','age':'unknown'}\n",
    "print(d['name'])\n",
    "print(d['names'])"
   ]
  },
  {
   "cell_type": "code",
   "execution_count": 99,
   "id": "51c05d91",
   "metadata": {},
   "outputs": [
    {
     "name": "stdout",
     "output_type": "stream",
     "text": [
      "Kaushal\n",
      "None\n"
     ]
    }
   ],
   "source": [
    "d = {'name':'Kaushal','age':'unknown'}\n",
    "print(d.get('name'))\n",
    "print(d.get('names'))    # it returns none instead of error"
   ]
  },
  {
   "cell_type": "code",
   "execution_count": 100,
   "id": "98003dc4",
   "metadata": {},
   "outputs": [
    {
     "name": "stdout",
     "output_type": "stream",
     "text": [
      "present\n"
     ]
    }
   ],
   "source": [
    "if 'name' in d:\n",
    "    print('present')\n",
    "else:\n",
    "    print('Not Present')"
   ]
  },
  {
   "cell_type": "code",
   "execution_count": 101,
   "id": "428b8e2d",
   "metadata": {},
   "outputs": [
    {
     "name": "stdout",
     "output_type": "stream",
     "text": [
      "Present\n"
     ]
    }
   ],
   "source": [
    "if d.get('name'):           # if it founds key then true if it founds None then it is false.\n",
    "    print(\"Present\")\n",
    "else:\n",
    "    print('Not Present')\n",
    "    \n",
    "    \n",
    "#if None"
   ]
  },
  {
   "cell_type": "code",
   "execution_count": 102,
   "id": "e87ed47a",
   "metadata": {},
   "outputs": [
    {
     "name": "stdout",
     "output_type": "stream",
     "text": [
      "{'name': 'Kaushal', 'age': 'unknown'}\n"
     ]
    }
   ],
   "source": [
    "d1 =d.copy()\n",
    "print(d1)"
   ]
  },
  {
   "cell_type": "code",
   "execution_count": 103,
   "id": "2261ac7b",
   "metadata": {},
   "outputs": [
    {
     "name": "stdout",
     "output_type": "stream",
     "text": [
      "Popped Item('age', 'unknown')\n",
      "{'name': 'Kaushal'}\n"
     ]
    }
   ],
   "source": [
    "d2 = d  # both the dict are same and any operation will affect original one dict.\n",
    "print(f\"Popped Item{d2.popitem()}\")\n",
    "print(d)"
   ]
  },
  {
   "cell_type": "code",
   "execution_count": 107,
   "id": "bb2b7fee",
   "metadata": {},
   "outputs": [
    {
     "name": "stdout",
     "output_type": "stream",
     "text": [
      "Kausahl\n",
      "\n",
      "None\n",
      "\n",
      "Not Found\n"
     ]
    }
   ],
   "source": [
    "user = {\n",
    "    'name':'Kausahl',\n",
    "    'age': 26\n",
    "}\n",
    "\n",
    "print(user.get('name'))\n",
    "print()\n",
    "print(user.get('names'))\n",
    "print()\n",
    "print(user.get('names','Not Found'))"
   ]
  },
  {
   "cell_type": "code",
   "execution_count": 109,
   "id": "6d415948",
   "metadata": {},
   "outputs": [
    {
     "name": "stdout",
     "output_type": "stream",
     "text": [
      "{'name': 'Kausahl', 'age': 34}\n"
     ]
    }
   ],
   "source": [
    "user = {\n",
    "    'name':'Kausahl',\n",
    "    'age': 26,\n",
    "    'age': 34\n",
    "}\n",
    "\n",
    "print(user)\n"
   ]
  },
  {
   "cell_type": "markdown",
   "id": "ab723666",
   "metadata": {},
   "source": [
    "#  Dict Exercise\n"
   ]
  },
  {
   "cell_type": "code",
   "execution_count": 113,
   "id": "31026cd2",
   "metadata": {},
   "outputs": [
    {
     "name": "stdout",
     "output_type": "stream",
     "text": [
      "[1, 8, 27, 64, 125, 216, 343, 512, 729, 1000]\n"
     ]
    }
   ],
   "source": [
    "print( [ i**3 for i in range(1,11)])"
   ]
  },
  {
   "cell_type": "code",
   "execution_count": 137,
   "id": "a19fd55c",
   "metadata": {},
   "outputs": [],
   "source": [
    "def find_cube(num):\n",
    "    cube_dict = {}\n",
    "    \n",
    "    for i in range(1,num+1):\n",
    "        cube_dict[i] = i**3\n",
    "    return cube_dict"
   ]
  },
  {
   "cell_type": "code",
   "execution_count": 140,
   "id": "3a7ba405",
   "metadata": {},
   "outputs": [
    {
     "name": "stdout",
     "output_type": "stream",
     "text": [
      "{1: 1, 2: 8, 3: 27, 4: 64, 5: 125, 6: 216, 7: 343, 8: 512, 9: 729, 10: 1000}\n"
     ]
    }
   ],
   "source": [
    "print(find_cube(10))\n",
    "\n"
   ]
  },
  {
   "cell_type": "markdown",
   "id": "4d990d5f",
   "metadata": {},
   "source": [
    "# Word Count using Dictionary\n",
    "## Creating a function"
   ]
  },
  {
   "cell_type": "code",
   "execution_count": 156,
   "id": "d08f88f8",
   "metadata": {},
   "outputs": [],
   "source": [
    "def word_count(word):\n",
    "    word = word.lower()\n",
    "    counter_d = {}\n",
    "    for i in word:\n",
    "        counter_d[i] = word.count(i)\n",
    "    return counter_d"
   ]
  },
  {
   "cell_type": "code",
   "execution_count": 161,
   "id": "ae7e08ec",
   "metadata": {},
   "outputs": [
    {
     "name": "stdout",
     "output_type": "stream",
     "text": [
      "k:2\n",
      "a:2\n",
      "u:1\n",
      "s:2\n",
      "h:2\n",
      "l:1\n",
      "i:1\n",
      "o:1\n",
      "r:1\n"
     ]
    }
   ],
   "source": [
    "dict = word_count(\"kaushalKishor\")\n",
    "\n",
    "for i,j in dict.items():\n",
    "    print(f\"{i}:{j}\")"
   ]
  },
  {
   "cell_type": "code",
   "execution_count": 167,
   "id": "46d21ca9",
   "metadata": {},
   "outputs": [
    {
     "ename": "NameError",
     "evalue": "name 'dataFrame' is not defined",
     "output_type": "error",
     "traceback": [
      "\u001b[1;31m---------------------------------------------------------------------------\u001b[0m",
      "\u001b[1;31mNameError\u001b[0m                                 Traceback (most recent call last)",
      "\u001b[1;32mC:\\Users\\KAUSHA~1.KIS\\AppData\\Local\\Temp/ipykernel_420/450822133.py\u001b[0m in \u001b[0;36m<module>\u001b[1;34m\u001b[0m\n\u001b[0;32m      1\u001b[0m \u001b[1;32mimport\u001b[0m \u001b[0mpandas\u001b[0m \u001b[1;32mas\u001b[0m \u001b[0mpd\u001b[0m\u001b[1;33m\u001b[0m\u001b[1;33m\u001b[0m\u001b[0m\n\u001b[1;32m----> 2\u001b[1;33m \u001b[0mdf\u001b[0m \u001b[1;33m=\u001b[0m \u001b[0mdataFrame\u001b[0m\u001b[1;33m[\u001b[0m\u001b[1;36m1\u001b[0m\u001b[1;33m,\u001b[0m\u001b[1;36m1\u001b[0m\u001b[1;33m,\u001b[0m\u001b[1;36m2\u001b[0m\u001b[1;33m,\u001b[0m\u001b[1;36m3\u001b[0m\u001b[1;33m,\u001b[0m\u001b[1;36m4\u001b[0m\u001b[1;33m,\u001b[0m\u001b[1;36m5\u001b[0m\u001b[1;33m,\u001b[0m\u001b[1;36m6\u001b[0m\u001b[1;33m,\u001b[0m\u001b[1;36m7\u001b[0m\u001b[1;33m,\u001b[0m\u001b[1;36m5\u001b[0m\u001b[1;33m,\u001b[0m\u001b[1;36m44\u001b[0m\u001b[1;33m,\u001b[0m\u001b[1;36m3\u001b[0m\u001b[1;33m,\u001b[0m\u001b[1;36m4\u001b[0m\u001b[1;33m]\u001b[0m\u001b[1;33m\u001b[0m\u001b[1;33m\u001b[0m\u001b[0m\n\u001b[0m\u001b[0;32m      3\u001b[0m \u001b[0mdf\u001b[0m\u001b[1;33m\u001b[0m\u001b[1;33m\u001b[0m\u001b[0m\n",
      "\u001b[1;31mNameError\u001b[0m: name 'dataFrame' is not defined"
     ]
    }
   ],
   "source": [
    "import pandas as pd\n",
    "df = DataFrame[1,1,2,3,4,5,6,7,5,44,3,4]\n",
    "df"
   ]
  },
  {
   "cell_type": "code",
   "execution_count": null,
   "id": "de6d13e1",
   "metadata": {},
   "outputs": [],
   "source": []
  },
  {
   "cell_type": "code",
   "execution_count": null,
   "id": "5d3eebc9",
   "metadata": {},
   "outputs": [],
   "source": [
    "def user_info():\n",
    "    name = input(\"Please Enter your name:\")\n",
    "    age = int(input(\"Please enter your age:\"))\n",
    "    fav_movies = "
   ]
  },
  {
   "cell_type": "code",
   "execution_count": null,
   "id": "eb3a1b2c",
   "metadata": {},
   "outputs": [],
   "source": []
  }
 ],
 "metadata": {
  "kernelspec": {
   "display_name": "Python 3 (ipykernel)",
   "language": "python",
   "name": "python3"
  },
  "language_info": {
   "codemirror_mode": {
    "name": "ipython",
    "version": 3
   },
   "file_extension": ".py",
   "mimetype": "text/x-python",
   "name": "python",
   "nbconvert_exporter": "python",
   "pygments_lexer": "ipython3",
   "version": "3.9.7"
  }
 },
 "nbformat": 4,
 "nbformat_minor": 5
}
