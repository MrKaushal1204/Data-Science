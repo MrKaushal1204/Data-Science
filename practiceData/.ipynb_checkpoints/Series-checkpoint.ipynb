{
 "cells": [
  {
   "cell_type": "code",
   "execution_count": 6,
   "id": "ed16ce6e",
   "metadata": {},
   "outputs": [
    {
     "name": "stdout",
     "output_type": "stream",
     "text": [
      "Enter the length of series: 12\n",
      "1\n",
      "4\n",
      "9\n",
      "25\n",
      "36\n",
      "49\n",
      "81\n",
      "100\n",
      "121\n",
      "169\n",
      "196\n",
      "225\n"
     ]
    }
   ],
   "source": [
    "# 1,4,9,25,36,49,81,100,...\n",
    "\n",
    "number = int(input(\"Enter the length of series: \"))\n",
    "i=1\n",
    "while i<=number:\n",
    "    if i%4 != 0:\n",
    "        print(i**2)\n",
    "        i +=1\n",
    "    else:\n",
    "        number += 1\n",
    "        i += 1\n",
    "#         print(\"num\",number)"
   ]
  },
  {
   "cell_type": "code",
   "execution_count": null,
   "id": "42add028",
   "metadata": {},
   "outputs": [],
   "source": [
    "# 1,-2,6,-15,31,-56\n",
    "series = 1\n",
    "for i in range(1,11):\n",
    "    if i%2 != 0:\n",
    "        print(series)\n",
    "        series += i**2        \n",
    "        \n",
    "    else:\n",
    "        print(-series)\n",
    "        series += i**2 \n",
    "        \n",
    "        "
   ]
  },
  {
   "cell_type": "code",
   "execution_count": 7,
   "id": "cb735da2",
   "metadata": {},
   "outputs": [
    {
     "ename": "NameError",
     "evalue": "name 'name' is not defined",
     "output_type": "error",
     "traceback": [
      "\u001b[1;31m---------------------------------------------------------------------------\u001b[0m",
      "\u001b[1;31mNameError\u001b[0m                                 Traceback (most recent call last)",
      "\u001b[1;32mC:\\Users\\KAUSHA~1.KIS\\AppData\\Local\\Temp/ipykernel_12160/1664983706.py\u001b[0m in \u001b[0;36m<module>\u001b[1;34m\u001b[0m\n\u001b[0;32m      7\u001b[0m \u001b[1;33m\u001b[0m\u001b[0m\n\u001b[0;32m      8\u001b[0m \u001b[1;33m\u001b[0m\u001b[0m\n\u001b[1;32m----> 9\u001b[1;33m \u001b[0mname\u001b[0m\u001b[1;33m\u001b[0m\u001b[1;33m\u001b[0m\u001b[0m\n\u001b[0m",
      "\u001b[1;31mNameError\u001b[0m: name 'name' is not defined"
     ]
    }
   ],
   "source": [
    "# Write a program to accept a student’s name and scores in three subject. \n",
    "# Display the 1st, 2nd, average and total. \n",
    "# Display whether the student has secured 1st , 2nd , pass class or has failed.\n",
    "# 1st class is for a score of 60 and above, \n",
    "# 2nd class is for a score of 50 and above, while pass class is for a score of 35 and above. \n",
    "# If the score is less than 35, then the student fails.\n",
    "\n",
    "\n",
    "name"
   ]
  },
  {
   "cell_type": "code",
   "execution_count": 97,
   "id": "6103ae33",
   "metadata": {},
   "outputs": [
    {
     "ename": "SyntaxError",
     "evalue": "invalid syntax (Temp/ipykernel_12160/1809448892.py, line 2)",
     "output_type": "error",
     "traceback": [
      "\u001b[1;36m  File \u001b[1;32m\"C:\\Users\\KAUSHA~1.KIS\\AppData\\Local\\Temp/ipykernel_12160/1809448892.py\"\u001b[1;36m, line \u001b[1;32m2\u001b[0m\n\u001b[1;33m    new_lst = lst[[::-1] for i in lst]\u001b[0m\n\u001b[1;37m                   ^\u001b[0m\n\u001b[1;31mSyntaxError\u001b[0m\u001b[1;31m:\u001b[0m invalid syntax\n"
     ]
    }
   ],
   "source": [
    "def revers_str(lst):\n",
    "    \n",
    "\n",
    "lst = list(range(1,11))\n",
    "\n",
    "lst1 = [[\"kaushal\",\"kihsor\"],[\"breakfast\",\"lunch\",\"dinner\"]]\n",
    "print(revers_str(lst1))\n"
   ]
  },
  {
   "cell_type": "code",
   "execution_count": null,
   "id": "7596837f",
   "metadata": {},
   "outputs": [],
   "source": []
  },
  {
   "cell_type": "code",
   "execution_count": null,
   "id": "7bfbb76f",
   "metadata": {},
   "outputs": [],
   "source": []
  }
 ],
 "metadata": {
  "kernelspec": {
   "display_name": "Python 3 (ipykernel)",
   "language": "python",
   "name": "python3"
  },
  "language_info": {
   "codemirror_mode": {
    "name": "ipython",
    "version": 3
   },
   "file_extension": ".py",
   "mimetype": "text/x-python",
   "name": "python",
   "nbconvert_exporter": "python",
   "pygments_lexer": "ipython3",
   "version": "3.9.7"
  }
 },
 "nbformat": 4,
 "nbformat_minor": 5
}
