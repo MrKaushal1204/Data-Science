{
 "cells": [
  {
   "cell_type": "markdown",
   "id": "71d37729",
   "metadata": {},
   "source": [
    "### Instance or Object both are same\n"
   ]
  },
  {
   "cell_type": "code",
   "execution_count": 1,
   "id": "a6c3bac4",
   "metadata": {},
   "outputs": [],
   "source": [
    "class Person:\n",
    "    \n",
    "    # init method is also called as constructor\n",
    "    # whateve function we difine within class is called as a method\n",
    "    \n",
    "    # Here self is the object itself.\n",
    "    # Anything can be written instead of self but because of convention we write self only.\n",
    "    def __init__(self,fname,lname,age):\n",
    "        # instance variabels\n",
    "        print(\"init method/constructor is called\")\n",
    "        self.fname = fname\n",
    "        self.lname = lname\n",
    "        self.age = age"
   ]
  },
  {
   "cell_type": "code",
   "execution_count": 2,
   "id": "23f941af",
   "metadata": {},
   "outputs": [
    {
     "name": "stdout",
     "output_type": "stream",
     "text": [
      "init method/constructor is called\n",
      "init method/constructor is called\n",
      "Kaushal\n"
     ]
    }
   ],
   "source": [
    "# creating object\n",
    "p1 = Person(\"Kaushal\",'Kishor',25)\n",
    "p2 = Person(\"Mohit\",\"Raj\",23)\n",
    "\n",
    "''' \n",
    "As here you can see we are printing the message once but \n",
    "the print function from the class is getting printed two times.\n",
    "Hence whenever any object of the class is created class code is executed that time only.\n",
    "'''\n",
    "\n",
    "print(p1.fname)                     \n",
    "# print(p2.lname)"
   ]
  },
  {
   "cell_type": "code",
   "execution_count": 15,
   "id": "2120f46f",
   "metadata": {},
   "outputs": [],
   "source": [
    "class Laptop:\n",
    "    def __init__(self,name,model,price):\n",
    "        self.name = name\n",
    "        self.model = model\n",
    "        self.price = price"
   ]
  },
  {
   "cell_type": "code",
   "execution_count": 16,
   "id": "ee42aaff",
   "metadata": {},
   "outputs": [
    {
     "name": "stdout",
     "output_type": "stream",
     "text": [
      "E470\n"
     ]
    }
   ],
   "source": [
    "l1 = Laptop('Dell','E470',12344)\n",
    "print(l1.model)"
   ]
  },
  {
   "cell_type": "code",
   "execution_count": 23,
   "id": "055e185b",
   "metadata": {},
   "outputs": [],
   "source": [
    "class Person1:\n",
    "    def __init__(self,fname,lname,age):\n",
    "        self.fname = fname\n",
    "        self.lname = lname\n",
    "        self.age = age\n",
    "    \n",
    "    def full_name(self):\n",
    "        return f\"My full name is {self.fname} {self.lname}.\""
   ]
  },
  {
   "cell_type": "code",
   "execution_count": 24,
   "id": "6b18ff62",
   "metadata": {},
   "outputs": [
    {
     "data": {
      "text/plain": [
       "'My full name is kaushal kishor.'"
      ]
     },
     "execution_count": 24,
     "metadata": {},
     "output_type": "execute_result"
    }
   ],
   "source": [
    "p1 = Person1(\"kaushal\",'kishor',24)\n",
    "p1.full_name()"
   ]
  },
  {
   "cell_type": "code",
   "execution_count": 46,
   "id": "89ba3931",
   "metadata": {},
   "outputs": [],
   "source": [
    "class Circle:\n",
    "    pi = 3.14\n",
    "    def __init__(self,r):\n",
    "        self.r = r\n",
    "#         self.pi = pi       No need to write this line\n",
    "        \n",
    "    def cal_circumference(self):\n",
    "        return 2*Circle.pi*self.r   # here now pi is class variable.\n",
    "     \n",
    "    \n",
    "    def cal_area(self):\n",
    "        return Circle.pi*self.r**2"
   ]
  },
  {
   "cell_type": "code",
   "execution_count": 50,
   "id": "eba082fa",
   "metadata": {},
   "outputs": [
    {
     "name": "stdout",
     "output_type": "stream",
     "text": [
      "18.84\n",
      "28.26\n"
     ]
    }
   ],
   "source": [
    "c1 =  Circle(3)\n",
    "print(c1.cal_circumference())\n",
    "print(c1.cal_area())"
   ]
  },
  {
   "cell_type": "code",
   "execution_count": null,
   "id": "0bc1815a",
   "metadata": {},
   "outputs": [],
   "source": []
  },
  {
   "cell_type": "code",
   "execution_count": null,
   "id": "abbd6108",
   "metadata": {},
   "outputs": [],
   "source": []
  }
 ],
 "metadata": {
  "kernelspec": {
   "display_name": "Python 3 (ipykernel)",
   "language": "python",
   "name": "python3"
  },
  "language_info": {
   "codemirror_mode": {
    "name": "ipython",
    "version": 3
   },
   "file_extension": ".py",
   "mimetype": "text/x-python",
   "name": "python",
   "nbconvert_exporter": "python",
   "pygments_lexer": "ipython3",
   "version": "3.9.7"
  }
 },
 "nbformat": 4,
 "nbformat_minor": 5
}
