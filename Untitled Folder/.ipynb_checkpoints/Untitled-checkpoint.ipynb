{
 "cells": [
  {
   "cell_type": "code",
   "execution_count": 4,
   "id": "ae2c6e2f",
   "metadata": {},
   "outputs": [],
   "source": [
    "tu = (1,2)"
   ]
  },
  {
   "cell_type": "markdown",
   "id": "5c6eb946",
   "metadata": {},
   "source": []
  },
  {
   "cell_type": "code",
   "execution_count": 5,
   "id": "54a825df",
   "metadata": {},
   "outputs": [
    {
     "data": {
      "text/plain": [
       "[1, 2]"
      ]
     },
     "execution_count": 5,
     "metadata": {},
     "output_type": "execute_result"
    }
   ],
   "source": [
    "list(tu)"
   ]
  },
  {
   "cell_type": "code",
   "execution_count": 6,
   "id": "d8223a22",
   "metadata": {},
   "outputs": [
    {
     "data": {
      "text/plain": [
       "(1, 2)"
      ]
     },
     "execution_count": 6,
     "metadata": {},
     "output_type": "execute_result"
    }
   ],
   "source": [
    "tu"
   ]
  },
  {
   "cell_type": "code",
   "execution_count": 12,
   "id": "b04abaf4",
   "metadata": {},
   "outputs": [],
   "source": [
    "s = [[0,8,\"hi\"],[2,3,(1,0,('hi','hello'))],[8,8,5]]"
   ]
  },
  {
   "cell_type": "code",
   "execution_count": 18,
   "id": "70c017e2",
   "metadata": {},
   "outputs": [
    {
     "name": "stdout",
     "output_type": "stream",
     "text": [
      "hi\n"
     ]
    }
   ],
   "source": [
    "print(s[1][2][2][0])"
   ]
  },
  {
   "cell_type": "code",
   "execution_count": 24,
   "id": "e62ee40b",
   "metadata": {},
   "outputs": [
    {
     "data": {
      "text/plain": [
       "[[0, 8, 'hi']]"
      ]
     },
     "execution_count": 24,
     "metadata": {},
     "output_type": "execute_result"
    }
   ],
   "source": [
    "s[:-2:]"
   ]
  },
  {
   "cell_type": "code",
   "execution_count": 25,
   "id": "0f95672c",
   "metadata": {},
   "outputs": [],
   "source": [
    "lis = [1,2,3,4]"
   ]
  },
  {
   "cell_type": "code",
   "execution_count": 1,
   "id": "2fd7ad19",
   "metadata": {},
   "outputs": [
    {
     "ename": "NameError",
     "evalue": "name 'lis' is not defined",
     "output_type": "error",
     "traceback": [
      "\u001b[1;31m---------------------------------------------------------------------------\u001b[0m",
      "\u001b[1;31mNameError\u001b[0m                                 Traceback (most recent call last)",
      "\u001b[1;32mC:\\Users\\KAUSHA~1.KIS\\AppData\\Local\\Temp/ipykernel_17336/678739580.py\u001b[0m in \u001b[0;36m<module>\u001b[1;34m\u001b[0m\n\u001b[1;32m----> 1\u001b[1;33m \u001b[0mprint\u001b[0m\u001b[1;33m(\u001b[0m\u001b[0mlis\u001b[0m\u001b[1;33m[\u001b[0m\u001b[1;33m:\u001b[0m\u001b[1;33m:\u001b[0m\u001b[1;33m-\u001b[0m\u001b[1;36m1\u001b[0m\u001b[1;33m]\u001b[0m\u001b[1;33m)\u001b[0m\u001b[1;33m\u001b[0m\u001b[1;33m\u001b[0m\u001b[0m\n\u001b[0m",
      "\u001b[1;31mNameError\u001b[0m: name 'lis' is not defined"
     ]
    }
   ],
   "source": [
    "print(lis[::-1])"
   ]
  },
  {
   "cell_type": "code",
   "execution_count": 4,
   "id": "0847b6f2",
   "metadata": {},
   "outputs": [],
   "source": [
    "new = [1,2,3,4,5,6]"
   ]
  },
  {
   "cell_type": "code",
   "execution_count": 6,
   "id": "b60376aa",
   "metadata": {},
   "outputs": [
    {
     "name": "stdout",
     "output_type": "stream",
     "text": [
      "3\n"
     ]
    }
   ],
   "source": [
    "print(new[2])"
   ]
  },
  {
   "cell_type": "code",
   "execution_count": 7,
   "id": "05300797",
   "metadata": {},
   "outputs": [],
   "source": [
    "new[2]=\"Test\""
   ]
  },
  {
   "cell_type": "code",
   "execution_count": 9,
   "id": "9af4d334",
   "metadata": {},
   "outputs": [
    {
     "name": "stdout",
     "output_type": "stream",
     "text": [
      "[1, 2, 'Test', 4, 5, 6]\n"
     ]
    }
   ],
   "source": [
    "print(new)"
   ]
  },
  {
   "cell_type": "code",
   "execution_count": 12,
   "id": "480e61de",
   "metadata": {},
   "outputs": [],
   "source": [
    "new.append(8)"
   ]
  },
  {
   "cell_type": "code",
   "execution_count": 13,
   "id": "8b0ecf00",
   "metadata": {},
   "outputs": [
    {
     "name": "stdout",
     "output_type": "stream",
     "text": [
      "[1, 2, 'Test', 4, 5, 6, 8]\n"
     ]
    }
   ],
   "source": [
    "print(new)"
   ]
  },
  {
   "cell_type": "code",
   "execution_count": 22,
   "id": "5aeeff94",
   "metadata": {},
   "outputs": [],
   "source": [
    "range1 = list(range(57,90,2))"
   ]
  },
  {
   "cell_type": "code",
   "execution_count": 23,
   "id": "436dee59",
   "metadata": {},
   "outputs": [
    {
     "data": {
      "text/plain": [
       "[57, 59, 61, 63, 65, 67, 69, 71, 73, 75, 77, 79, 81, 83, 85, 87, 89]"
      ]
     },
     "execution_count": 23,
     "metadata": {},
     "output_type": "execute_result"
    }
   ],
   "source": [
    "range1"
   ]
  },
  {
   "cell_type": "code",
   "execution_count": 17,
   "id": "44a96887",
   "metadata": {},
   "outputs": [],
   "source": [
    "s1 = {1,2,3,4,5,6}"
   ]
  },
  {
   "cell_type": "code",
   "execution_count": 18,
   "id": "792fd73c",
   "metadata": {},
   "outputs": [],
   "source": [
    "s2 = {5,6,7,8,9}"
   ]
  },
  {
   "cell_type": "code",
   "execution_count": 15,
   "id": "866bc27b",
   "metadata": {},
   "outputs": [
    {
     "data": {
      "text/plain": [
       "{1, 2, 3, 4}"
      ]
     },
     "execution_count": 15,
     "metadata": {},
     "output_type": "execute_result"
    }
   ],
   "source": [
    "s1.difference(s2)"
   ]
  },
  {
   "cell_type": "code",
   "execution_count": 16,
   "id": "75288f55",
   "metadata": {},
   "outputs": [
    {
     "name": "stdout",
     "output_type": "stream",
     "text": [
      "{1, 2, 3, 4, 5, 6}\n"
     ]
    }
   ],
   "source": [
    "print(s1)"
   ]
  },
  {
   "cell_type": "code",
   "execution_count": 11,
   "id": "c7d26afb",
   "metadata": {},
   "outputs": [],
   "source": [
    "s1.difference_update(s2)"
   ]
  },
  {
   "cell_type": "code",
   "execution_count": 1,
   "id": "ca49ce8e",
   "metadata": {},
   "outputs": [],
   "source": [
    "j=1"
   ]
  },
  {
   "cell_type": "code",
   "execution_count": 2,
   "id": "b75037b2",
   "metadata": {},
   "outputs": [
    {
     "data": {
      "text/plain": [
       "1.0"
      ]
     },
     "execution_count": 2,
     "metadata": {},
     "output_type": "execute_result"
    }
   ],
   "source": [
    "j/j"
   ]
  },
  {
   "cell_type": "markdown",
   "id": "74d5759c",
   "metadata": {},
   "source": [
    "buys = 'hell'\n"
   ]
  },
  {
   "cell_type": "code",
   "execution_count": 3,
   "id": "fa71e4da",
   "metadata": {
    "scrolled": true
   },
   "outputs": [
    {
     "name": "stdout",
     "output_type": "stream",
     "text": [
      "1\n",
      "3\n",
      "5\n",
      "7\n",
      "9\n"
     ]
    }
   ],
   "source": [
    "for i in range(1,10,2):\n",
    "    print(i)"
   ]
  },
  {
   "cell_type": "code",
   "execution_count": 4,
   "id": "40d250fa",
   "metadata": {},
   "outputs": [
    {
     "ename": "SyntaxError",
     "evalue": "invalid syntax (Temp/ipykernel_11784/2096549232.py, line 3)",
     "output_type": "error",
     "traceback": [
      "\u001b[1;36m  File \u001b[1;32m\"C:\\Users\\KAUSHA~1.KIS\\AppData\\Local\\Temp/ipykernel_11784/2096549232.py\"\u001b[1;36m, line \u001b[1;32m3\u001b[0m\n\u001b[1;33m    for i=0 in len(l):\u001b[0m\n\u001b[1;37m         ^\u001b[0m\n\u001b[1;31mSyntaxError\u001b[0m\u001b[1;31m:\u001b[0m invalid syntax\n"
     ]
    }
   ],
   "source": [
    "add = 0\n",
    "l = [range(1,20,1)]\n",
    "for i in len(l):\n",
    "    add = l[2*i-1]"
   ]
  },
  {
   "cell_type": "code",
   "execution_count": 12,
   "id": "68651943",
   "metadata": {},
   "outputs": [
    {
     "name": "stdout",
     "output_type": "stream",
     "text": [
      "[range(1, 20)]\n"
     ]
    }
   ],
   "source": [
    "print(l)"
   ]
  },
  {
   "cell_type": "code",
   "execution_count": 2,
   "id": "447905f4",
   "metadata": {},
   "outputs": [
    {
     "name": "stdout",
     "output_type": "stream",
     "text": [
      "16\n"
     ]
    }
   ],
   "source": [
    "\n",
    "def my_funct(side):\n",
    "    area_sqr = side**2\n",
    "    print(area_sqr)\n",
    "my_funct(4)\n",
    "    "
   ]
  },
  {
   "cell_type": "code",
   "execution_count": null,
   "id": "8d505d78",
   "metadata": {},
   "outputs": [],
   "source": []
  },
  {
   "cell_type": "code",
   "execution_count": 10,
   "id": "9d0c0140",
   "metadata": {},
   "outputs": [
    {
     "name": "stdout",
     "output_type": "stream",
     "text": [
      "Please Enter a string\n",
      "dfghjk\n",
      "d\n",
      "f\n",
      "g\n",
      "h\n",
      "j\n",
      "k\n"
     ]
    }
   ],
   "source": [
    "my_string = input(\"Please Enter a string\\n\")\n",
    "def my_pattern(ip):\n",
    "    for i in ip:\n",
    "        print(i)\n",
    "        \n",
    "my_pattern(my_string)"
   ]
  },
  {
   "cell_type": "code",
   "execution_count": 4,
   "id": "a9c7e96a",
   "metadata": {},
   "outputs": [
    {
     "name": "stdout",
     "output_type": "stream",
     "text": [
      "Please Enter a stringsfjal\n",
      "sfjal\n"
     ]
    }
   ],
   "source": [
    "\n",
    "print(my_string)"
   ]
  },
  {
   "cell_type": "code",
   "execution_count": null,
   "id": "b25beb6e",
   "metadata": {},
   "outputs": [],
   "source": [
    "python documentation \n"
   ]
  },
  {
   "cell_type": "code",
   "execution_count": 1,
   "id": "a80663ef",
   "metadata": {},
   "outputs": [
    {
     "name": "stdout",
     "output_type": "stream",
     "text": [
      "1.4142135623730951\n"
     ]
    }
   ],
   "source": [
    "print(2**0.5)"
   ]
  },
  {
   "cell_type": "code",
   "execution_count": 2,
   "id": "d4a512e3",
   "metadata": {},
   "outputs": [
    {
     "name": "stdout",
     "output_type": "stream",
     "text": [
      "1.4142\n"
     ]
    }
   ],
   "source": [
    "print(round(2**0.5,4))"
   ]
  },
  {
   "cell_type": "code",
   "execution_count": 13,
   "id": "ff3480b1",
   "metadata": {},
   "outputs": [
    {
     "name": "stdout",
     "output_type": "stream",
     "text": [
      "enter your name.\n",
      "kaushal\n",
      "Enter your age-23\n",
      "23\n",
      "69\n",
      "kaushal\n"
     ]
    }
   ],
   "source": [
    "name = input(\"enter your name.\\n\")\n",
    "age = int(input(\"Enter your age-\"))\n",
    "print(age)\n",
    "print(age*3)\n",
    "type(age)\n",
    "print(name)"
   ]
  },
  {
   "cell_type": "code",
   "execution_count": 14,
   "id": "f649933d",
   "metadata": {},
   "outputs": [
    {
     "data": {
      "text/plain": [
       "int"
      ]
     },
     "execution_count": 14,
     "metadata": {},
     "output_type": "execute_result"
    }
   ],
   "source": [
    "type(age)"
   ]
  },
  {
   "cell_type": "code",
   "execution_count": 21,
   "id": "a108fad1",
   "metadata": {},
   "outputs": [
    {
     "name": "stdout",
     "output_type": "stream",
     "text": [
      "Enter your name and age: Kaushal 26\n",
      "Kaushal\n",
      "26\n"
     ]
    }
   ],
   "source": [
    "name,age = input(\"Enter your name and age: \").split()\n",
    "\n",
    "print(name)\n",
    "print(age)"
   ]
  },
  {
   "cell_type": "code",
   "execution_count": 27,
   "id": "0d7acda6",
   "metadata": {},
   "outputs": [
    {
     "name": "stdout",
     "output_type": "stream",
     "text": [
      "Your name Is: Kaushal and your age is: 26\n"
     ]
    }
   ],
   "source": [
    "print(\"Your name Is: {} and your age is: {}\".format(name,age))    # python3"
   ]
  },
  {
   "cell_type": "code",
   "execution_count": 43,
   "id": "2d6c76d7",
   "metadata": {},
   "outputs": [
    {
     "name": "stdout",
     "output_type": "stream",
     "text": [
      "Hello Kaushal. Your age is 26\n"
     ]
    }
   ],
   "source": [
    "print(f\"Hello {name}. Your age is {age}\")"
   ]
  },
  {
   "cell_type": "code",
   "execution_count": 47,
   "id": "3d755c35",
   "metadata": {},
   "outputs": [
    {
     "name": "stdout",
     "output_type": "stream",
     "text": [
      "Enter three numbers.23,34,45\n"
     ]
    }
   ],
   "source": [
    "n1,n2,n3 = input(\"Enter three numbers.\").split(\",\")"
   ]
  },
  {
   "cell_type": "code",
   "execution_count": 49,
   "id": "9f88174e",
   "metadata": {},
   "outputs": [
    {
     "name": "stdout",
     "output_type": "stream",
     "text": [
      "The average of numbers 23,34 and 45 is : 34.0\n"
     ]
    }
   ],
   "source": [
    "avg = (int(n1)+int(n2)+int(n3))/3\n",
    "\n",
    "print(f\"The average of numbers {n1},{n2} and {n3} is : {avg}\")"
   ]
  },
  {
   "cell_type": "code",
   "execution_count": 66,
   "id": "766a7d7e",
   "metadata": {},
   "outputs": [
    {
     "name": "stdout",
     "output_type": "stream",
     "text": [
      "Kaushal\n",
      "aK\n"
     ]
    }
   ],
   "source": [
    "print(name)\n",
    "print(name[1::-1])"
   ]
  },
  {
   "cell_type": "code",
   "execution_count": 79,
   "id": "fd4daa17",
   "metadata": {},
   "outputs": [
    {
     "name": "stdout",
     "output_type": "stream",
     "text": [
      "Please enter name and char: sdsfds,s\n",
      "The counts in the string sdsfds is: 3\n"
     ]
    }
   ],
   "source": [
    "name,ch = input(\"Please enter name and char: \").split(\",\")\n",
    "print(f\"The counts in the string {name} is: {name.lower().count(ch.lower())}\")"
   ]
  },
  {
   "cell_type": "code",
   "execution_count": 81,
   "id": "4b06eca1",
   "metadata": {},
   "outputs": [
    {
     "data": {
      "text/plain": [
       "'#####sdsfds####'"
      ]
     },
     "execution_count": 81,
     "metadata": {},
     "output_type": "execute_result"
    }
   ],
   "source": [
    "name.center(15,\"#\")"
   ]
  },
  {
   "cell_type": "code",
   "execution_count": 64,
   "id": "7dfc5472",
   "metadata": {},
   "outputs": [
    {
     "name": "stdout",
     "output_type": "stream",
     "text": [
      "Guess correct number to win:\n",
      "5\n",
      "You did a great job! \n",
      "congratulation\n"
     ]
    }
   ],
   "source": [
    "import random\n",
    "random_number = random.randint(1,10)\n",
    "guess_number = int(input(\"Guess correct number to win:\\n\"))\n",
    "\n",
    "if guess_number == random_number :\n",
    "    print(\"You did a great job! \")\n",
    "    print(\"congratulation\")\n",
    "    \n",
    "else:\n",
    "    print(\"Ohh! You lost the game.\")\n",
    "    print(f\"Correct number was: {random_number}\")\n",
    "    print(\"Please try again.\")\n",
    "        \n",
    "        "
   ]
  },
  {
   "cell_type": "code",
   "execution_count": 70,
   "id": "dc0de870",
   "metadata": {},
   "outputs": [
    {
     "name": "stdout",
     "output_type": "stream",
     "text": [
      "Enter a number: \n",
      "10\n",
      "1\n",
      "2\n",
      "3\n",
      "4\n",
      "5\n",
      "6\n",
      "7\n",
      "8\n",
      "9\n",
      "10\n",
      "The sum of natral numbers is: 55.\n"
     ]
    }
   ],
   "source": [
    "natural_number = int(input(\"Enter a number: \\n\"))\n",
    "i=1\n",
    "total = 0\n",
    "while i<=natural_number:\n",
    "    print(i)\n",
    "    total +=i\n",
    "    i+=1\n",
    "    \n",
    "print(f\"The sum of natral numbers is: {total}.\")"
   ]
  },
  {
   "cell_type": "code",
   "execution_count": 1,
   "id": "eb9f2021",
   "metadata": {},
   "outputs": [
    {
     "name": "stdout",
     "output_type": "stream",
     "text": [
      "Enter a number having 2 or more digits: \n",
      "543\n",
      "5\n",
      "4\n",
      "3\n",
      "12\n"
     ]
    }
   ],
   "source": [
    "number = input(\"Enter a number having 2 or more digits: \\n\")\n",
    "total =0\n",
    "i =0\n",
    "while i < len(number):\n",
    "#     i = int(i)\n",
    "    total += int(number[i])\n",
    "    print(number[i])\n",
    "    i += 1\n",
    "print(total)"
   ]
  },
  {
   "cell_type": "code",
   "execution_count": 6,
   "id": "149be40a",
   "metadata": {
    "scrolled": true
   },
   "outputs": [
    {
     "name": "stdout",
     "output_type": "stream",
     "text": [
      "Enter a number: \n",
      "5432\n",
      "5\n",
      "4\n",
      "3\n",
      "2\n",
      "14\n"
     ]
    }
   ],
   "source": [
    "number = input(\"Enter a number: \\n\")\n",
    "total = 0\n",
    "for i in number:\n",
    "    total += int(i)\n",
    "    print(i)\n",
    "print(total)"
   ]
  },
  {
   "cell_type": "code",
   "execution_count": 30,
   "id": "6aa957d9",
   "metadata": {},
   "outputs": [
    {
     "name": "stdout",
     "output_type": "stream",
     "text": [
      "Enter any string of letters (n^2) to convert it in a perfect pattern pattern: \n",
      "kausahl\n",
      "kausahl"
     ]
    }
   ],
   "source": [
    "my_string = input(\"Enter any string of letters (n^2) to convert it in a perfect pattern pattern: \\n\")\n",
    "\n",
    "for row in range(len(my_string)):\n",
    "    print(my_string[row],end=\"\")\n",
    "    \n",
    "    "
   ]
  },
  {
   "cell_type": "code",
   "execution_count": null,
   "id": "1ab60def",
   "metadata": {},
   "outputs": [],
   "source": [
    "np.random.randint(1,40,size = (5,2))\n",
    "\n",
    "np => for array;\n",
    "random => It is a library for generating random numbers for more you can read documentation.\n",
    "randint => It is for generating random integers\n",
    "randint(1,40) => It will generate random numbers between 1 and 40.\n",
    "size(5 =>number of rows, 2 => number of columns) => \n",
    "\n",
    "Because of size(5,2) there only 10 random numbers are getting generated between 1 and 40.\n"
   ]
  },
  {
   "cell_type": "code",
   "execution_count": 9,
   "id": "4f3b9409",
   "metadata": {},
   "outputs": [
    {
     "name": "stdout",
     "output_type": "stream",
     "text": [
      "110\n"
     ]
    }
   ],
   "source": [
    "def fun():\n",
    "    return 55 + int(55.55)\n",
    "print(fun())"
   ]
  },
  {
   "cell_type": "code",
   "execution_count": 36,
   "id": "909c0e2a",
   "metadata": {},
   "outputs": [
    {
     "name": "stdout",
     "output_type": "stream",
     "text": [
      "**********\n",
      "*********\n",
      "********\n",
      "*******\n",
      "******\n",
      "*****\n",
      "****\n",
      "***\n",
      "**\n",
      "*\n"
     ]
    }
   ],
   "source": [
    "for i in range(10,0,-1):\n",
    "    print(\"*\" * i)"
   ]
  },
  {
   "cell_type": "code",
   "execution_count": 38,
   "id": "fb4ddfc1",
   "metadata": {},
   "outputs": [
    {
     "name": "stdout",
     "output_type": "stream",
     "text": [
      "enter a perfect square number: 12\n",
      "******************************************************************"
     ]
    }
   ],
   "source": [
    "def pascal_right_angle_trangle(n):\n",
    "    for i in range(pattern_rows):\n",
    "        for j in range(i):\n",
    "            print(\"*\",end=\"\")\n",
    "        \n",
    "        \n",
    "     \n"
   ]
  },
  {
   "cell_type": "code",
   "execution_count": 42,
   "id": "a34d9f88",
   "metadata": {},
   "outputs": [
    {
     "name": "stdout",
     "output_type": "stream",
     "text": [
      "2.6457513110645907\n"
     ]
    }
   ],
   "source": [
    "import math\n",
    "\n",
    "n=7\n",
    "\n",
    "print(math.sqrt(n))"
   ]
  },
  {
   "cell_type": "code",
   "execution_count": 47,
   "id": "73190a6f",
   "metadata": {},
   "outputs": [
    {
     "data": {
      "text/plain": [
       "float"
      ]
     },
     "execution_count": 47,
     "metadata": {},
     "output_type": "execute_result"
    }
   ],
   "source": [
    "type(121.0//2)"
   ]
  },
  {
   "cell_type": "code",
   "execution_count": 44,
   "id": "73b5eaaa",
   "metadata": {},
   "outputs": [
    {
     "data": {
      "text/plain": [
       "float"
      ]
     },
     "execution_count": 44,
     "metadata": {},
     "output_type": "execute_result"
    }
   ],
   "source": [
    "type(1.0)"
   ]
  },
  {
   "cell_type": "code",
   "execution_count": 53,
   "id": "2f05c356",
   "metadata": {},
   "outputs": [
    {
     "data": {
      "text/plain": [
       "23"
      ]
     },
     "execution_count": 53,
     "metadata": {},
     "output_type": "execute_result"
    }
   ],
   "source": [
    "int(22+0.5)"
   ]
  },
  {
   "cell_type": "code",
   "execution_count": null,
   "id": "f615c686",
   "metadata": {},
   "outputs": [],
   "source": []
  }
 ],
 "metadata": {
  "kernelspec": {
   "display_name": "Python 3 (ipykernel)",
   "language": "python",
   "name": "python3"
  },
  "language_info": {
   "codemirror_mode": {
    "name": "ipython",
    "version": 3
   },
   "file_extension": ".py",
   "mimetype": "text/x-python",
   "name": "python",
   "nbconvert_exporter": "python",
   "pygments_lexer": "ipython3",
   "version": "3.9.7"
  }
 },
 "nbformat": 4,
 "nbformat_minor": 5
}
