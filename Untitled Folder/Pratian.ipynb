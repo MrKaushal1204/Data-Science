{
 "cells": [
  {
   "cell_type": "code",
   "execution_count": 5,
   "id": "7908420e",
   "metadata": {},
   "outputs": [
    {
     "name": "stdout",
     "output_type": "stream",
     "text": [
      "Collecting cdata==0.1.9\n",
      "  Using cached cdata-0.1.9.tar.gz (54 kB)\n"
     ]
    },
    {
     "name": "stderr",
     "output_type": "stream",
     "text": [
      "    ERROR: Command errored out with exit status 1:\n",
      "     command: 'C:\\Users\\Kaushal.kishor\\Anaconda3\\python.exe' -c 'import io, os, sys, setuptools, tokenize; sys.argv[0] = '\"'\"'C:\\\\Users\\\\Kaushal.kishor\\\\AppData\\\\Local\\\\Temp\\\\pip-install-f6e04qdy\\\\cdata_c86ae480adc44875a8cb40ecec800554\\\\setup.py'\"'\"'; __file__='\"'\"'C:\\\\Users\\\\Kaushal.kishor\\\\AppData\\\\Local\\\\Temp\\\\pip-install-f6e04qdy\\\\cdata_c86ae480adc44875a8cb40ecec800554\\\\setup.py'\"'\"';f = getattr(tokenize, '\"'\"'open'\"'\"', open)(__file__) if os.path.exists(__file__) else io.StringIO('\"'\"'from setuptools import setup; setup()'\"'\"');code = f.read().replace('\"'\"'\\r\\n'\"'\"', '\"'\"'\\n'\"'\"');f.close();exec(compile(code, __file__, '\"'\"'exec'\"'\"'))' egg_info --egg-base 'C:\\Users\\Kaushal.kishor\\AppData\\Local\\Temp\\pip-pip-egg-info-y7oaj0r0'\n",
      "         cwd: C:\\Users\\Kaushal.kishor\\AppData\\Local\\Temp\\pip-install-f6e04qdy\\cdata_c86ae480adc44875a8cb40ecec800554\\\n",
      "    Complete output (9 lines):\n",
      "    Traceback (most recent call last):\n",
      "      File \"<string>\", line 1, in <module>\n",
      "      File \"C:\\Users\\Kaushal.kishor\\AppData\\Local\\Temp\\pip-install-f6e04qdy\\cdata_c86ae480adc44875a8cb40ecec800554\\setup.py\", line 12, in <module>\n",
      "        long_description=readme(),\n",
      "      File \"C:\\Users\\Kaushal.kishor\\AppData\\Local\\Temp\\pip-install-f6e04qdy\\cdata_c86ae480adc44875a8cb40ecec800554\\setup.py\", line 6, in readme\n",
      "        return f.read()\n",
      "      File \"C:\\Users\\Kaushal.kishor\\Anaconda3\\lib\\encodings\\cp1252.py\", line 23, in decode\n",
      "        return codecs.charmap_decode(input,self.errors,decoding_table)[0]\n",
      "    UnicodeDecodeError: 'charmap' codec can't decode byte 0x9d in position 1653: character maps to <undefined>\n",
      "    ----------------------------------------\n",
      "WARNING: Discarding https://files.pythonhosted.org/packages/76/ca/5e861dd3a4704eecad3576826d447ec448aa4190ebf17fba5fbe3949e68c/cdata-0.1.9.tar.gz#sha256=4e7699ba6a38c780a18bd47f0d0637e255376df8f947f6ea02e0e45ffe4362c6 (from https://pypi.org/simple/cdata/). Command errored out with exit status 1: python setup.py egg_info Check the logs for full command output.\n",
      "ERROR: Could not find a version that satisfies the requirement cdata==0.1.9 (from versions: 0.0.1, 0.1.4, 0.1.6, 0.1.7, 0.1.8, 0.1.9)\n",
      "ERROR: No matching distribution found for cdata==0.1.9\n"
     ]
    }
   ],
   "source": [
    "!pip install cdata==0.1.9"
   ]
  },
  {
   "cell_type": "code",
   "execution_count": 2,
   "id": "f2429f19",
   "metadata": {
    "scrolled": true
   },
   "outputs": [],
   "source": [
    "import pandas as pd\n",
    "import numpy as np\n",
    "import petl as etl\n",
    "# from sqlalchemy import *\n",
    "# from sqlalchemy.dialects import excelonline\n",
    "# from sheet2api import Sheet2APIClient\n",
    "\n"
   ]
  },
  {
   "cell_type": "code",
   "execution_count": 6,
   "id": "1f49f835",
   "metadata": {},
   "outputs": [
    {
     "ename": "NameError",
     "evalue": "name 'cdata' is not defined",
     "output_type": "error",
     "traceback": [
      "\u001b[1;31m---------------------------------------------------------------------------\u001b[0m",
      "\u001b[1;31mNameError\u001b[0m                                 Traceback (most recent call last)",
      "\u001b[1;32mC:\\Users\\KAUSHA~1.KIS\\AppData\\Local\\Temp/ipykernel_15828/2058869036.py\u001b[0m in \u001b[0;36m<module>\u001b[1;34m\u001b[0m\n\u001b[1;32m----> 1\u001b[1;33m \u001b[0mdir\u001b[0m\u001b[1;33m(\u001b[0m\u001b[0mcdata\u001b[0m\u001b[1;33m)\u001b[0m\u001b[1;33m\u001b[0m\u001b[1;33m\u001b[0m\u001b[0m\n\u001b[0m",
      "\u001b[1;31mNameError\u001b[0m: name 'cdata' is not defined"
     ]
    }
   ],
   "source": [
    "dir(cdata)"
   ]
  },
  {
   "cell_type": "code",
   "execution_count": null,
   "id": "9810c417",
   "metadata": {},
   "outputs": [],
   "source": []
  }
 ],
 "metadata": {
  "kernelspec": {
   "display_name": "Python 3 (ipykernel)",
   "language": "python",
   "name": "python3"
  },
  "language_info": {
   "codemirror_mode": {
    "name": "ipython",
    "version": 3
   },
   "file_extension": ".py",
   "mimetype": "text/x-python",
   "name": "python",
   "nbconvert_exporter": "python",
   "pygments_lexer": "ipython3",
   "version": "3.9.7"
  }
 },
 "nbformat": 4,
 "nbformat_minor": 5
}
