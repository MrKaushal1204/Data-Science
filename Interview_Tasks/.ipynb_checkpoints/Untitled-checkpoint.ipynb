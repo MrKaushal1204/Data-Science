{
 "cells": [
  {
   "cell_type": "code",
   "execution_count": 5,
   "id": "a24476b6",
   "metadata": {},
   "outputs": [],
   "source": []
  },
  {
   "cell_type": "code",
   "execution_count": 102,
   "id": "b6ce15dc",
   "metadata": {},
   "outputs": [
    {
     "name": "stdout",
     "output_type": "stream",
     "text": [
      "[('Aragorn', 2), ('Beorn', 3), ('Legolas', 4), ('Arwen', 3), ('Bilbo', 3), ('Dain', 4), ('Elrond', 4), ('Galadriel', 1), ('Smaug', 3), ('Boromir', 1), ('Bard', 1), ('Sauron', 2), ('Frodo', 3), ('Elendil', 2), ('Fili', 1), ('Otho', 1), ('Pippin', 2), ('Azog', 2), ('Isildur', 1), ('Saruman', 1), ('Celeborn', 2), ('Gollum', 2), ('Balin', 2), ('Gandalf', 3), ('Dwalin', 1)]\n"
     ]
    }
   ],
   "source": [
    "import pandas as pd\n",
    "df = pd.read_csv(\"LOTR.csv\")\n",
    "\n",
    "df1 = df['Characters'].value_counts()\n",
    "mylst = []\n",
    "for i in df1.keys():\n",
    "#     if j in df1.keys():\n",
    "        df2 = df[df[['Characters','Characters.1']] == i].count()\n",
    "        mytpl = i,df2.sum()\n",
    "        mylst.append(mytpl)\n",
    "print(mylst)\n",
    "#print(df2.sum())\n"
   ]
  },
  {
   "cell_type": "code",
   "execution_count": 47,
   "id": "56e1240e",
   "metadata": {},
   "outputs": [
    {
     "name": "stdout",
     "output_type": "stream",
     "text": [
      "Index(['Aragorn', 'Beorn', 'Legolas', 'Arwen', 'Bilbo', 'Dain', 'Elrond',\n",
      "       'Galadriel', 'Smaug', 'Boromir', 'Bard', 'Sauron', 'Frodo', 'Elendil',\n",
      "       'Fili', 'Otho', 'Pippin', 'Azog', 'Isildur', 'Saruman', 'Celeborn',\n",
      "       'Gollum', 'Balin', 'Gandalf', 'Dwalin'],\n",
      "      dtype='object')\n"
     ]
    }
   ],
   "source": [
    "print(df1.keys())\n",
    "mylst = []"
   ]
  },
  {
   "cell_type": "code",
   "execution_count": 80,
   "id": "90a9a04c",
   "metadata": {},
   "outputs": [
    {
     "name": "stdout",
     "output_type": "stream",
     "text": [
      "[('Raj', 24)]\n"
     ]
    }
   ],
   "source": [
    "# mylst = []\n",
    "mytpl = \"Raj\",24\n",
    "mylst.append(mytpl)\n",
    "print(mylst)"
   ]
  },
  {
   "cell_type": "code",
   "execution_count": 90,
   "id": "82f88589",
   "metadata": {},
   "outputs": [
    {
     "name": "stdout",
     "output_type": "stream",
     "text": [
      "Gandalf\n",
      "Bilbo\n",
      "Smaug\n",
      "Frodo\n",
      "Azog\n",
      "Pippin\n",
      "Legolas\n",
      "Gamling\n",
      "Thorin\n",
      "Denethor\n",
      "Madril\n",
      "Kili\n",
      "Dori\n",
      "Celeborn\n",
      "Theoden\n",
      "Dain\n",
      "Sauron\n",
      "Goblin\n",
      "Gimli\n",
      "Elrond\n",
      "Arwen\n",
      "Thror\n",
      "Faramir\n",
      "Gollum\n",
      "Beorn\n",
      "Elendil\n",
      "Balin\n"
     ]
    }
   ],
   "source": [
    "for k in df['Characters.1'].unique():\n",
    "    print(k)"
   ]
  },
  {
   "cell_type": "code",
   "execution_count": null,
   "id": "79412f9a",
   "metadata": {},
   "outputs": [],
   "source": []
  }
 ],
 "metadata": {
  "kernelspec": {
   "display_name": "Python 3 (ipykernel)",
   "language": "python",
   "name": "python3"
  },
  "language_info": {
   "codemirror_mode": {
    "name": "ipython",
    "version": 3
   },
   "file_extension": ".py",
   "mimetype": "text/x-python",
   "name": "python",
   "nbconvert_exporter": "python",
   "pygments_lexer": "ipython3",
   "version": "3.9.7"
  }
 },
 "nbformat": 4,
 "nbformat_minor": 5
}
