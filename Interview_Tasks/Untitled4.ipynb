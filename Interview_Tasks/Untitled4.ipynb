{
 "cells": [
  {
   "cell_type": "code",
   "execution_count": 1,
   "id": "f9ce7721",
   "metadata": {},
   "outputs": [
    {
     "ename": "SyntaxError",
     "evalue": "invalid syntax (Temp/ipykernel_20312/239427224.py, line 1)",
     "output_type": "error",
     "traceback": [
      "\u001b[1;36m  File \u001b[1;32m\"C:\\Users\\KAUSHA~1.KIS\\AppData\\Local\\Temp/ipykernel_20312/239427224.py\"\u001b[1;36m, line \u001b[1;32m1\u001b[0m\n\u001b[1;33m    day city temp\u001b[0m\n\u001b[1;37m        ^\u001b[0m\n\u001b[1;31mSyntaxError\u001b[0m\u001b[1;31m:\u001b[0m invalid syntax\n"
     ]
    }
   ],
   "source": [
    "day city temp\n",
    "1,1,34\n",
    "2,1,35\n",
    ".\n",
    ".\n",
    ".\n",
    "\n",
    "5*2 city,temp\n",
    "\n",
    "\n",
    "\n",
    "        \n",
    "df1 = df.groupby(['city'])['temp'].mean()\n",
    "\n",
    "df1.iloc([:5,:])\n",
    "df2 = df1.iloc([5:,:]).mean()\n",
    "\n",
    "for i in range(len(df['city'])):\n",
    "    if i >=5:\n",
    "        temp = df    \n",
    "\n",
    "pd.concat(df1,df2)\n",
    "\n",
    "\n",
    "\n",
    "\n",
    "        \n"
   ]
  },
  {
   "cell_type": "code",
   "execution_count": 2,
   "id": "240f1976",
   "metadata": {},
   "outputs": [],
   "source": [
    "import pandas as pd"
   ]
  },
  {
   "cell_type": "code",
   "execution_count": null,
   "id": "7222925f",
   "metadata": {},
   "outputs": [],
   "source": [
    "pd.co"
   ]
  }
 ],
 "metadata": {
  "kernelspec": {
   "display_name": "Python 3 (ipykernel)",
   "language": "python",
   "name": "python3"
  },
  "language_info": {
   "codemirror_mode": {
    "name": "ipython",
    "version": 3
   },
   "file_extension": ".py",
   "mimetype": "text/x-python",
   "name": "python",
   "nbconvert_exporter": "python",
   "pygments_lexer": "ipython3",
   "version": "3.9.7"
  }
 },
 "nbformat": 4,
 "nbformat_minor": 5
}
