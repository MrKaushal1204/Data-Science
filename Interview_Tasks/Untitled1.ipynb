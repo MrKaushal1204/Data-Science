{
 "cells": [
  {
   "cell_type": "code",
   "execution_count": 1,
   "id": "762de3a8",
   "metadata": {},
   "outputs": [
    {
     "name": "stdout",
     "output_type": "stream",
     "text": [
      "aaljdfSdf \n",
      "AaljdfSdf\n",
      "1\n",
      "1\n",
      "0\n"
     ]
    }
   ],
   "source": [
    "paragraph = input().split()\n",
    "new_list_a = []\n",
    "no_of_words_count = 0\n",
    "\n",
    "for i in paragraph:  # converting text to uppercase where there are lower cases at starting of a word.\n",
    "    if i[0].islower():\n",
    "        new_word = i[0].upper() + i[1:]\n",
    "        new_list_a.append(new_word)\n",
    "    else:\n",
    "        new_list_a.append(i)\n",
    "    no_of_words_count += 1\n",
    "result_paragraph = \" \".join(new_list_a)\n",
    "\n",
    "vowel_word_counter = 0\n",
    "for j in paragraph: # checking the word if it has vowels minimum of 2.\n",
    "    count = 0\n",
    "    length = len(j)\n",
    "    for k in range(length):\n",
    "        if (j[k] == 'a' or j[k] == \"e\" or j[k] == \"i\" or j[k]== \"o\" or j[k] == \"u\") or (j[k] == \"A\" or j[k] == \"E\" or j[k] ==\"I\" or j[k] == \"O\" or j[k] == \"U\"):\n",
    "            count += 1\n",
    "    if count >= 2:\n",
    "        vowel_word_counter += 1\n",
    "\n",
    "\n",
    "\n",
    "new_list_of_words = []\n",
    "for l in paragraph: # logic for non_repeating_letter_count in a word\n",
    "    length_of_l = len(l)\n",
    "    if len(l) >= 5:\n",
    "        new_list_of_words.append(l)\n",
    "        non_repeating_letter_count = 0\n",
    "    for m in range(len(new_list_of_words)):\n",
    "        for n in range(m+1):\n",
    "            if new_list_of_words[m][n] in new_list_of_words[m][n+1:]:\n",
    "                non_repeating_letter_count = 0\n",
    "            else:\n",
    "                non_repeating_letter_count += 1\n",
    "\n",
    "print(result_paragraph) # printing the text in uppercase\n",
    "print(no_of_words_count) # printing the count of words.\n",
    "print(vowel_word_counter) # printing the count of words that contain vowels minimum 2.\n",
    "print(non_repeating_letter_count) # printing the words that are non_repeating_letters in a word.\n"
   ]
  }
 ],
 "metadata": {
  "kernelspec": {
   "display_name": "Python 3 (ipykernel)",
   "language": "python",
   "name": "python3"
  },
  "language_info": {
   "codemirror_mode": {
    "name": "ipython",
    "version": 3
   },
   "file_extension": ".py",
   "mimetype": "text/x-python",
   "name": "python",
   "nbconvert_exporter": "python",
   "pygments_lexer": "ipython3",
   "version": "3.9.7"
  }
 },
 "nbformat": 4,
 "nbformat_minor": 5
}
